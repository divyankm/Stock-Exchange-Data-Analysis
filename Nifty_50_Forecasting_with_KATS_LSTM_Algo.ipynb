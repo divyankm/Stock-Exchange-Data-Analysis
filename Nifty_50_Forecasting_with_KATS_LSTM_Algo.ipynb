{
  "nbformat": 4,
  "nbformat_minor": 0,
  "metadata": {
    "colab": {
      "name": "Nifty 50 Forecasting with KATS LSTM Algo.ipynb",
      "provenance": [],
      "collapsed_sections": [],
      "toc_visible": true
    },
    "kernelspec": {
      "name": "python3",
      "display_name": "Python 3"
    },
    "language_info": {
      "name": "python"
    }
  },
  "cells": [
    {
      "cell_type": "code",
      "source": [
        "#Using Google Colab Notebook to run .ipynb files\n",
        "\n",
        "!pip install investpy #Installing library to Fetch Data\n",
        "!pip install yfinance #Installing library to Fetch Date\n",
        "!pip install kats     #Install KATS Library\n",
        "# !pip install --upgrade pip"
      ],
      "metadata": {
        "colab": {
          "base_uri": "https://localhost:8080/",
          "height": 1000
        },
        "id": "BoQqK91OLogY",
        "outputId": "d2009c5c-2107-4695-f938-0532c8db0e1d"
      },
      "execution_count": 6,
      "outputs": [
        {
          "output_type": "stream",
          "name": "stdout",
          "text": [
            "Collecting investpy\n",
            "  Downloading investpy-1.0.8.tar.gz (4.4 MB)\n",
            "\u001b[K     |████████████████████████████████| 4.4 MB 11.8 MB/s \n",
            "\u001b[?25hCollecting Unidecode>=1.1.1\n",
            "  Downloading Unidecode-1.3.4-py3-none-any.whl (235 kB)\n",
            "\u001b[K     |████████████████████████████████| 235 kB 66.9 MB/s \n",
            "\u001b[?25hRequirement already satisfied: setuptools>=41.2.0 in /usr/local/lib/python3.7/dist-packages (from investpy) (57.4.0)\n",
            "Requirement already satisfied: numpy>=1.17.2 in /usr/local/lib/python3.7/dist-packages (from investpy) (1.21.6)\n",
            "Requirement already satisfied: pandas>=0.25.1 in /usr/local/lib/python3.7/dist-packages (from investpy) (1.3.5)\n",
            "Collecting lxml>=4.4.1\n",
            "  Downloading lxml-4.8.0-cp37-cp37m-manylinux_2_17_x86_64.manylinux2014_x86_64.manylinux_2_24_x86_64.whl (6.4 MB)\n",
            "\u001b[K     |████████████████████████████████| 6.4 MB 55.2 MB/s \n",
            "\u001b[?25hRequirement already satisfied: requests>=2.22.0 in /usr/local/lib/python3.7/dist-packages (from investpy) (2.23.0)\n",
            "Requirement already satisfied: pytz>=2019.3 in /usr/local/lib/python3.7/dist-packages (from investpy) (2022.1)\n",
            "Requirement already satisfied: python-dateutil>=2.7.3 in /usr/local/lib/python3.7/dist-packages (from pandas>=0.25.1->investpy) (2.8.2)\n",
            "Requirement already satisfied: six>=1.5 in /usr/local/lib/python3.7/dist-packages (from python-dateutil>=2.7.3->pandas>=0.25.1->investpy) (1.15.0)\n",
            "Requirement already satisfied: certifi>=2017.4.17 in /usr/local/lib/python3.7/dist-packages (from requests>=2.22.0->investpy) (2021.10.8)\n",
            "Requirement already satisfied: chardet<4,>=3.0.2 in /usr/local/lib/python3.7/dist-packages (from requests>=2.22.0->investpy) (3.0.4)\n",
            "Requirement already satisfied: idna<3,>=2.5 in /usr/local/lib/python3.7/dist-packages (from requests>=2.22.0->investpy) (2.10)\n",
            "Requirement already satisfied: urllib3!=1.25.0,!=1.25.1,<1.26,>=1.21.1 in /usr/local/lib/python3.7/dist-packages (from requests>=2.22.0->investpy) (1.24.3)\n",
            "Building wheels for collected packages: investpy\n",
            "  Building wheel for investpy (setup.py) ... \u001b[?25l\u001b[?25hdone\n",
            "  Created wheel for investpy: filename=investpy-1.0.8-py3-none-any.whl size=4481592 sha256=30b5ee7610ace71a9c65a64cb329c82516c99a127b51d73bd9e0408335d855f4\n",
            "  Stored in directory: /root/.cache/pip/wheels/96/a8/a5/0d33c72eaf00b41df7b9dc1e15d2b7c7154b3f1379ed350211\n",
            "Successfully built investpy\n",
            "Installing collected packages: Unidecode, lxml, investpy\n",
            "  Attempting uninstall: lxml\n",
            "    Found existing installation: lxml 4.2.6\n",
            "    Uninstalling lxml-4.2.6:\n",
            "      Successfully uninstalled lxml-4.2.6\n",
            "Successfully installed Unidecode-1.3.4 investpy-1.0.8 lxml-4.8.0\n",
            "Collecting yfinance\n",
            "  Downloading yfinance-0.1.70-py2.py3-none-any.whl (26 kB)\n",
            "Requirement already satisfied: pandas>=0.24.0 in /usr/local/lib/python3.7/dist-packages (from yfinance) (1.3.5)\n",
            "Collecting requests>=2.26\n",
            "  Downloading requests-2.27.1-py2.py3-none-any.whl (63 kB)\n",
            "\u001b[K     |████████████████████████████████| 63 kB 1.3 MB/s \n",
            "\u001b[?25hRequirement already satisfied: numpy>=1.15 in /usr/local/lib/python3.7/dist-packages (from yfinance) (1.21.6)\n",
            "Requirement already satisfied: lxml>=4.5.1 in /usr/local/lib/python3.7/dist-packages (from yfinance) (4.8.0)\n",
            "Requirement already satisfied: multitasking>=0.0.7 in /usr/local/lib/python3.7/dist-packages (from yfinance) (0.0.10)\n",
            "Requirement already satisfied: python-dateutil>=2.7.3 in /usr/local/lib/python3.7/dist-packages (from pandas>=0.24.0->yfinance) (2.8.2)\n",
            "Requirement already satisfied: pytz>=2017.3 in /usr/local/lib/python3.7/dist-packages (from pandas>=0.24.0->yfinance) (2022.1)\n",
            "Requirement already satisfied: six>=1.5 in /usr/local/lib/python3.7/dist-packages (from python-dateutil>=2.7.3->pandas>=0.24.0->yfinance) (1.15.0)\n",
            "Requirement already satisfied: urllib3<1.27,>=1.21.1 in /usr/local/lib/python3.7/dist-packages (from requests>=2.26->yfinance) (1.24.3)\n",
            "Requirement already satisfied: idna<4,>=2.5 in /usr/local/lib/python3.7/dist-packages (from requests>=2.26->yfinance) (2.10)\n",
            "Requirement already satisfied: certifi>=2017.4.17 in /usr/local/lib/python3.7/dist-packages (from requests>=2.26->yfinance) (2021.10.8)\n",
            "Requirement already satisfied: charset-normalizer~=2.0.0 in /usr/local/lib/python3.7/dist-packages (from requests>=2.26->yfinance) (2.0.12)\n",
            "Installing collected packages: requests, yfinance\n",
            "  Attempting uninstall: requests\n",
            "    Found existing installation: requests 2.23.0\n",
            "    Uninstalling requests-2.23.0:\n",
            "      Successfully uninstalled requests-2.23.0\n",
            "\u001b[31mERROR: pip's dependency resolver does not currently take into account all the packages that are installed. This behaviour is the source of the following dependency conflicts.\n",
            "google-colab 1.0.0 requires requests~=2.23.0, but you have requests 2.27.1 which is incompatible.\n",
            "datascience 0.10.6 requires folium==0.2.1, but you have folium 0.8.3 which is incompatible.\u001b[0m\n",
            "Successfully installed requests-2.27.1 yfinance-0.1.70\n"
          ]
        },
        {
          "output_type": "display_data",
          "data": {
            "application/vnd.colab-display-data+json": {
              "pip_warning": {
                "packages": [
                  "requests"
                ]
              }
            }
          },
          "metadata": {}
        },
        {
          "output_type": "stream",
          "name": "stdout",
          "text": [
            "Requirement already satisfied: kats in /usr/local/lib/python3.7/dist-packages (0.2.0)\n",
            "Requirement already satisfied: numpy<1.22,>=1.21 in /usr/local/lib/python3.7/dist-packages (from kats) (1.21.6)\n",
            "Requirement already satisfied: torch in /usr/local/lib/python3.7/dist-packages (from kats) (1.11.0+cu113)\n",
            "Requirement already satisfied: holidays>=0.10.2 in /usr/local/lib/python3.7/dist-packages (from kats) (0.10.5.2)\n",
            "Requirement already satisfied: scikit-learn>=0.24.2 in /usr/local/lib/python3.7/dist-packages (from kats) (1.0.2)\n",
            "Requirement already satisfied: pymannkendall>=1.4.1 in /usr/local/lib/python3.7/dist-packages (from kats) (1.4.2)\n",
            "Requirement already satisfied: LunarCalendar>=0.0.9 in /usr/local/lib/python3.7/dist-packages (from kats) (0.0.9)\n",
            "Requirement already satisfied: seaborn>=0.11.1 in /usr/local/lib/python3.7/dist-packages (from kats) (0.11.2)\n",
            "Requirement already satisfied: numba>=0.52.0 in /usr/local/lib/python3.7/dist-packages (from kats) (0.55.1)\n",
            "Requirement already satisfied: matplotlib>=2.0.0 in /usr/local/lib/python3.7/dist-packages (from kats) (3.2.2)\n",
            "Requirement already satisfied: ax-platform==0.2.4 in /usr/local/lib/python3.7/dist-packages (from kats) (0.2.4)\n",
            "Requirement already satisfied: parameterized>=0.8.1 in /usr/local/lib/python3.7/dist-packages (from kats) (0.8.1)\n",
            "Requirement already satisfied: importlib-metadata in /usr/local/lib/python3.7/dist-packages (from kats) (4.11.3)\n",
            "Requirement already satisfied: tqdm>=4.36.1 in /usr/local/lib/python3.7/dist-packages (from kats) (4.64.0)\n",
            "Requirement already satisfied: plotly>=2.2.1 in /usr/local/lib/python3.7/dist-packages (from kats) (5.5.0)\n",
            "Requirement already satisfied: statsmodels==0.12.2 in /usr/local/lib/python3.7/dist-packages (from kats) (0.12.2)\n",
            "Requirement already satisfied: fbprophet==0.7.1 in /usr/local/lib/python3.7/dist-packages (from kats) (0.7.1)\n",
            "Requirement already satisfied: deprecated>=1.2.12 in /usr/local/lib/python3.7/dist-packages (from kats) (1.2.13)\n",
            "Requirement already satisfied: python-dateutil>=2.8.0 in /usr/local/lib/python3.7/dist-packages (from kats) (2.8.2)\n",
            "Requirement already satisfied: pystan==2.19.1.1 in /usr/local/lib/python3.7/dist-packages (from kats) (2.19.1.1)\n",
            "Requirement already satisfied: typing-extensions in /usr/local/lib/python3.7/dist-packages (from kats) (4.2.0)\n",
            "Requirement already satisfied: pytest-mpl>=0.12 in /usr/local/lib/python3.7/dist-packages (from kats) (0.15.1)\n",
            "Requirement already satisfied: gpytorch in /usr/local/lib/python3.7/dist-packages (from kats) (1.6.0)\n",
            "Requirement already satisfied: pandas<=1.3.5,>=1.0.4 in /usr/local/lib/python3.7/dist-packages (from kats) (1.3.5)\n",
            "Requirement already satisfied: setuptools-git>=1.2 in /usr/local/lib/python3.7/dist-packages (from kats) (1.2)\n",
            "Requirement already satisfied: scipy<1.8.0 in /usr/local/lib/python3.7/dist-packages (from kats) (1.4.1)\n",
            "Requirement already satisfied: attrs>=21.2.0 in /usr/local/lib/python3.7/dist-packages (from kats) (21.4.0)\n",
            "Requirement already satisfied: jinja2 in /usr/local/lib/python3.7/dist-packages (from ax-platform==0.2.4->kats) (2.11.3)\n",
            "Requirement already satisfied: typeguard in /usr/local/lib/python3.7/dist-packages (from ax-platform==0.2.4->kats) (2.7.1)\n",
            "Requirement already satisfied: botorch==0.6.2 in /usr/local/lib/python3.7/dist-packages (from ax-platform==0.2.4->kats) (0.6.2)\n",
            "Requirement already satisfied: multipledispatch in /usr/local/lib/python3.7/dist-packages (from botorch==0.6.2->ax-platform==0.2.4->kats) (0.6.0)\n",
            "Requirement already satisfied: Cython>=0.22 in /usr/local/lib/python3.7/dist-packages (from fbprophet==0.7.1->kats) (0.29.28)\n",
            "Requirement already satisfied: cmdstanpy==0.9.5 in /usr/local/lib/python3.7/dist-packages (from fbprophet==0.7.1->kats) (0.9.5)\n",
            "Requirement already satisfied: convertdate>=2.1.2 in /usr/local/lib/python3.7/dist-packages (from fbprophet==0.7.1->kats) (2.4.0)\n",
            "Requirement already satisfied: patsy>=0.5 in /usr/local/lib/python3.7/dist-packages (from statsmodels==0.12.2->kats) (0.5.2)\n",
            "Requirement already satisfied: pymeeus<=1,>=0.3.13 in /usr/local/lib/python3.7/dist-packages (from convertdate>=2.1.2->fbprophet==0.7.1->kats) (0.5.11)\n",
            "Requirement already satisfied: wrapt<2,>=1.10 in /usr/local/lib/python3.7/dist-packages (from deprecated>=1.2.12->kats) (1.14.0)\n",
            "Requirement already satisfied: six in /usr/local/lib/python3.7/dist-packages (from holidays>=0.10.2->kats) (1.15.0)\n",
            "Requirement already satisfied: korean-lunar-calendar in /usr/local/lib/python3.7/dist-packages (from holidays>=0.10.2->kats) (0.2.1)\n",
            "Requirement already satisfied: hijri-converter in /usr/local/lib/python3.7/dist-packages (from holidays>=0.10.2->kats) (2.2.3)\n",
            "Requirement already satisfied: pytz in /usr/local/lib/python3.7/dist-packages (from LunarCalendar>=0.0.9->kats) (2022.1)\n",
            "Requirement already satisfied: ephem>=3.7.5.3 in /usr/local/lib/python3.7/dist-packages (from LunarCalendar>=0.0.9->kats) (4.1.3)\n",
            "Requirement already satisfied: pyparsing!=2.0.4,!=2.1.2,!=2.1.6,>=2.0.1 in /usr/local/lib/python3.7/dist-packages (from matplotlib>=2.0.0->kats) (3.0.8)\n",
            "Requirement already satisfied: kiwisolver>=1.0.1 in /usr/local/lib/python3.7/dist-packages (from matplotlib>=2.0.0->kats) (1.4.2)\n",
            "Requirement already satisfied: cycler>=0.10 in /usr/local/lib/python3.7/dist-packages (from matplotlib>=2.0.0->kats) (0.11.0)\n",
            "Requirement already satisfied: llvmlite<0.39,>=0.38.0rc1 in /usr/local/lib/python3.7/dist-packages (from numba>=0.52.0->kats) (0.38.0)\n",
            "Requirement already satisfied: setuptools in /usr/local/lib/python3.7/dist-packages (from numba>=0.52.0->kats) (57.4.0)\n",
            "Requirement already satisfied: tenacity>=6.2.0 in /usr/local/lib/python3.7/dist-packages (from plotly>=2.2.1->kats) (8.0.1)\n",
            "Requirement already satisfied: pytest in /usr/local/lib/python3.7/dist-packages (from pytest-mpl>=0.12->kats) (3.6.4)\n",
            "Requirement already satisfied: packaging in /usr/local/lib/python3.7/dist-packages (from pytest-mpl>=0.12->kats) (21.3)\n",
            "Requirement already satisfied: importlib-resources in /usr/local/lib/python3.7/dist-packages (from pytest-mpl>=0.12->kats) (5.7.1)\n",
            "Requirement already satisfied: joblib>=0.11 in /usr/local/lib/python3.7/dist-packages (from scikit-learn>=0.24.2->kats) (1.1.0)\n",
            "Requirement already satisfied: threadpoolctl>=2.0.0 in /usr/local/lib/python3.7/dist-packages (from scikit-learn>=0.24.2->kats) (3.1.0)\n",
            "Requirement already satisfied: zipp>=0.5 in /usr/local/lib/python3.7/dist-packages (from importlib-metadata->kats) (3.8.0)\n",
            "Requirement already satisfied: MarkupSafe>=0.23 in /usr/local/lib/python3.7/dist-packages (from jinja2->ax-platform==0.2.4->kats) (2.0.1)\n",
            "Requirement already satisfied: more-itertools>=4.0.0 in /usr/local/lib/python3.7/dist-packages (from pytest->pytest-mpl>=0.12->kats) (8.12.0)\n",
            "Requirement already satisfied: pluggy<0.8,>=0.5 in /usr/local/lib/python3.7/dist-packages (from pytest->pytest-mpl>=0.12->kats) (0.7.1)\n",
            "Requirement already satisfied: atomicwrites>=1.0 in /usr/local/lib/python3.7/dist-packages (from pytest->pytest-mpl>=0.12->kats) (1.4.0)\n",
            "Requirement already satisfied: py>=1.5.0 in /usr/local/lib/python3.7/dist-packages (from pytest->pytest-mpl>=0.12->kats) (1.11.0)\n"
          ]
        }
      ]
    },
    {
      "cell_type": "code",
      "metadata": {
        "id": "iKSv8GLkpjBX"
      },
      "source": [
        "#!pip install auto-ts  #It will install AUTO TS library , commented out as we are using KATS Forecasting library"
      ],
      "execution_count": 4,
      "outputs": []
    },
    {
      "cell_type": "code",
      "metadata": {
        "id": "gHE6F5vePOfW"
      },
      "source": [
        "#import libraries\n",
        "from datetime import datetime, timedelta\n",
        "import sys\n",
        "import matplotlib.pyplot as plt\n",
        "import warnings\n",
        "from kats.consts import TimeSeriesData #already has lstm, and maybe all models\n",
        "# from auto_ts import auto_timeseries #another auto ensembler\n",
        "\n",
        "import numpy as np\n",
        "import pandas as pd\n",
        "from pandas_datareader import data as wb\n",
        "from scipy.stats import norm\n",
        "import seaborn as sns\n",
        "import investpy\n",
        "from datetime import date\n",
        "import plotly.graph_objects as go\n",
        "import math\n",
        "import yfinance as yf\n",
        "import plotly.io as pio"
      ],
      "execution_count": 7,
      "outputs": []
    },
    {
      "cell_type": "markdown",
      "metadata": {
        "id": "CXlJWfCSjYqO"
      },
      "source": [
        "\n",
        "\n",
        "##NIFTY 50 Forecasting Data\n",
        "\n"
      ]
    },
    {
      "cell_type": "code",
      "source": [
        "#Extracting Last 1 year data of NF using investpy library \n",
        "today = datetime.now()\n",
        "today = today.strftime(\"%d/%m/%Y\")\n",
        "one_year= datetime.today() - timedelta(days=370)\n",
        "one_year = one_year.strftime(\"%d/%m/%Y\")\n",
        "\n",
        "df = investpy.get_index_historical_data(index=\"Nifty 50\",country=\"India\",from_date=str(one_year),to_date= str(today))\n",
        "df.head()"
      ],
      "metadata": {
        "colab": {
          "base_uri": "https://localhost:8080/",
          "height": 238
        },
        "id": "SR7ZF9o-LWyr",
        "outputId": "daa6aa2c-be03-4999-a162-de5f3803dac3"
      },
      "execution_count": 8,
      "outputs": [
        {
          "output_type": "execute_result",
          "data": {
            "text/plain": [
              "                Open      High       Low     Close        Volume Currency\n",
              "Date                                                                     \n",
              "2021-05-10  14928.25  14966.90  14892.50  14942.35  510598578176      INR\n",
              "2021-05-11  14789.70  14900.00  14771.40  14850.75  616204468224      INR\n",
              "2021-05-12  14823.55  14824.05  14649.70  14696.50  620318228480      INR\n",
              "2021-05-14  14749.40  14749.65  14591.90  14677.80  602738589696      INR\n",
              "2021-05-17  14756.25  14938.00  14725.35  14923.15  534516170752      INR"
            ],
            "text/html": [
              "\n",
              "  <div id=\"df-332fcd3a-5971-42d6-b8f2-4aa5fd5e6688\">\n",
              "    <div class=\"colab-df-container\">\n",
              "      <div>\n",
              "<style scoped>\n",
              "    .dataframe tbody tr th:only-of-type {\n",
              "        vertical-align: middle;\n",
              "    }\n",
              "\n",
              "    .dataframe tbody tr th {\n",
              "        vertical-align: top;\n",
              "    }\n",
              "\n",
              "    .dataframe thead th {\n",
              "        text-align: right;\n",
              "    }\n",
              "</style>\n",
              "<table border=\"1\" class=\"dataframe\">\n",
              "  <thead>\n",
              "    <tr style=\"text-align: right;\">\n",
              "      <th></th>\n",
              "      <th>Open</th>\n",
              "      <th>High</th>\n",
              "      <th>Low</th>\n",
              "      <th>Close</th>\n",
              "      <th>Volume</th>\n",
              "      <th>Currency</th>\n",
              "    </tr>\n",
              "    <tr>\n",
              "      <th>Date</th>\n",
              "      <th></th>\n",
              "      <th></th>\n",
              "      <th></th>\n",
              "      <th></th>\n",
              "      <th></th>\n",
              "      <th></th>\n",
              "    </tr>\n",
              "  </thead>\n",
              "  <tbody>\n",
              "    <tr>\n",
              "      <th>2021-05-10</th>\n",
              "      <td>14928.25</td>\n",
              "      <td>14966.90</td>\n",
              "      <td>14892.50</td>\n",
              "      <td>14942.35</td>\n",
              "      <td>510598578176</td>\n",
              "      <td>INR</td>\n",
              "    </tr>\n",
              "    <tr>\n",
              "      <th>2021-05-11</th>\n",
              "      <td>14789.70</td>\n",
              "      <td>14900.00</td>\n",
              "      <td>14771.40</td>\n",
              "      <td>14850.75</td>\n",
              "      <td>616204468224</td>\n",
              "      <td>INR</td>\n",
              "    </tr>\n",
              "    <tr>\n",
              "      <th>2021-05-12</th>\n",
              "      <td>14823.55</td>\n",
              "      <td>14824.05</td>\n",
              "      <td>14649.70</td>\n",
              "      <td>14696.50</td>\n",
              "      <td>620318228480</td>\n",
              "      <td>INR</td>\n",
              "    </tr>\n",
              "    <tr>\n",
              "      <th>2021-05-14</th>\n",
              "      <td>14749.40</td>\n",
              "      <td>14749.65</td>\n",
              "      <td>14591.90</td>\n",
              "      <td>14677.80</td>\n",
              "      <td>602738589696</td>\n",
              "      <td>INR</td>\n",
              "    </tr>\n",
              "    <tr>\n",
              "      <th>2021-05-17</th>\n",
              "      <td>14756.25</td>\n",
              "      <td>14938.00</td>\n",
              "      <td>14725.35</td>\n",
              "      <td>14923.15</td>\n",
              "      <td>534516170752</td>\n",
              "      <td>INR</td>\n",
              "    </tr>\n",
              "  </tbody>\n",
              "</table>\n",
              "</div>\n",
              "      <button class=\"colab-df-convert\" onclick=\"convertToInteractive('df-332fcd3a-5971-42d6-b8f2-4aa5fd5e6688')\"\n",
              "              title=\"Convert this dataframe to an interactive table.\"\n",
              "              style=\"display:none;\">\n",
              "        \n",
              "  <svg xmlns=\"http://www.w3.org/2000/svg\" height=\"24px\"viewBox=\"0 0 24 24\"\n",
              "       width=\"24px\">\n",
              "    <path d=\"M0 0h24v24H0V0z\" fill=\"none\"/>\n",
              "    <path d=\"M18.56 5.44l.94 2.06.94-2.06 2.06-.94-2.06-.94-.94-2.06-.94 2.06-2.06.94zm-11 1L8.5 8.5l.94-2.06 2.06-.94-2.06-.94L8.5 2.5l-.94 2.06-2.06.94zm10 10l.94 2.06.94-2.06 2.06-.94-2.06-.94-.94-2.06-.94 2.06-2.06.94z\"/><path d=\"M17.41 7.96l-1.37-1.37c-.4-.4-.92-.59-1.43-.59-.52 0-1.04.2-1.43.59L10.3 9.45l-7.72 7.72c-.78.78-.78 2.05 0 2.83L4 21.41c.39.39.9.59 1.41.59.51 0 1.02-.2 1.41-.59l7.78-7.78 2.81-2.81c.8-.78.8-2.07 0-2.86zM5.41 20L4 18.59l7.72-7.72 1.47 1.35L5.41 20z\"/>\n",
              "  </svg>\n",
              "      </button>\n",
              "      \n",
              "  <style>\n",
              "    .colab-df-container {\n",
              "      display:flex;\n",
              "      flex-wrap:wrap;\n",
              "      gap: 12px;\n",
              "    }\n",
              "\n",
              "    .colab-df-convert {\n",
              "      background-color: #E8F0FE;\n",
              "      border: none;\n",
              "      border-radius: 50%;\n",
              "      cursor: pointer;\n",
              "      display: none;\n",
              "      fill: #1967D2;\n",
              "      height: 32px;\n",
              "      padding: 0 0 0 0;\n",
              "      width: 32px;\n",
              "    }\n",
              "\n",
              "    .colab-df-convert:hover {\n",
              "      background-color: #E2EBFA;\n",
              "      box-shadow: 0px 1px 2px rgba(60, 64, 67, 0.3), 0px 1px 3px 1px rgba(60, 64, 67, 0.15);\n",
              "      fill: #174EA6;\n",
              "    }\n",
              "\n",
              "    [theme=dark] .colab-df-convert {\n",
              "      background-color: #3B4455;\n",
              "      fill: #D2E3FC;\n",
              "    }\n",
              "\n",
              "    [theme=dark] .colab-df-convert:hover {\n",
              "      background-color: #434B5C;\n",
              "      box-shadow: 0px 1px 3px 1px rgba(0, 0, 0, 0.15);\n",
              "      filter: drop-shadow(0px 1px 2px rgba(0, 0, 0, 0.3));\n",
              "      fill: #FFFFFF;\n",
              "    }\n",
              "  </style>\n",
              "\n",
              "      <script>\n",
              "        const buttonEl =\n",
              "          document.querySelector('#df-332fcd3a-5971-42d6-b8f2-4aa5fd5e6688 button.colab-df-convert');\n",
              "        buttonEl.style.display =\n",
              "          google.colab.kernel.accessAllowed ? 'block' : 'none';\n",
              "\n",
              "        async function convertToInteractive(key) {\n",
              "          const element = document.querySelector('#df-332fcd3a-5971-42d6-b8f2-4aa5fd5e6688');\n",
              "          const dataTable =\n",
              "            await google.colab.kernel.invokeFunction('convertToInteractive',\n",
              "                                                     [key], {});\n",
              "          if (!dataTable) return;\n",
              "\n",
              "          const docLinkHtml = 'Like what you see? Visit the ' +\n",
              "            '<a target=\"_blank\" href=https://colab.research.google.com/notebooks/data_table.ipynb>data table notebook</a>'\n",
              "            + ' to learn more about interactive tables.';\n",
              "          element.innerHTML = '';\n",
              "          dataTable['output_type'] = 'display_data';\n",
              "          await google.colab.output.renderOutput(dataTable, element);\n",
              "          const docLink = document.createElement('div');\n",
              "          docLink.innerHTML = docLinkHtml;\n",
              "          element.appendChild(docLink);\n",
              "        }\n",
              "      </script>\n",
              "    </div>\n",
              "  </div>\n",
              "  "
            ]
          },
          "metadata": {},
          "execution_count": 8
        }
      ]
    },
    {
      "cell_type": "code",
      "source": [
        "df.index"
      ],
      "metadata": {
        "colab": {
          "base_uri": "https://localhost:8080/"
        },
        "id": "0u5aDpbONPCg",
        "outputId": "d87d764b-8166-47f6-fa1d-8dfbfcca0baa"
      },
      "execution_count": 9,
      "outputs": [
        {
          "output_type": "execute_result",
          "data": {
            "text/plain": [
              "DatetimeIndex(['2021-05-10', '2021-05-11', '2021-05-12', '2021-05-14',\n",
              "               '2021-05-17', '2021-05-18', '2021-05-19', '2021-05-20',\n",
              "               '2021-05-21', '2021-05-24',\n",
              "               ...\n",
              "               '2022-04-29', '2022-05-02', '2022-05-04', '2022-05-05',\n",
              "               '2022-05-06', '2022-05-09', '2022-05-10', '2022-05-11',\n",
              "               '2022-05-12', '2022-05-13'],\n",
              "              dtype='datetime64[ns]', name='Date', length=252, freq=None)"
            ]
          },
          "metadata": {},
          "execution_count": 9
        }
      ]
    },
    {
      "cell_type": "code",
      "source": [
        "df.reset_index(inplace = True)\n",
        "df.info()"
      ],
      "metadata": {
        "colab": {
          "base_uri": "https://localhost:8080/"
        },
        "id": "eYf1Rr8uSDUx",
        "outputId": "058426b6-cb24-4095-f8d6-f813512dafe2"
      },
      "execution_count": 10,
      "outputs": [
        {
          "output_type": "stream",
          "name": "stdout",
          "text": [
            "<class 'pandas.core.frame.DataFrame'>\n",
            "RangeIndex: 252 entries, 0 to 251\n",
            "Data columns (total 7 columns):\n",
            " #   Column    Non-Null Count  Dtype         \n",
            "---  ------    --------------  -----         \n",
            " 0   Date      252 non-null    datetime64[ns]\n",
            " 1   Open      252 non-null    float64       \n",
            " 2   High      252 non-null    float64       \n",
            " 3   Low       252 non-null    float64       \n",
            " 4   Close     252 non-null    float64       \n",
            " 5   Volume    252 non-null    int64         \n",
            " 6   Currency  252 non-null    object        \n",
            "dtypes: datetime64[ns](1), float64(4), int64(1), object(1)\n",
            "memory usage: 13.9+ KB\n"
          ]
        }
      ]
    },
    {
      "cell_type": "code",
      "source": [
        "df_close = df[[\"Date\",\"Close\"]]\n",
        "df_close"
      ],
      "metadata": {
        "colab": {
          "base_uri": "https://localhost:8080/",
          "height": 424
        },
        "id": "3jxdAY2TOoLC",
        "outputId": "a0625f73-637c-421e-d3e5-ad197c4ec8d6"
      },
      "execution_count": 11,
      "outputs": [
        {
          "output_type": "execute_result",
          "data": {
            "text/plain": [
              "          Date     Close\n",
              "0   2021-05-10  14942.35\n",
              "1   2021-05-11  14850.75\n",
              "2   2021-05-12  14696.50\n",
              "3   2021-05-14  14677.80\n",
              "4   2021-05-17  14923.15\n",
              "..         ...       ...\n",
              "247 2022-05-09  16301.85\n",
              "248 2022-05-10  16240.05\n",
              "249 2022-05-11  16167.10\n",
              "250 2022-05-12  15808.00\n",
              "251 2022-05-13  15782.15\n",
              "\n",
              "[252 rows x 2 columns]"
            ],
            "text/html": [
              "\n",
              "  <div id=\"df-4aa3e32a-dbe9-48f5-8d97-b07cd27d91b1\">\n",
              "    <div class=\"colab-df-container\">\n",
              "      <div>\n",
              "<style scoped>\n",
              "    .dataframe tbody tr th:only-of-type {\n",
              "        vertical-align: middle;\n",
              "    }\n",
              "\n",
              "    .dataframe tbody tr th {\n",
              "        vertical-align: top;\n",
              "    }\n",
              "\n",
              "    .dataframe thead th {\n",
              "        text-align: right;\n",
              "    }\n",
              "</style>\n",
              "<table border=\"1\" class=\"dataframe\">\n",
              "  <thead>\n",
              "    <tr style=\"text-align: right;\">\n",
              "      <th></th>\n",
              "      <th>Date</th>\n",
              "      <th>Close</th>\n",
              "    </tr>\n",
              "  </thead>\n",
              "  <tbody>\n",
              "    <tr>\n",
              "      <th>0</th>\n",
              "      <td>2021-05-10</td>\n",
              "      <td>14942.35</td>\n",
              "    </tr>\n",
              "    <tr>\n",
              "      <th>1</th>\n",
              "      <td>2021-05-11</td>\n",
              "      <td>14850.75</td>\n",
              "    </tr>\n",
              "    <tr>\n",
              "      <th>2</th>\n",
              "      <td>2021-05-12</td>\n",
              "      <td>14696.50</td>\n",
              "    </tr>\n",
              "    <tr>\n",
              "      <th>3</th>\n",
              "      <td>2021-05-14</td>\n",
              "      <td>14677.80</td>\n",
              "    </tr>\n",
              "    <tr>\n",
              "      <th>4</th>\n",
              "      <td>2021-05-17</td>\n",
              "      <td>14923.15</td>\n",
              "    </tr>\n",
              "    <tr>\n",
              "      <th>...</th>\n",
              "      <td>...</td>\n",
              "      <td>...</td>\n",
              "    </tr>\n",
              "    <tr>\n",
              "      <th>247</th>\n",
              "      <td>2022-05-09</td>\n",
              "      <td>16301.85</td>\n",
              "    </tr>\n",
              "    <tr>\n",
              "      <th>248</th>\n",
              "      <td>2022-05-10</td>\n",
              "      <td>16240.05</td>\n",
              "    </tr>\n",
              "    <tr>\n",
              "      <th>249</th>\n",
              "      <td>2022-05-11</td>\n",
              "      <td>16167.10</td>\n",
              "    </tr>\n",
              "    <tr>\n",
              "      <th>250</th>\n",
              "      <td>2022-05-12</td>\n",
              "      <td>15808.00</td>\n",
              "    </tr>\n",
              "    <tr>\n",
              "      <th>251</th>\n",
              "      <td>2022-05-13</td>\n",
              "      <td>15782.15</td>\n",
              "    </tr>\n",
              "  </tbody>\n",
              "</table>\n",
              "<p>252 rows × 2 columns</p>\n",
              "</div>\n",
              "      <button class=\"colab-df-convert\" onclick=\"convertToInteractive('df-4aa3e32a-dbe9-48f5-8d97-b07cd27d91b1')\"\n",
              "              title=\"Convert this dataframe to an interactive table.\"\n",
              "              style=\"display:none;\">\n",
              "        \n",
              "  <svg xmlns=\"http://www.w3.org/2000/svg\" height=\"24px\"viewBox=\"0 0 24 24\"\n",
              "       width=\"24px\">\n",
              "    <path d=\"M0 0h24v24H0V0z\" fill=\"none\"/>\n",
              "    <path d=\"M18.56 5.44l.94 2.06.94-2.06 2.06-.94-2.06-.94-.94-2.06-.94 2.06-2.06.94zm-11 1L8.5 8.5l.94-2.06 2.06-.94-2.06-.94L8.5 2.5l-.94 2.06-2.06.94zm10 10l.94 2.06.94-2.06 2.06-.94-2.06-.94-.94-2.06-.94 2.06-2.06.94z\"/><path d=\"M17.41 7.96l-1.37-1.37c-.4-.4-.92-.59-1.43-.59-.52 0-1.04.2-1.43.59L10.3 9.45l-7.72 7.72c-.78.78-.78 2.05 0 2.83L4 21.41c.39.39.9.59 1.41.59.51 0 1.02-.2 1.41-.59l7.78-7.78 2.81-2.81c.8-.78.8-2.07 0-2.86zM5.41 20L4 18.59l7.72-7.72 1.47 1.35L5.41 20z\"/>\n",
              "  </svg>\n",
              "      </button>\n",
              "      \n",
              "  <style>\n",
              "    .colab-df-container {\n",
              "      display:flex;\n",
              "      flex-wrap:wrap;\n",
              "      gap: 12px;\n",
              "    }\n",
              "\n",
              "    .colab-df-convert {\n",
              "      background-color: #E8F0FE;\n",
              "      border: none;\n",
              "      border-radius: 50%;\n",
              "      cursor: pointer;\n",
              "      display: none;\n",
              "      fill: #1967D2;\n",
              "      height: 32px;\n",
              "      padding: 0 0 0 0;\n",
              "      width: 32px;\n",
              "    }\n",
              "\n",
              "    .colab-df-convert:hover {\n",
              "      background-color: #E2EBFA;\n",
              "      box-shadow: 0px 1px 2px rgba(60, 64, 67, 0.3), 0px 1px 3px 1px rgba(60, 64, 67, 0.15);\n",
              "      fill: #174EA6;\n",
              "    }\n",
              "\n",
              "    [theme=dark] .colab-df-convert {\n",
              "      background-color: #3B4455;\n",
              "      fill: #D2E3FC;\n",
              "    }\n",
              "\n",
              "    [theme=dark] .colab-df-convert:hover {\n",
              "      background-color: #434B5C;\n",
              "      box-shadow: 0px 1px 3px 1px rgba(0, 0, 0, 0.15);\n",
              "      filter: drop-shadow(0px 1px 2px rgba(0, 0, 0, 0.3));\n",
              "      fill: #FFFFFF;\n",
              "    }\n",
              "  </style>\n",
              "\n",
              "      <script>\n",
              "        const buttonEl =\n",
              "          document.querySelector('#df-4aa3e32a-dbe9-48f5-8d97-b07cd27d91b1 button.colab-df-convert');\n",
              "        buttonEl.style.display =\n",
              "          google.colab.kernel.accessAllowed ? 'block' : 'none';\n",
              "\n",
              "        async function convertToInteractive(key) {\n",
              "          const element = document.querySelector('#df-4aa3e32a-dbe9-48f5-8d97-b07cd27d91b1');\n",
              "          const dataTable =\n",
              "            await google.colab.kernel.invokeFunction('convertToInteractive',\n",
              "                                                     [key], {});\n",
              "          if (!dataTable) return;\n",
              "\n",
              "          const docLinkHtml = 'Like what you see? Visit the ' +\n",
              "            '<a target=\"_blank\" href=https://colab.research.google.com/notebooks/data_table.ipynb>data table notebook</a>'\n",
              "            + ' to learn more about interactive tables.';\n",
              "          element.innerHTML = '';\n",
              "          dataTable['output_type'] = 'display_data';\n",
              "          await google.colab.output.renderOutput(dataTable, element);\n",
              "          const docLink = document.createElement('div');\n",
              "          docLink.innerHTML = docLinkHtml;\n",
              "          element.appendChild(docLink);\n",
              "        }\n",
              "      </script>\n",
              "    </div>\n",
              "  </div>\n",
              "  "
            ]
          },
          "metadata": {},
          "execution_count": 11
        }
      ]
    },
    {
      "cell_type": "code",
      "source": [
        "df_close.info()\n",
        "print(type(df_close))"
      ],
      "metadata": {
        "colab": {
          "base_uri": "https://localhost:8080/"
        },
        "id": "zcugltDoUMr9",
        "outputId": "62fb49ed-c065-4570-ad0d-5d65366ba653"
      },
      "execution_count": 12,
      "outputs": [
        {
          "output_type": "stream",
          "name": "stdout",
          "text": [
            "<class 'pandas.core.frame.DataFrame'>\n",
            "RangeIndex: 252 entries, 0 to 251\n",
            "Data columns (total 2 columns):\n",
            " #   Column  Non-Null Count  Dtype         \n",
            "---  ------  --------------  -----         \n",
            " 0   Date    252 non-null    datetime64[ns]\n",
            " 1   Close   252 non-null    float64       \n",
            "dtypes: datetime64[ns](1), float64(1)\n",
            "memory usage: 4.1 KB\n",
            "<class 'pandas.core.frame.DataFrame'>\n"
          ]
        }
      ]
    },
    {
      "cell_type": "code",
      "source": [
        "#Adding 'time' and 'value' column in Dataframe as Columne name \"Close\" and \"Date\" is not working in Algo\n",
        "\n",
        "df_close[\"time\"] = df_close['Date']\n",
        "df_close[\"value\"] = df_close['Close']\n",
        "del df_close[\"Date\"]\n",
        "del df_close[\"Close\"]\n",
        "df_close.head()"
      ],
      "metadata": {
        "colab": {
          "base_uri": "https://localhost:8080/",
          "height": 484
        },
        "id": "jzkMZkHxVaDx",
        "outputId": "7ecc05a3-7ff9-4fcb-9f3b-2a26655dabf6"
      },
      "execution_count": 13,
      "outputs": [
        {
          "output_type": "stream",
          "name": "stderr",
          "text": [
            "/usr/local/lib/python3.7/dist-packages/ipykernel_launcher.py:1: SettingWithCopyWarning:\n",
            "\n",
            "\n",
            "A value is trying to be set on a copy of a slice from a DataFrame.\n",
            "Try using .loc[row_indexer,col_indexer] = value instead\n",
            "\n",
            "See the caveats in the documentation: https://pandas.pydata.org/pandas-docs/stable/user_guide/indexing.html#returning-a-view-versus-a-copy\n",
            "\n",
            "/usr/local/lib/python3.7/dist-packages/ipykernel_launcher.py:2: SettingWithCopyWarning:\n",
            "\n",
            "\n",
            "A value is trying to be set on a copy of a slice from a DataFrame.\n",
            "Try using .loc[row_indexer,col_indexer] = value instead\n",
            "\n",
            "See the caveats in the documentation: https://pandas.pydata.org/pandas-docs/stable/user_guide/indexing.html#returning-a-view-versus-a-copy\n",
            "\n"
          ]
        },
        {
          "output_type": "execute_result",
          "data": {
            "text/plain": [
              "        time     value\n",
              "0 2021-05-10  14942.35\n",
              "1 2021-05-11  14850.75\n",
              "2 2021-05-12  14696.50\n",
              "3 2021-05-14  14677.80\n",
              "4 2021-05-17  14923.15"
            ],
            "text/html": [
              "\n",
              "  <div id=\"df-f2a6d774-37ac-4316-8cb7-e8645669d6c6\">\n",
              "    <div class=\"colab-df-container\">\n",
              "      <div>\n",
              "<style scoped>\n",
              "    .dataframe tbody tr th:only-of-type {\n",
              "        vertical-align: middle;\n",
              "    }\n",
              "\n",
              "    .dataframe tbody tr th {\n",
              "        vertical-align: top;\n",
              "    }\n",
              "\n",
              "    .dataframe thead th {\n",
              "        text-align: right;\n",
              "    }\n",
              "</style>\n",
              "<table border=\"1\" class=\"dataframe\">\n",
              "  <thead>\n",
              "    <tr style=\"text-align: right;\">\n",
              "      <th></th>\n",
              "      <th>time</th>\n",
              "      <th>value</th>\n",
              "    </tr>\n",
              "  </thead>\n",
              "  <tbody>\n",
              "    <tr>\n",
              "      <th>0</th>\n",
              "      <td>2021-05-10</td>\n",
              "      <td>14942.35</td>\n",
              "    </tr>\n",
              "    <tr>\n",
              "      <th>1</th>\n",
              "      <td>2021-05-11</td>\n",
              "      <td>14850.75</td>\n",
              "    </tr>\n",
              "    <tr>\n",
              "      <th>2</th>\n",
              "      <td>2021-05-12</td>\n",
              "      <td>14696.50</td>\n",
              "    </tr>\n",
              "    <tr>\n",
              "      <th>3</th>\n",
              "      <td>2021-05-14</td>\n",
              "      <td>14677.80</td>\n",
              "    </tr>\n",
              "    <tr>\n",
              "      <th>4</th>\n",
              "      <td>2021-05-17</td>\n",
              "      <td>14923.15</td>\n",
              "    </tr>\n",
              "  </tbody>\n",
              "</table>\n",
              "</div>\n",
              "      <button class=\"colab-df-convert\" onclick=\"convertToInteractive('df-f2a6d774-37ac-4316-8cb7-e8645669d6c6')\"\n",
              "              title=\"Convert this dataframe to an interactive table.\"\n",
              "              style=\"display:none;\">\n",
              "        \n",
              "  <svg xmlns=\"http://www.w3.org/2000/svg\" height=\"24px\"viewBox=\"0 0 24 24\"\n",
              "       width=\"24px\">\n",
              "    <path d=\"M0 0h24v24H0V0z\" fill=\"none\"/>\n",
              "    <path d=\"M18.56 5.44l.94 2.06.94-2.06 2.06-.94-2.06-.94-.94-2.06-.94 2.06-2.06.94zm-11 1L8.5 8.5l.94-2.06 2.06-.94-2.06-.94L8.5 2.5l-.94 2.06-2.06.94zm10 10l.94 2.06.94-2.06 2.06-.94-2.06-.94-.94-2.06-.94 2.06-2.06.94z\"/><path d=\"M17.41 7.96l-1.37-1.37c-.4-.4-.92-.59-1.43-.59-.52 0-1.04.2-1.43.59L10.3 9.45l-7.72 7.72c-.78.78-.78 2.05 0 2.83L4 21.41c.39.39.9.59 1.41.59.51 0 1.02-.2 1.41-.59l7.78-7.78 2.81-2.81c.8-.78.8-2.07 0-2.86zM5.41 20L4 18.59l7.72-7.72 1.47 1.35L5.41 20z\"/>\n",
              "  </svg>\n",
              "      </button>\n",
              "      \n",
              "  <style>\n",
              "    .colab-df-container {\n",
              "      display:flex;\n",
              "      flex-wrap:wrap;\n",
              "      gap: 12px;\n",
              "    }\n",
              "\n",
              "    .colab-df-convert {\n",
              "      background-color: #E8F0FE;\n",
              "      border: none;\n",
              "      border-radius: 50%;\n",
              "      cursor: pointer;\n",
              "      display: none;\n",
              "      fill: #1967D2;\n",
              "      height: 32px;\n",
              "      padding: 0 0 0 0;\n",
              "      width: 32px;\n",
              "    }\n",
              "\n",
              "    .colab-df-convert:hover {\n",
              "      background-color: #E2EBFA;\n",
              "      box-shadow: 0px 1px 2px rgba(60, 64, 67, 0.3), 0px 1px 3px 1px rgba(60, 64, 67, 0.15);\n",
              "      fill: #174EA6;\n",
              "    }\n",
              "\n",
              "    [theme=dark] .colab-df-convert {\n",
              "      background-color: #3B4455;\n",
              "      fill: #D2E3FC;\n",
              "    }\n",
              "\n",
              "    [theme=dark] .colab-df-convert:hover {\n",
              "      background-color: #434B5C;\n",
              "      box-shadow: 0px 1px 3px 1px rgba(0, 0, 0, 0.15);\n",
              "      filter: drop-shadow(0px 1px 2px rgba(0, 0, 0, 0.3));\n",
              "      fill: #FFFFFF;\n",
              "    }\n",
              "  </style>\n",
              "\n",
              "      <script>\n",
              "        const buttonEl =\n",
              "          document.querySelector('#df-f2a6d774-37ac-4316-8cb7-e8645669d6c6 button.colab-df-convert');\n",
              "        buttonEl.style.display =\n",
              "          google.colab.kernel.accessAllowed ? 'block' : 'none';\n",
              "\n",
              "        async function convertToInteractive(key) {\n",
              "          const element = document.querySelector('#df-f2a6d774-37ac-4316-8cb7-e8645669d6c6');\n",
              "          const dataTable =\n",
              "            await google.colab.kernel.invokeFunction('convertToInteractive',\n",
              "                                                     [key], {});\n",
              "          if (!dataTable) return;\n",
              "\n",
              "          const docLinkHtml = 'Like what you see? Visit the ' +\n",
              "            '<a target=\"_blank\" href=https://colab.research.google.com/notebooks/data_table.ipynb>data table notebook</a>'\n",
              "            + ' to learn more about interactive tables.';\n",
              "          element.innerHTML = '';\n",
              "          dataTable['output_type'] = 'display_data';\n",
              "          await google.colab.output.renderOutput(dataTable, element);\n",
              "          const docLink = document.createElement('div');\n",
              "          docLink.innerHTML = docLinkHtml;\n",
              "          element.appendChild(docLink);\n",
              "        }\n",
              "      </script>\n",
              "    </div>\n",
              "  </div>\n",
              "  "
            ]
          },
          "metadata": {},
          "execution_count": 13
        }
      ]
    },
    {
      "cell_type": "code",
      "source": [
        "#construct TimeSeriesData object for each time series\n",
        "df_ts = TimeSeriesData(df_close)\n",
        "print(type(df_ts.time))\n",
        "print(type(df_ts.value))"
      ],
      "metadata": {
        "colab": {
          "base_uri": "https://localhost:8080/"
        },
        "id": "aUMy4Sd2RSiZ",
        "outputId": "46f78bd8-5a03-47fc-8bd0-8527d1232db8"
      },
      "execution_count": 14,
      "outputs": [
        {
          "output_type": "stream",
          "name": "stdout",
          "text": [
            "<class 'pandas.core.series.Series'>\n",
            "<class 'pandas.core.series.Series'>\n"
          ]
        }
      ]
    },
    {
      "cell_type": "code",
      "metadata": {
        "outputId": "21aae62b-e787-41db-ec0f-3913f24e48e1",
        "colab": {
          "base_uri": "https://localhost:8080/",
          "height": 412
        },
        "id": "BGMeS0_yNDaq"
      },
      "source": [
        "#plot current data\n",
        "%matplotlib inline\n",
        "#Must pass the name of the value columns to plot\n",
        "df_ts.plot(cols=['value'])\n",
        "plt.show()"
      ],
      "execution_count": 15,
      "outputs": [
        {
          "output_type": "display_data",
          "data": {
            "text/plain": [
              "<Figure size 720x432 with 1 Axes>"
            ],
            "image/png": "[encoded data removed]"
          },
          "metadata": {
            "needs_background": "light"
          }
        }
      ]
    },
    {
      "cell_type": "code",
      "metadata": {
        "outputId": "48979a11-5b38-4504-b217-2083c52fd100",
        "colab": {
          "base_uri": "https://localhost:8080/",
          "height": 206
        },
        "id": "w7-k-c_ENDar"
      },
      "source": [
        "#convert to pandas.DataFrame \n",
        "df_ts.to_dataframe().tail()"
      ],
      "execution_count": null,
      "outputs": [
        {
          "output_type": "execute_result",
          "data": {
            "text/plain": [
              "          time     value\n",
              "247 2022-05-09  16301.85\n",
              "248 2022-05-10  16240.05\n",
              "249 2022-05-11  16167.10\n",
              "250 2022-05-12  15808.00\n",
              "251 2022-05-13  15782.15"
            ],
            "text/html": [
              "\n",
              "  <div id=\"df-02754f5d-0533-4fd1-9c49-8e8dc6d89ae0\">\n",
              "    <div class=\"colab-df-container\">\n",
              "      <div>\n",
              "<style scoped>\n",
              "    .dataframe tbody tr th:only-of-type {\n",
              "        vertical-align: middle;\n",
              "    }\n",
              "\n",
              "    .dataframe tbody tr th {\n",
              "        vertical-align: top;\n",
              "    }\n",
              "\n",
              "    .dataframe thead th {\n",
              "        text-align: right;\n",
              "    }\n",
              "</style>\n",
              "<table border=\"1\" class=\"dataframe\">\n",
              "  <thead>\n",
              "    <tr style=\"text-align: right;\">\n",
              "      <th></th>\n",
              "      <th>time</th>\n",
              "      <th>value</th>\n",
              "    </tr>\n",
              "  </thead>\n",
              "  <tbody>\n",
              "    <tr>\n",
              "      <th>247</th>\n",
              "      <td>2022-05-09</td>\n",
              "      <td>16301.85</td>\n",
              "    </tr>\n",
              "    <tr>\n",
              "      <th>248</th>\n",
              "      <td>2022-05-10</td>\n",
              "      <td>16240.05</td>\n",
              "    </tr>\n",
              "    <tr>\n",
              "      <th>249</th>\n",
              "      <td>2022-05-11</td>\n",
              "      <td>16167.10</td>\n",
              "    </tr>\n",
              "    <tr>\n",
              "      <th>250</th>\n",
              "      <td>2022-05-12</td>\n",
              "      <td>15808.00</td>\n",
              "    </tr>\n",
              "    <tr>\n",
              "      <th>251</th>\n",
              "      <td>2022-05-13</td>\n",
              "      <td>15782.15</td>\n",
              "    </tr>\n",
              "  </tbody>\n",
              "</table>\n",
              "</div>\n",
              "      <button class=\"colab-df-convert\" onclick=\"convertToInteractive('df-02754f5d-0533-4fd1-9c49-8e8dc6d89ae0')\"\n",
              "              title=\"Convert this dataframe to an interactive table.\"\n",
              "              style=\"display:none;\">\n",
              "        \n",
              "  <svg xmlns=\"http://www.w3.org/2000/svg\" height=\"24px\"viewBox=\"0 0 24 24\"\n",
              "       width=\"24px\">\n",
              "    <path d=\"M0 0h24v24H0V0z\" fill=\"none\"/>\n",
              "    <path d=\"M18.56 5.44l.94 2.06.94-2.06 2.06-.94-2.06-.94-.94-2.06-.94 2.06-2.06.94zm-11 1L8.5 8.5l.94-2.06 2.06-.94-2.06-.94L8.5 2.5l-.94 2.06-2.06.94zm10 10l.94 2.06.94-2.06 2.06-.94-2.06-.94-.94-2.06-.94 2.06-2.06.94z\"/><path d=\"M17.41 7.96l-1.37-1.37c-.4-.4-.92-.59-1.43-.59-.52 0-1.04.2-1.43.59L10.3 9.45l-7.72 7.72c-.78.78-.78 2.05 0 2.83L4 21.41c.39.39.9.59 1.41.59.51 0 1.02-.2 1.41-.59l7.78-7.78 2.81-2.81c.8-.78.8-2.07 0-2.86zM5.41 20L4 18.59l7.72-7.72 1.47 1.35L5.41 20z\"/>\n",
              "  </svg>\n",
              "      </button>\n",
              "      \n",
              "  <style>\n",
              "    .colab-df-container {\n",
              "      display:flex;\n",
              "      flex-wrap:wrap;\n",
              "      gap: 12px;\n",
              "    }\n",
              "\n",
              "    .colab-df-convert {\n",
              "      background-color: #E8F0FE;\n",
              "      border: none;\n",
              "      border-radius: 50%;\n",
              "      cursor: pointer;\n",
              "      display: none;\n",
              "      fill: #1967D2;\n",
              "      height: 32px;\n",
              "      padding: 0 0 0 0;\n",
              "      width: 32px;\n",
              "    }\n",
              "\n",
              "    .colab-df-convert:hover {\n",
              "      background-color: #E2EBFA;\n",
              "      box-shadow: 0px 1px 2px rgba(60, 64, 67, 0.3), 0px 1px 3px 1px rgba(60, 64, 67, 0.15);\n",
              "      fill: #174EA6;\n",
              "    }\n",
              "\n",
              "    [theme=dark] .colab-df-convert {\n",
              "      background-color: #3B4455;\n",
              "      fill: #D2E3FC;\n",
              "    }\n",
              "\n",
              "    [theme=dark] .colab-df-convert:hover {\n",
              "      background-color: #434B5C;\n",
              "      box-shadow: 0px 1px 3px 1px rgba(0, 0, 0, 0.15);\n",
              "      filter: drop-shadow(0px 1px 2px rgba(0, 0, 0, 0.3));\n",
              "      fill: #FFFFFF;\n",
              "    }\n",
              "  </style>\n",
              "\n",
              "      <script>\n",
              "        const buttonEl =\n",
              "          document.querySelector('#df-02754f5d-0533-4fd1-9c49-8e8dc6d89ae0 button.colab-df-convert');\n",
              "        buttonEl.style.display =\n",
              "          google.colab.kernel.accessAllowed ? 'block' : 'none';\n",
              "\n",
              "        async function convertToInteractive(key) {\n",
              "          const element = document.querySelector('#df-02754f5d-0533-4fd1-9c49-8e8dc6d89ae0');\n",
              "          const dataTable =\n",
              "            await google.colab.kernel.invokeFunction('convertToInteractive',\n",
              "                                                     [key], {});\n",
              "          if (!dataTable) return;\n",
              "\n",
              "          const docLinkHtml = 'Like what you see? Visit the ' +\n",
              "            '<a target=\"_blank\" href=https://colab.research.google.com/notebooks/data_table.ipynb>data table notebook</a>'\n",
              "            + ' to learn more about interactive tables.';\n",
              "          element.innerHTML = '';\n",
              "          dataTable['output_type'] = 'display_data';\n",
              "          await google.colab.output.renderOutput(dataTable, element);\n",
              "          const docLink = document.createElement('div');\n",
              "          docLink.innerHTML = docLinkHtml;\n",
              "          element.appendChild(docLink);\n",
              "        }\n",
              "      </script>\n",
              "    </div>\n",
              "  </div>\n",
              "  "
            ]
          },
          "metadata": {},
          "execution_count": 27
        }
      ]
    },
    {
      "cell_type": "code",
      "metadata": {
        "outputId": "99cf2a36-9617-4393-af7f-9960753f3868",
        "colab": {
          "base_uri": "https://localhost:8080/"
        },
        "id": "VvDzd_urNDar"
      },
      "source": [
        "#convert to numpy.ndarray\n",
        "df_ts.to_array()[0:5]"
      ],
      "execution_count": null,
      "outputs": [
        {
          "output_type": "execute_result",
          "data": {
            "text/plain": [
              "array([[Timestamp('2021-05-10 00:00:00'), 14942.35],\n",
              "       [Timestamp('2021-05-11 00:00:00'), 14850.75],\n",
              "       [Timestamp('2021-05-12 00:00:00'), 14696.5],\n",
              "       [Timestamp('2021-05-14 00:00:00'), 14677.8],\n",
              "       [Timestamp('2021-05-17 00:00:00'), 14923.15]], dtype=object)"
            ]
          },
          "metadata": {},
          "execution_count": 28
        }
      ]
    },
    {
      "cell_type": "code",
      "metadata": {
        "outputId": "8a8ecad1-2d38-441d-a646-12c1de8a7a8b",
        "colab": {
          "base_uri": "https://localhost:8080/"
        },
        "id": "duxs_Ro8NDas"
      },
      "source": [
        "df_ts.is_empty()"
      ],
      "execution_count": null,
      "outputs": [
        {
          "output_type": "execute_result",
          "data": {
            "text/plain": [
              "False"
            ]
          },
          "metadata": {},
          "execution_count": 29
        }
      ]
    },
    {
      "cell_type": "code",
      "metadata": {
        "outputId": "31b1ade4-4950-4ace-bb5c-941e057504ed",
        "colab": {
          "base_uri": "https://localhost:8080/"
        },
        "id": "CZuitBJENDat"
      },
      "source": [
        "df_ts.is_univariate()"
      ],
      "execution_count": null,
      "outputs": [
        {
          "output_type": "execute_result",
          "data": {
            "text/plain": [
              "True"
            ]
          },
          "metadata": {},
          "execution_count": 30
        }
      ]
    },
    {
      "cell_type": "code",
      "metadata": {
        "id": "93NOHiTlNDat",
        "colab": {
          "base_uri": "https://localhost:8080/"
        },
        "outputId": "608ca774-0604-4df7-b2c1-f192aae453b3"
      },
      "source": [
        "#import the param and model classes for Prophet, then LSTM model.\n",
        "#Take 15 mins to build the model\n",
        "\n",
        "from kats.models.prophet import ProphetModel, ProphetParams\n",
        "from kats.models.lstm import LSTMForecast, LSTMParams, LSTMModel\n",
        "\n",
        "params = ProphetParams(seasonality_mode='multiplicative')\n",
        "m = ProphetModel(df_ts, params)\n",
        "m.fit()\n",
        "fcst = m.predict(steps=10,freq = \"B\")  \n",
        "# #create a model param instance\n",
        "params = LSTMParams(hidden_size=125,time_window=25,num_epochs=250) #hidden,time_window,epoch\n",
        "#create a prophet model instance\n",
        "m=LSTMModel(df_ts, params) \n",
        "#fit model simply by calling m.fit()\n",
        "m.fit() \n",
        "#make prediction for next 0-24GMT (96 M15 periods)\n",
        "fcst = m.predict(steps=10,freq=\"B\")  #Forecasting for next 10 Business Day's, Saturday and Sunday will get eliminated as Nifty 50 Index is closed on Weekends"
      ],
      "execution_count": null,
      "outputs": [
        {
          "output_type": "stream",
          "name": "stderr",
          "text": [
            "INFO:fbprophet:Disabling yearly seasonality. Run prophet with yearly_seasonality=True to override this.\n",
            "INFO:fbprophet:Disabling daily seasonality. Run prophet with daily_seasonality=True to override this.\n"
          ]
        }
      ]
    },
    {
      "cell_type": "code",
      "metadata": {
        "outputId": "30be7a85-2de1-4069-8922-494b30dcdfca",
        "colab": {
          "base_uri": "https://localhost:8080/",
          "height": 363
        },
        "id": "336wmiilNDau"
      },
      "source": [
        "#Forecasted Data\n",
        "fcst.head(100)"
      ],
      "execution_count": null,
      "outputs": [
        {
          "output_type": "execute_result",
          "data": {
            "text/plain": [
              "        time          fcst    fcst_lower    fcst_upper\n",
              "0 2022-05-16  16061.582964  15258.503816  16864.662112\n",
              "1 2022-05-17  16264.511554  15451.285976  17077.737132\n",
              "2 2022-05-18  16402.715787  15582.579998  17222.851577\n",
              "3 2022-05-19  16605.469924  15775.196427  17435.743420\n",
              "4 2022-05-20  16613.303780  15782.638591  17443.968969\n",
              "5 2022-05-23  16710.044224  15874.542013  17545.546436\n",
              "6 2022-05-24  17079.366788  16225.398449  17933.335127\n",
              "7 2022-05-25  17213.411647  16352.741064  18074.082229\n",
              "8 2022-05-26  17255.065968  16392.312670  18117.819266\n",
              "9 2022-05-27  17277.989630  16414.090148  18141.889111"
            ],
            "text/html": [
              "\n",
              "  <div id=\"df-ff5e0d69-4bfd-4b3b-9b6f-dabcbeb76755\">\n",
              "    <div class=\"colab-df-container\">\n",
              "      <div>\n",
              "<style scoped>\n",
              "    .dataframe tbody tr th:only-of-type {\n",
              "        vertical-align: middle;\n",
              "    }\n",
              "\n",
              "    .dataframe tbody tr th {\n",
              "        vertical-align: top;\n",
              "    }\n",
              "\n",
              "    .dataframe thead th {\n",
              "        text-align: right;\n",
              "    }\n",
              "</style>\n",
              "<table border=\"1\" class=\"dataframe\">\n",
              "  <thead>\n",
              "    <tr style=\"text-align: right;\">\n",
              "      <th></th>\n",
              "      <th>time</th>\n",
              "      <th>fcst</th>\n",
              "      <th>fcst_lower</th>\n",
              "      <th>fcst_upper</th>\n",
              "    </tr>\n",
              "  </thead>\n",
              "  <tbody>\n",
              "    <tr>\n",
              "      <th>0</th>\n",
              "      <td>2022-05-16</td>\n",
              "      <td>16061.582964</td>\n",
              "      <td>15258.503816</td>\n",
              "      <td>16864.662112</td>\n",
              "    </tr>\n",
              "    <tr>\n",
              "      <th>1</th>\n",
              "      <td>2022-05-17</td>\n",
              "      <td>16264.511554</td>\n",
              "      <td>15451.285976</td>\n",
              "      <td>17077.737132</td>\n",
              "    </tr>\n",
              "    <tr>\n",
              "      <th>2</th>\n",
              "      <td>2022-05-18</td>\n",
              "      <td>16402.715787</td>\n",
              "      <td>15582.579998</td>\n",
              "      <td>17222.851577</td>\n",
              "    </tr>\n",
              "    <tr>\n",
              "      <th>3</th>\n",
              "      <td>2022-05-19</td>\n",
              "      <td>16605.469924</td>\n",
              "      <td>15775.196427</td>\n",
              "      <td>17435.743420</td>\n",
              "    </tr>\n",
              "    <tr>\n",
              "      <th>4</th>\n",
              "      <td>2022-05-20</td>\n",
              "      <td>16613.303780</td>\n",
              "      <td>15782.638591</td>\n",
              "      <td>17443.968969</td>\n",
              "    </tr>\n",
              "    <tr>\n",
              "      <th>5</th>\n",
              "      <td>2022-05-23</td>\n",
              "      <td>16710.044224</td>\n",
              "      <td>15874.542013</td>\n",
              "      <td>17545.546436</td>\n",
              "    </tr>\n",
              "    <tr>\n",
              "      <th>6</th>\n",
              "      <td>2022-05-24</td>\n",
              "      <td>17079.366788</td>\n",
              "      <td>16225.398449</td>\n",
              "      <td>17933.335127</td>\n",
              "    </tr>\n",
              "    <tr>\n",
              "      <th>7</th>\n",
              "      <td>2022-05-25</td>\n",
              "      <td>17213.411647</td>\n",
              "      <td>16352.741064</td>\n",
              "      <td>18074.082229</td>\n",
              "    </tr>\n",
              "    <tr>\n",
              "      <th>8</th>\n",
              "      <td>2022-05-26</td>\n",
              "      <td>17255.065968</td>\n",
              "      <td>16392.312670</td>\n",
              "      <td>18117.819266</td>\n",
              "    </tr>\n",
              "    <tr>\n",
              "      <th>9</th>\n",
              "      <td>2022-05-27</td>\n",
              "      <td>17277.989630</td>\n",
              "      <td>16414.090148</td>\n",
              "      <td>18141.889111</td>\n",
              "    </tr>\n",
              "  </tbody>\n",
              "</table>\n",
              "</div>\n",
              "      <button class=\"colab-df-convert\" onclick=\"convertToInteractive('df-ff5e0d69-4bfd-4b3b-9b6f-dabcbeb76755')\"\n",
              "              title=\"Convert this dataframe to an interactive table.\"\n",
              "              style=\"display:none;\">\n",
              "        \n",
              "  <svg xmlns=\"http://www.w3.org/2000/svg\" height=\"24px\"viewBox=\"0 0 24 24\"\n",
              "       width=\"24px\">\n",
              "    <path d=\"M0 0h24v24H0V0z\" fill=\"none\"/>\n",
              "    <path d=\"M18.56 5.44l.94 2.06.94-2.06 2.06-.94-2.06-.94-.94-2.06-.94 2.06-2.06.94zm-11 1L8.5 8.5l.94-2.06 2.06-.94-2.06-.94L8.5 2.5l-.94 2.06-2.06.94zm10 10l.94 2.06.94-2.06 2.06-.94-2.06-.94-.94-2.06-.94 2.06-2.06.94z\"/><path d=\"M17.41 7.96l-1.37-1.37c-.4-.4-.92-.59-1.43-.59-.52 0-1.04.2-1.43.59L10.3 9.45l-7.72 7.72c-.78.78-.78 2.05 0 2.83L4 21.41c.39.39.9.59 1.41.59.51 0 1.02-.2 1.41-.59l7.78-7.78 2.81-2.81c.8-.78.8-2.07 0-2.86zM5.41 20L4 18.59l7.72-7.72 1.47 1.35L5.41 20z\"/>\n",
              "  </svg>\n",
              "      </button>\n",
              "      \n",
              "  <style>\n",
              "    .colab-df-container {\n",
              "      display:flex;\n",
              "      flex-wrap:wrap;\n",
              "      gap: 12px;\n",
              "    }\n",
              "\n",
              "    .colab-df-convert {\n",
              "      background-color: #E8F0FE;\n",
              "      border: none;\n",
              "      border-radius: 50%;\n",
              "      cursor: pointer;\n",
              "      display: none;\n",
              "      fill: #1967D2;\n",
              "      height: 32px;\n",
              "      padding: 0 0 0 0;\n",
              "      width: 32px;\n",
              "    }\n",
              "\n",
              "    .colab-df-convert:hover {\n",
              "      background-color: #E2EBFA;\n",
              "      box-shadow: 0px 1px 2px rgba(60, 64, 67, 0.3), 0px 1px 3px 1px rgba(60, 64, 67, 0.15);\n",
              "      fill: #174EA6;\n",
              "    }\n",
              "\n",
              "    [theme=dark] .colab-df-convert {\n",
              "      background-color: #3B4455;\n",
              "      fill: #D2E3FC;\n",
              "    }\n",
              "\n",
              "    [theme=dark] .colab-df-convert:hover {\n",
              "      background-color: #434B5C;\n",
              "      box-shadow: 0px 1px 3px 1px rgba(0, 0, 0, 0.15);\n",
              "      filter: drop-shadow(0px 1px 2px rgba(0, 0, 0, 0.3));\n",
              "      fill: #FFFFFF;\n",
              "    }\n",
              "  </style>\n",
              "\n",
              "      <script>\n",
              "        const buttonEl =\n",
              "          document.querySelector('#df-ff5e0d69-4bfd-4b3b-9b6f-dabcbeb76755 button.colab-df-convert');\n",
              "        buttonEl.style.display =\n",
              "          google.colab.kernel.accessAllowed ? 'block' : 'none';\n",
              "\n",
              "        async function convertToInteractive(key) {\n",
              "          const element = document.querySelector('#df-ff5e0d69-4bfd-4b3b-9b6f-dabcbeb76755');\n",
              "          const dataTable =\n",
              "            await google.colab.kernel.invokeFunction('convertToInteractive',\n",
              "                                                     [key], {});\n",
              "          if (!dataTable) return;\n",
              "\n",
              "          const docLinkHtml = 'Like what you see? Visit the ' +\n",
              "            '<a target=\"_blank\" href=https://colab.research.google.com/notebooks/data_table.ipynb>data table notebook</a>'\n",
              "            + ' to learn more about interactive tables.';\n",
              "          element.innerHTML = '';\n",
              "          dataTable['output_type'] = 'display_data';\n",
              "          await google.colab.output.renderOutput(dataTable, element);\n",
              "          const docLink = document.createElement('div');\n",
              "          docLink.innerHTML = docLinkHtml;\n",
              "          element.appendChild(docLink);\n",
              "        }\n",
              "      </script>\n",
              "    </div>\n",
              "  </div>\n",
              "  "
            ]
          },
          "metadata": {},
          "execution_count": 107
        }
      ]
    },
    {
      "cell_type": "code",
      "metadata": {
        "outputId": "28f0344a-526d-44a2-c2f4-9b9e97fcbf87",
        "colab": {
          "base_uri": "https://localhost:8080/",
          "height": 458
        },
        "id": "8RRljmHCNDaw"
      },
      "source": [
        "m.plot()\n",
        "# pd.plotting.register_matplotlib_converters()\n",
        "# %matplotlib inline\n",
        "\n",
        "# fig = m.plot()\n",
        "# plt.xlim('2021-01-05','2021-12-06')\n",
        "# plt.ylim(15000,20000)"
      ],
      "execution_count": null,
      "outputs": [
        {
          "output_type": "execute_result",
          "data": {
            "text/plain": [
              "<matplotlib.axes._subplots.AxesSubplot at 0x7fafcfbc5490>"
            ]
          },
          "metadata": {},
          "execution_count": 118
        },
        {
          "output_type": "display_data",
          "data": {
            "text/plain": [
              "<Figure size 720x432 with 1 Axes>"
            ],
            "image/png": "[encoded data removed]"
          },
          "metadata": {}
        }
      ]
    },
    {
      "cell_type": "code",
      "source": [
        "# fcst = fcst.set_index('time')\n",
        "# df = df.set_index('Date')\n",
        "fcst.info()"
      ],
      "metadata": {
        "colab": {
          "base_uri": "https://localhost:8080/"
        },
        "id": "D5LNEV7E6AVw",
        "outputId": "8737af9a-3759-48e6-921a-65d28263954a"
      },
      "execution_count": null,
      "outputs": [
        {
          "output_type": "stream",
          "name": "stdout",
          "text": [
            "<class 'pandas.core.frame.DataFrame'>\n",
            "DatetimeIndex: 10 entries, 2022-05-16 to 2022-05-27\n",
            "Data columns (total 3 columns):\n",
            " #   Column      Non-Null Count  Dtype  \n",
            "---  ------      --------------  -----  \n",
            " 0   fcst        10 non-null     float64\n",
            " 1   fcst_lower  10 non-null     float64\n",
            " 2   fcst_upper  10 non-null     float64\n",
            "dtypes: float64(3)\n",
            "memory usage: 320.0 bytes\n"
          ]
        }
      ]
    },
    {
      "cell_type": "code",
      "source": [
        "import plotly.graph_objects as go\n",
        "\n",
        "fcst['fcst'] = fcst['fcst'].round(decimals = 2)\n",
        "fcst['fcst_lower'] = fcst['fcst_lower'].round(decimals = 2)\n",
        "fcst['fcst_upper'] = fcst['fcst_upper'].round(decimals = 2)\n",
        "\n",
        "# Create traces\n",
        "# fig.add_trace(go.Scatter(x=fcst.index, y=fcst['fcst'],name = 'Forecast Data'))\n",
        "# fig.add_trace(go.Scatter(x=fcst.index, y=fcst['fcst_lower'],name = 'Lower Forecast Band',line_color = 'red',line = {'dash': 'dash'},opacity = 0.5))\n",
        "# fig.add_trace(go.Scatter(x=fcst.index, y=fcst['fcst_upper'],name = 'Upper Forecast Band',line_color = 'green',line = {'dash': 'dash'},opacity = 0.5))\n",
        "# fig.add_trace(go.Scatter(x=df.index, y=df.Close,mode='lines+markers',name='Actual Data'))\n",
        "\n",
        "#https://plotly.com/python/continuous-error-bars/\n",
        "\n",
        "fig = go.Figure([\n",
        "    go.Scatter(\n",
        "        name='Forecast Data',\n",
        "        x=fcst.index,\n",
        "        y=fcst['fcst'],\n",
        "        mode='lines',\n",
        "        line=dict(color='rgb(50, 119, 180)'),\n",
        "    ),\n",
        "    go.Scatter(\n",
        "        name='Actual Data',\n",
        "        x=df.index,\n",
        "        y=df['Close'],\n",
        "        mode='lines+markers',\n",
        "        fill='tonexty',\n",
        "        line=dict(color='blue'),\n",
        "    ),\n",
        "    go.Scatter(\n",
        "        name='Upper Bound',\n",
        "        x=fcst.index,\n",
        "        y=fcst['fcst_upper'],\n",
        "        mode='lines',\n",
        "        fillcolor='rgba(68, 68, 68, 0.3)',\n",
        "        fill='tonexty',\n",
        "        marker=dict(color=\"green\"),\n",
        "        line=dict(width=1.5),\n",
        "        showlegend=False\n",
        "    ),\n",
        "    go.Scatter(\n",
        "        name='Lower Bound',\n",
        "        x=fcst.index,\n",
        "        y=fcst['fcst_lower'],\n",
        "        marker=dict(color=\"red\"),\n",
        "        line=dict(width=1.5),\n",
        "        mode='lines',\n",
        "        fillcolor='rgba(68, 68, 68, 0.3)',\n",
        "        fill='tonexty',\n",
        "        showlegend=False\n",
        "    )\n",
        "])\n",
        "\n",
        "#Omitting Test Data, Testing Forcasting Model on Complete Data instead Training Dataset\n",
        "# fig.add_trace(go.Scatter(x=test_data.index, y=test_data.Close,mode='lines+markers', name='Test Data')) \n",
        "\n",
        "fig.update_layout(title='Nifty50 Last 1 Year Chart with Actual and Forecasted Data using KATS Algo',yaxis_title='Nifty 50',yaxis_tickformat= \"000\")\n",
        "fig.update_traces( hovertemplate=None)\n",
        "# fig.update_layout(hovermode=\"x\")\n",
        "fig.update_layout(hovermode=\"x unified\")\n",
        "\n",
        "fig.update_layout( xaxis_tickformat = ' %d %B (%a) %Y')\n",
        "fig.show()\n",
        "\n",
        "#Converting viz into HTML file\n",
        "# pio.write_html(fig, file='Nifty50 Last 1 Year Chart with Actual and Forecasted Data using KATS Algo.html', auto_open=True)"
      ],
      "metadata": {
        "id": "HhB-RZ7NXYOh",
        "colab": {
          "base_uri": "https://localhost:8080/",
          "height": 542
        },
        "outputId": "5e8ac36e-610f-45e5-d693-a5658e26a821"
      },
      "execution_count": null,
      "outputs": [
        {
          "output_type": "display_data",
          "data": {
            "text/html": [
              "<html>\n",
              "<head><meta charset=\"utf-8\" /></head>\n",
              "<body>\n",
              "    <div>            <script src=\"https://cdnjs.cloudflare.com/ajax/libs/mathjax/2.7.5/MathJax.js?config=TeX-AMS-MML_SVG\"></script><script type=\"text/javascript\">if (window.MathJax) {MathJax.Hub.Config({SVG: {font: \"STIX-Web\"}});}</script>                <script type=\"text/javascript\">window.PlotlyConfig = {MathJaxConfig: 'local'};</script>\n",
              "        <script src=\"https://cdn.plot.ly/plotly-2.8.3.min.js\"></script>                <div id=\"5cdc37e0-f68b-4579-abca-f437ac390042\" class=\"plotly-graph-div\" style=\"height:525px; width:100%;\"></div>            <script type=\"text/javascript\">                                    window.PLOTLYENV=window.PLOTLYENV || {};                                    if (document.getElementById(\"5cdc37e0-f68b-4579-abca-f437ac390042\")) {                    Plotly.newPlot(                        \"5cdc37e0-f68b-4579-abca-f437ac390042\",                        [{\"line\":{\"color\":\"rgb(50, 119, 180)\"},\"mode\":\"lines\",\"name\":\"Forecast Data\",\"x\":[\"2022-05-16T00:00:00\",\"2022-05-17T00:00:00\",\"2022-05-18T00:00:00\",\"2022-05-19T00:00:00\",\"2022-05-20T00:00:00\",\"2022-05-23T00:00:00\",\"2022-05-24T00:00:00\",\"2022-05-25T00:00:00\",\"2022-05-26T00:00:00\",\"2022-05-27T00:00:00\"],\"y\":[15916.23,16116.9,16220.4,16386.47,16355.21,16432.35,16706.42,16852.64,16949.74,17027.5],\"type\":\"scatter\"},{\"fill\":\"tonexty\",\"line\":{\"color\":\"blue\"},\"mode\":\"lines+markers\",\"name\":\"Actual Data\",\"x\":[\"2021-05-10T00:00:00\",\"2021-05-11T00:00:00\",\"2021-05-12T00:00:00\",\"2021-05-14T00:00:00\",\"2021-05-17T00:00:00\",\"2021-05-18T00:00:00\",\"2021-05-19T00:00:00\",\"2021-05-20T00:00:00\",\"2021-05-21T00:00:00\",\"2021-05-24T00:00:00\",\"2021-05-25T00:00:00\",\"2021-05-26T00:00:00\",\"2021-05-27T00:00:00\",\"2021-05-28T00:00:00\",\"2021-05-31T00:00:00\",\"2021-06-01T00:00:00\",\"2021-06-02T00:00:00\",\"2021-06-03T00:00:00\",\"2021-06-04T00:00:00\",\"2021-06-07T00:00:00\",\"2021-06-08T00:00:00\",\"2021-06-09T00:00:00\",\"2021-06-10T00:00:00\",\"2021-06-11T00:00:00\",\"2021-06-14T00:00:00\",\"2021-06-15T00:00:00\",\"2021-06-16T00:00:00\",\"2021-06-17T00:00:00\",\"2021-06-18T00:00:00\",\"2021-06-21T00:00:00\",\"2021-06-22T00:00:00\",\"2021-06-23T00:00:00\",\"2021-06-24T00:00:00\",\"2021-06-25T00:00:00\",\"2021-06-28T00:00:00\",\"2021-06-29T00:00:00\",\"2021-06-30T00:00:00\",\"2021-07-01T00:00:00\",\"2021-07-02T00:00:00\",\"2021-07-05T00:00:00\",\"2021-07-06T00:00:00\",\"2021-07-07T00:00:00\",\"2021-07-08T00:00:00\",\"2021-07-09T00:00:00\",\"2021-07-12T00:00:00\",\"2021-07-13T00:00:00\",\"2021-07-14T00:00:00\",\"2021-07-15T00:00:00\",\"2021-07-16T00:00:00\",\"2021-07-19T00:00:00\",\"2021-07-20T00:00:00\",\"2021-07-22T00:00:00\",\"2021-07-23T00:00:00\",\"2021-07-26T00:00:00\",\"2021-07-27T00:00:00\",\"2021-07-28T00:00:00\",\"2021-07-29T00:00:00\",\"2021-07-30T00:00:00\",\"2021-08-02T00:00:00\",\"2021-08-03T00:00:00\",\"2021-08-04T00:00:00\",\"2021-08-05T00:00:00\",\"2021-08-06T00:00:00\",\"2021-08-09T00:00:00\",\"2021-08-10T00:00:00\",\"2021-08-11T00:00:00\",\"2021-08-12T00:00:00\",\"2021-08-13T00:00:00\",\"2021-08-16T00:00:00\",\"2021-08-17T00:00:00\",\"2021-08-18T00:00:00\",\"2021-08-20T00:00:00\",\"2021-08-23T00:00:00\",\"2021-08-24T00:00:00\",\"2021-08-25T00:00:00\",\"2021-08-26T00:00:00\",\"2021-08-27T00:00:00\",\"2021-08-30T00:00:00\",\"2021-08-31T00:00:00\",\"2021-09-01T00:00:00\",\"2021-09-02T00:00:00\",\"2021-09-03T00:00:00\",\"2021-09-06T00:00:00\",\"2021-09-07T00:00:00\",\"2021-09-08T00:00:00\",\"2021-09-09T00:00:00\",\"2021-09-13T00:00:00\",\"2021-09-14T00:00:00\",\"2021-09-15T00:00:00\",\"2021-09-16T00:00:00\",\"2021-09-17T00:00:00\",\"2021-09-20T00:00:00\",\"2021-09-21T00:00:00\",\"2021-09-22T00:00:00\",\"2021-09-23T00:00:00\",\"2021-09-24T00:00:00\",\"2021-09-27T00:00:00\",\"2021-09-28T00:00:00\",\"2021-09-29T00:00:00\",\"2021-09-30T00:00:00\",\"2021-10-01T00:00:00\",\"2021-10-04T00:00:00\",\"2021-10-05T00:00:00\",\"2021-10-06T00:00:00\",\"2021-10-07T00:00:00\",\"2021-10-08T00:00:00\",\"2021-10-11T00:00:00\",\"2021-10-12T00:00:00\",\"2021-10-13T00:00:00\",\"2021-10-14T00:00:00\",\"2021-10-18T00:00:00\",\"2021-10-19T00:00:00\",\"2021-10-20T00:00:00\",\"2021-10-21T00:00:00\",\"2021-10-22T00:00:00\",\"2021-10-25T00:00:00\",\"2021-10-26T00:00:00\",\"2021-10-27T00:00:00\",\"2021-10-28T00:00:00\",\"2021-10-29T00:00:00\",\"2021-11-01T00:00:00\",\"2021-11-02T00:00:00\",\"2021-11-03T00:00:00\",\"2021-11-04T00:00:00\",\"2021-11-08T00:00:00\",\"2021-11-09T00:00:00\",\"2021-11-10T00:00:00\",\"2021-11-11T00:00:00\",\"2021-11-12T00:00:00\",\"2021-11-15T00:00:00\",\"2021-11-16T00:00:00\",\"2021-11-17T00:00:00\",\"2021-11-18T00:00:00\",\"2021-11-22T00:00:00\",\"2021-11-23T00:00:00\",\"2021-11-24T00:00:00\",\"2021-11-25T00:00:00\",\"2021-11-26T00:00:00\",\"2021-11-29T00:00:00\",\"2021-11-30T00:00:00\",\"2021-12-01T00:00:00\",\"2021-12-02T00:00:00\",\"2021-12-03T00:00:00\",\"2021-12-06T00:00:00\",\"2021-12-07T00:00:00\",\"2021-12-08T00:00:00\",\"2021-12-09T00:00:00\",\"2021-12-10T00:00:00\",\"2021-12-13T00:00:00\",\"2021-12-14T00:00:00\",\"2021-12-15T00:00:00\",\"2021-12-16T00:00:00\",\"2021-12-17T00:00:00\",\"2021-12-20T00:00:00\",\"2021-12-21T00:00:00\",\"2021-12-22T00:00:00\",\"2021-12-23T00:00:00\",\"2021-12-24T00:00:00\",\"2021-12-27T00:00:00\",\"2021-12-28T00:00:00\",\"2021-12-29T00:00:00\",\"2021-12-30T00:00:00\",\"2021-12-31T00:00:00\",\"2022-01-03T00:00:00\",\"2022-01-04T00:00:00\",\"2022-01-05T00:00:00\",\"2022-01-06T00:00:00\",\"2022-01-07T00:00:00\",\"2022-01-10T00:00:00\",\"2022-01-11T00:00:00\",\"2022-01-12T00:00:00\",\"2022-01-13T00:00:00\",\"2022-01-14T00:00:00\",\"2022-01-17T00:00:00\",\"2022-01-18T00:00:00\",\"2022-01-19T00:00:00\",\"2022-01-20T00:00:00\",\"2022-01-21T00:00:00\",\"2022-01-24T00:00:00\",\"2022-01-25T00:00:00\",\"2022-01-27T00:00:00\",\"2022-01-28T00:00:00\",\"2022-01-31T00:00:00\",\"2022-02-01T00:00:00\",\"2022-02-02T00:00:00\",\"2022-02-03T00:00:00\",\"2022-02-04T00:00:00\",\"2022-02-07T00:00:00\",\"2022-02-08T00:00:00\",\"2022-02-09T00:00:00\",\"2022-02-10T00:00:00\",\"2022-02-11T00:00:00\",\"2022-02-14T00:00:00\",\"2022-02-15T00:00:00\",\"2022-02-16T00:00:00\",\"2022-02-17T00:00:00\",\"2022-02-18T00:00:00\",\"2022-02-21T00:00:00\",\"2022-02-22T00:00:00\",\"2022-02-23T00:00:00\",\"2022-02-24T00:00:00\",\"2022-02-25T00:00:00\",\"2022-02-28T00:00:00\",\"2022-03-02T00:00:00\",\"2022-03-03T00:00:00\",\"2022-03-04T00:00:00\",\"2022-03-07T00:00:00\",\"2022-03-08T00:00:00\",\"2022-03-09T00:00:00\",\"2022-03-10T00:00:00\",\"2022-03-11T00:00:00\",\"2022-03-14T00:00:00\",\"2022-03-15T00:00:00\",\"2022-03-16T00:00:00\",\"2022-03-17T00:00:00\",\"2022-03-21T00:00:00\",\"2022-03-22T00:00:00\",\"2022-03-23T00:00:00\",\"2022-03-24T00:00:00\",\"2022-03-25T00:00:00\",\"2022-03-28T00:00:00\",\"2022-03-29T00:00:00\",\"2022-03-30T00:00:00\",\"2022-03-31T00:00:00\",\"2022-04-01T00:00:00\",\"2022-04-04T00:00:00\",\"2022-04-05T00:00:00\",\"2022-04-06T00:00:00\",\"2022-04-07T00:00:00\",\"2022-04-08T00:00:00\",\"2022-04-11T00:00:00\",\"2022-04-12T00:00:00\",\"2022-04-13T00:00:00\",\"2022-04-18T00:00:00\",\"2022-04-19T00:00:00\",\"2022-04-20T00:00:00\",\"2022-04-21T00:00:00\",\"2022-04-22T00:00:00\",\"2022-04-25T00:00:00\",\"2022-04-26T00:00:00\",\"2022-04-27T00:00:00\",\"2022-04-28T00:00:00\",\"2022-04-29T00:00:00\",\"2022-05-02T00:00:00\",\"2022-05-04T00:00:00\",\"2022-05-05T00:00:00\",\"2022-05-06T00:00:00\",\"2022-05-09T00:00:00\",\"2022-05-10T00:00:00\",\"2022-05-11T00:00:00\",\"2022-05-12T00:00:00\",\"2022-05-13T00:00:00\"],\"y\":[14942.35,14850.75,14696.5,14677.8,14923.15,15108.1,15030.15,14906.05,15175.3,15197.7,15208.45,15301.45,15337.85,15435.65,15582.8,15574.85,15576.2,15690.35,15670.25,15751.65,15740.1,15635.35,15737.75,15799.35,15811.85,15869.25,15767.55,15691.4,15683.35,15746.5,15772.75,15686.95,15790.45,15860.35,15814.7,15748.45,15721.5,15680.0,15722.2,15834.35,15818.25,15879.65,15727.9,15689.8,15692.6,15812.35,15853.95,15924.2,15923.4,15752.4,15632.1,15824.05,15856.05,15824.45,15746.45,15709.4,15778.45,15763.05,15885.15,16130.75,16258.8,16294.6,16238.2,16258.25,16280.1,16282.25,16364.4,16529.1,16563.05,16614.6,16568.85,16450.5,16496.45,16624.6,16634.65,16636.9,16705.2,16931.05,17132.2,17076.25,17234.15,17323.6,17377.8,17362.1,17353.5,17369.25,17355.3,17380.0,17519.45,17629.5,17585.15,17396.9,17562.0,17546.65,17822.95,17853.2,17855.1,17748.6,17711.3,17618.15,17532.05,17691.25,17822.3,17646.0,17790.35,17895.2,17945.95,17991.95,18161.75,18338.55,18477.05,18418.75,18266.6,18178.1,18114.9,18125.4,18268.4,18210.95,17857.25,17671.65,17929.65,17888.95,17829.2,17916.8,18068.55,18044.25,18017.2,17873.6,18102.75,18109.45,17999.2,17898.65,17764.8,17416.55,17503.35,17415.05,17536.25,17026.45,17053.95,16983.2,17166.9,17401.65,17196.7,16912.25,17176.7,17469.75,17516.85,17511.3,17368.25,17324.9,17221.4,17248.4,16985.2,16614.2,16770.85,16955.45,17072.6,17003.75,17086.25,17233.25,17213.6,17203.95,17354.05,17625.7,17805.25,17925.25,17745.9,17812.7,18003.3,18055.75,18212.35,18257.8,18255.75,18308.1,18113.05,17938.4,17757.0,17617.15,17149.1,17277.95,17110.15,17101.95,17339.85,17576.85,17780.0,17560.2,17516.3,17213.6,17266.75,17463.8,17605.85,17374.75,16842.8,17352.45,17322.2,17304.6,17276.3,17206.65,17092.2,17063.25,16247.95,16658.4,16793.9,16605.95,16498.05,16245.35,15863.15,16013.45,16345.35,16594.9,16630.45,16871.3,16663.0,16975.35,17287.05,17117.6,17315.5,17245.65,17222.75,17153.0,17222.0,17325.3,17498.25,17464.75,17670.45,18053.4,17957.4,17807.65,17639.55,17784.35,17674.95,17530.3,17475.65,17173.65,16958.65,17136.55,17392.6,17171.95,16953.95,17200.8,17038.4,17245.05,17102.55,17069.1,16677.6,16682.65,16411.25,16301.85,16240.05,16167.1,15808.0,15782.15],\"type\":\"scatter\"},{\"fill\":\"tonexty\",\"fillcolor\":\"rgba(68, 68, 68, 0.3)\",\"line\":{\"width\":1.5},\"marker\":{\"color\":\"green\"},\"mode\":\"lines\",\"name\":\"Upper Bound\",\"showlegend\":false,\"x\":[\"2022-05-16T00:00:00\",\"2022-05-17T00:00:00\",\"2022-05-18T00:00:00\",\"2022-05-19T00:00:00\",\"2022-05-20T00:00:00\",\"2022-05-23T00:00:00\",\"2022-05-24T00:00:00\",\"2022-05-25T00:00:00\",\"2022-05-26T00:00:00\",\"2022-05-27T00:00:00\"],\"y\":[16712.04,16922.74,17031.42,17205.79,17172.97,17253.97,17541.74,17695.27,17797.23,17878.87],\"type\":\"scatter\"},{\"fill\":\"tonexty\",\"fillcolor\":\"rgba(68, 68, 68, 0.3)\",\"line\":{\"width\":1.5},\"marker\":{\"color\":\"red\"},\"mode\":\"lines\",\"name\":\"Lower Bound\",\"showlegend\":false,\"x\":[\"2022-05-16T00:00:00\",\"2022-05-17T00:00:00\",\"2022-05-18T00:00:00\",\"2022-05-19T00:00:00\",\"2022-05-20T00:00:00\",\"2022-05-23T00:00:00\",\"2022-05-24T00:00:00\",\"2022-05-25T00:00:00\",\"2022-05-26T00:00:00\",\"2022-05-27T00:00:00\"],\"y\":[15120.42,15311.05,15409.38,15567.14,15537.45,15610.74,15871.1,16010.01,16102.26,16176.12],\"type\":\"scatter\"}],                        {\"template\":{\"data\":{\"bar\":[{\"error_x\":{\"color\":\"#2a3f5f\"},\"error_y\":{\"color\":\"#2a3f5f\"},\"marker\":{\"line\":{\"color\":\"#E5ECF6\",\"width\":0.5},\"pattern\":{\"fillmode\":\"overlay\",\"size\":10,\"solidity\":0.2}},\"type\":\"bar\"}],\"barpolar\":[{\"marker\":{\"line\":{\"color\":\"#E5ECF6\",\"width\":0.5},\"pattern\":{\"fillmode\":\"overlay\",\"size\":10,\"solidity\":0.2}},\"type\":\"barpolar\"}],\"carpet\":[{\"aaxis\":{\"endlinecolor\":\"#2a3f5f\",\"gridcolor\":\"white\",\"linecolor\":\"white\",\"minorgridcolor\":\"white\",\"startlinecolor\":\"#2a3f5f\"},\"baxis\":{\"endlinecolor\":\"#2a3f5f\",\"gridcolor\":\"white\",\"linecolor\":\"white\",\"minorgridcolor\":\"white\",\"startlinecolor\":\"#2a3f5f\"},\"type\":\"carpet\"}],\"choropleth\":[{\"colorbar\":{\"outlinewidth\":0,\"ticks\":\"\"},\"type\":\"choropleth\"}],\"contour\":[{\"colorbar\":{\"outlinewidth\":0,\"ticks\":\"\"},\"colorscale\":[[0.0,\"#0d0887\"],[0.1111111111111111,\"#46039f\"],[0.2222222222222222,\"#7201a8\"],[0.3333333333333333,\"#9c179e\"],[0.4444444444444444,\"#bd3786\"],[0.5555555555555556,\"#d8576b\"],[0.6666666666666666,\"#ed7953\"],[0.7777777777777778,\"#fb9f3a\"],[0.8888888888888888,\"#fdca26\"],[1.0,\"#f0f921\"]],\"type\":\"contour\"}],\"contourcarpet\":[{\"colorbar\":{\"outlinewidth\":0,\"ticks\":\"\"},\"type\":\"contourcarpet\"}],\"heatmap\":[{\"colorbar\":{\"outlinewidth\":0,\"ticks\":\"\"},\"colorscale\":[[0.0,\"#0d0887\"],[0.1111111111111111,\"#46039f\"],[0.2222222222222222,\"#7201a8\"],[0.3333333333333333,\"#9c179e\"],[0.4444444444444444,\"#bd3786\"],[0.5555555555555556,\"#d8576b\"],[0.6666666666666666,\"#ed7953\"],[0.7777777777777778,\"#fb9f3a\"],[0.8888888888888888,\"#fdca26\"],[1.0,\"#f0f921\"]],\"type\":\"heatmap\"}],\"heatmapgl\":[{\"colorbar\":{\"outlinewidth\":0,\"ticks\":\"\"},\"colorscale\":[[0.0,\"#0d0887\"],[0.1111111111111111,\"#46039f\"],[0.2222222222222222,\"#7201a8\"],[0.3333333333333333,\"#9c179e\"],[0.4444444444444444,\"#bd3786\"],[0.5555555555555556,\"#d8576b\"],[0.6666666666666666,\"#ed7953\"],[0.7777777777777778,\"#fb9f3a\"],[0.8888888888888888,\"#fdca26\"],[1.0,\"#f0f921\"]],\"type\":\"heatmapgl\"}],\"histogram\":[{\"marker\":{\"pattern\":{\"fillmode\":\"overlay\",\"size\":10,\"solidity\":0.2}},\"type\":\"histogram\"}],\"histogram2d\":[{\"colorbar\":{\"outlinewidth\":0,\"ticks\":\"\"},\"colorscale\":[[0.0,\"#0d0887\"],[0.1111111111111111,\"#46039f\"],[0.2222222222222222,\"#7201a8\"],[0.3333333333333333,\"#9c179e\"],[0.4444444444444444,\"#bd3786\"],[0.5555555555555556,\"#d8576b\"],[0.6666666666666666,\"#ed7953\"],[0.7777777777777778,\"#fb9f3a\"],[0.8888888888888888,\"#fdca26\"],[1.0,\"#f0f921\"]],\"type\":\"histogram2d\"}],\"histogram2dcontour\":[{\"colorbar\":{\"outlinewidth\":0,\"ticks\":\"\"},\"colorscale\":[[0.0,\"#0d0887\"],[0.1111111111111111,\"#46039f\"],[0.2222222222222222,\"#7201a8\"],[0.3333333333333333,\"#9c179e\"],[0.4444444444444444,\"#bd3786\"],[0.5555555555555556,\"#d8576b\"],[0.6666666666666666,\"#ed7953\"],[0.7777777777777778,\"#fb9f3a\"],[0.8888888888888888,\"#fdca26\"],[1.0,\"#f0f921\"]],\"type\":\"histogram2dcontour\"}],\"mesh3d\":[{\"colorbar\":{\"outlinewidth\":0,\"ticks\":\"\"},\"type\":\"mesh3d\"}],\"parcoords\":[{\"line\":{\"colorbar\":{\"outlinewidth\":0,\"ticks\":\"\"}},\"type\":\"parcoords\"}],\"pie\":[{\"automargin\":true,\"type\":\"pie\"}],\"scatter\":[{\"marker\":{\"colorbar\":{\"outlinewidth\":0,\"ticks\":\"\"}},\"type\":\"scatter\"}],\"scatter3d\":[{\"line\":{\"colorbar\":{\"outlinewidth\":0,\"ticks\":\"\"}},\"marker\":{\"colorbar\":{\"outlinewidth\":0,\"ticks\":\"\"}},\"type\":\"scatter3d\"}],\"scattercarpet\":[{\"marker\":{\"colorbar\":{\"outlinewidth\":0,\"ticks\":\"\"}},\"type\":\"scattercarpet\"}],\"scattergeo\":[{\"marker\":{\"colorbar\":{\"outlinewidth\":0,\"ticks\":\"\"}},\"type\":\"scattergeo\"}],\"scattergl\":[{\"marker\":{\"colorbar\":{\"outlinewidth\":0,\"ticks\":\"\"}},\"type\":\"scattergl\"}],\"scattermapbox\":[{\"marker\":{\"colorbar\":{\"outlinewidth\":0,\"ticks\":\"\"}},\"type\":\"scattermapbox\"}],\"scatterpolar\":[{\"marker\":{\"colorbar\":{\"outlinewidth\":0,\"ticks\":\"\"}},\"type\":\"scatterpolar\"}],\"scatterpolargl\":[{\"marker\":{\"colorbar\":{\"outlinewidth\":0,\"ticks\":\"\"}},\"type\":\"scatterpolargl\"}],\"scatterternary\":[{\"marker\":{\"colorbar\":{\"outlinewidth\":0,\"ticks\":\"\"}},\"type\":\"scatterternary\"}],\"surface\":[{\"colorbar\":{\"outlinewidth\":0,\"ticks\":\"\"},\"colorscale\":[[0.0,\"#0d0887\"],[0.1111111111111111,\"#46039f\"],[0.2222222222222222,\"#7201a8\"],[0.3333333333333333,\"#9c179e\"],[0.4444444444444444,\"#bd3786\"],[0.5555555555555556,\"#d8576b\"],[0.6666666666666666,\"#ed7953\"],[0.7777777777777778,\"#fb9f3a\"],[0.8888888888888888,\"#fdca26\"],[1.0,\"#f0f921\"]],\"type\":\"surface\"}],\"table\":[{\"cells\":{\"fill\":{\"color\":\"#EBF0F8\"},\"line\":{\"color\":\"white\"}},\"header\":{\"fill\":{\"color\":\"#C8D4E3\"},\"line\":{\"color\":\"white\"}},\"type\":\"table\"}]},\"layout\":{\"annotationdefaults\":{\"arrowcolor\":\"#2a3f5f\",\"arrowhead\":0,\"arrowwidth\":1},\"autotypenumbers\":\"strict\",\"coloraxis\":{\"colorbar\":{\"outlinewidth\":0,\"ticks\":\"\"}},\"colorscale\":{\"diverging\":[[0,\"#8e0152\"],[0.1,\"#c51b7d\"],[0.2,\"#de77ae\"],[0.3,\"#f1b6da\"],[0.4,\"#fde0ef\"],[0.5,\"#f7f7f7\"],[0.6,\"#e6f5d0\"],[0.7,\"#b8e186\"],[0.8,\"#7fbc41\"],[0.9,\"#4d9221\"],[1,\"#276419\"]],\"sequential\":[[0.0,\"#0d0887\"],[0.1111111111111111,\"#46039f\"],[0.2222222222222222,\"#7201a8\"],[0.3333333333333333,\"#9c179e\"],[0.4444444444444444,\"#bd3786\"],[0.5555555555555556,\"#d8576b\"],[0.6666666666666666,\"#ed7953\"],[0.7777777777777778,\"#fb9f3a\"],[0.8888888888888888,\"#fdca26\"],[1.0,\"#f0f921\"]],\"sequentialminus\":[[0.0,\"#0d0887\"],[0.1111111111111111,\"#46039f\"],[0.2222222222222222,\"#7201a8\"],[0.3333333333333333,\"#9c179e\"],[0.4444444444444444,\"#bd3786\"],[0.5555555555555556,\"#d8576b\"],[0.6666666666666666,\"#ed7953\"],[0.7777777777777778,\"#fb9f3a\"],[0.8888888888888888,\"#fdca26\"],[1.0,\"#f0f921\"]]},\"colorway\":[\"#636efa\",\"#EF553B\",\"#00cc96\",\"#ab63fa\",\"#FFA15A\",\"#19d3f3\",\"#FF6692\",\"#B6E880\",\"#FF97FF\",\"#FECB52\"],\"font\":{\"color\":\"#2a3f5f\"},\"geo\":{\"bgcolor\":\"white\",\"lakecolor\":\"white\",\"landcolor\":\"#E5ECF6\",\"showlakes\":true,\"showland\":true,\"subunitcolor\":\"white\"},\"hoverlabel\":{\"align\":\"left\"},\"hovermode\":\"closest\",\"mapbox\":{\"style\":\"light\"},\"paper_bgcolor\":\"white\",\"plot_bgcolor\":\"#E5ECF6\",\"polar\":{\"angularaxis\":{\"gridcolor\":\"white\",\"linecolor\":\"white\",\"ticks\":\"\"},\"bgcolor\":\"#E5ECF6\",\"radialaxis\":{\"gridcolor\":\"white\",\"linecolor\":\"white\",\"ticks\":\"\"}},\"scene\":{\"xaxis\":{\"backgroundcolor\":\"#E5ECF6\",\"gridcolor\":\"white\",\"gridwidth\":2,\"linecolor\":\"white\",\"showbackground\":true,\"ticks\":\"\",\"zerolinecolor\":\"white\"},\"yaxis\":{\"backgroundcolor\":\"#E5ECF6\",\"gridcolor\":\"white\",\"gridwidth\":2,\"linecolor\":\"white\",\"showbackground\":true,\"ticks\":\"\",\"zerolinecolor\":\"white\"},\"zaxis\":{\"backgroundcolor\":\"#E5ECF6\",\"gridcolor\":\"white\",\"gridwidth\":2,\"linecolor\":\"white\",\"showbackground\":true,\"ticks\":\"\",\"zerolinecolor\":\"white\"}},\"shapedefaults\":{\"line\":{\"color\":\"#2a3f5f\"}},\"ternary\":{\"aaxis\":{\"gridcolor\":\"white\",\"linecolor\":\"white\",\"ticks\":\"\"},\"baxis\":{\"gridcolor\":\"white\",\"linecolor\":\"white\",\"ticks\":\"\"},\"bgcolor\":\"#E5ECF6\",\"caxis\":{\"gridcolor\":\"white\",\"linecolor\":\"white\",\"ticks\":\"\"}},\"title\":{\"x\":0.05},\"xaxis\":{\"automargin\":true,\"gridcolor\":\"white\",\"linecolor\":\"white\",\"ticks\":\"\",\"title\":{\"standoff\":15},\"zerolinecolor\":\"white\",\"zerolinewidth\":2},\"yaxis\":{\"automargin\":true,\"gridcolor\":\"white\",\"linecolor\":\"white\",\"ticks\":\"\",\"title\":{\"standoff\":15},\"zerolinecolor\":\"white\",\"zerolinewidth\":2}}},\"yaxis\":{\"title\":{\"text\":\"Nifty 50\"},\"tickformat\":\"000\"},\"title\":{\"text\":\"Nifty50 Last 1 Year Chart with Actual and Forecasted Data using KATS Algo\"},\"hovermode\":\"x unified\",\"xaxis\":{\"tickformat\":\" %d %B (%a) %Y\"}},                        {\"responsive\": true}                    ).then(function(){\n",
              "                            \n",
              "var gd = document.getElementById('5cdc37e0-f68b-4579-abca-f437ac390042');\n",
              "var x = new MutationObserver(function (mutations, observer) {{\n",
              "        var display = window.getComputedStyle(gd).display;\n",
              "        if (!display || display === 'none') {{\n",
              "            console.log([gd, 'removed!']);\n",
              "            Plotly.purge(gd);\n",
              "            observer.disconnect();\n",
              "        }}\n",
              "}});\n",
              "\n",
              "// Listen for the removal of the full notebook cells\n",
              "var notebookContainer = gd.closest('#notebook-container');\n",
              "if (notebookContainer) {{\n",
              "    x.observe(notebookContainer, {childList: true});\n",
              "}}\n",
              "\n",
              "// Listen for the clearing of the current output cell\n",
              "var outputEl = gd.closest('.output');\n",
              "if (outputEl) {{\n",
              "    x.observe(outputEl, {childList: true});\n",
              "}}\n",
              "\n",
              "                        })                };                            </script>        </div>\n",
              "</body>\n",
              "</html>"
            ]
          },
          "metadata": {}
        }
      ]
    },
    {
      "cell_type": "markdown",
      "source": [
        "##EURUSD Currency Forecasting Example\n",
        "\n",
        "**Do not Execute below cells, it's just for example**"
      ],
      "metadata": {
        "id": "RuwGPbMzcIUQ"
      }
    },
    {
      "cell_type": "code",
      "metadata": {
        "outputId": "f79591ce-a22e-4aca-92c2-e483625989eb",
        "colab": {
          "base_uri": "https://localhost:8080/"
        },
        "id": "UnMiBECibz9j"
      },
      "source": [
        "import sys\n",
        "sys.modules.keys()"
      ],
      "execution_count": null,
      "outputs": [
        {
          "output_type": "execute_result",
          "data": {
            "text/plain": [
              "dict_keys(['sys', 'builtins', '_frozen_importlib', '_imp', '_thread', '_warnings', '_weakref', 'zipimport', '_frozen_importlib_external', '_io', 'marshal', 'posix', 'encodings', 'codecs', '_codecs', 'encodings.aliases', 'encodings.utf_8', '_signal', '__main__', 'encodings.latin_1', 'io', 'abc', '_abc', '_bootlocale', '_locale', 'warnings', 're', 'enum', 'types', '_collections', 'sre_compile', '_sre', 'sre_parse', 'sre_constants', 'functools', '_functools', 'collections', '_collections_abc', 'operator', '_operator', 'keyword', 'heapq', '_heapq', 'itertools', 'reprlib', 'copyreg', 'site', 'os', 'stat', '_stat', 'posixpath', 'genericpath', 'os.path', '_sitebuiltins', 'importlib', 'importlib._bootstrap', 'importlib._bootstrap_external', 'importlib.util', 'importlib.abc', 'importlib.machinery', 'contextlib', 'google', 'google.cloud', 'google.logging', 'mpl_toolkits', 'sphinxcontrib', 'sitecustomize', 'runpy', 'pkgutil', 'weakref', '_weakrefset', 'ipykernel', 'ipykernel._version', 'ipykernel.connect', '__future__', 'json', 'json.decoder', 'json.scanner', '_json', 'json.encoder', 'subprocess', 'time', 'signal', 'errno', '_posixsubprocess', 'select', 'selectors', 'collections.abc', 'math', 'threading', 'traceback', 'linecache', 'tokenize', 'token', 'IPython', 'IPython.core', 'IPython.core.getipython', 'IPython.core.release', 'IPython.core.application', 'atexit', 'copy', 'glob', 'fnmatch', 'logging', 'string', '_string', 'shutil', 'zlib', 'bz2', '_compression', '_bz2', 'lzma', '_lzma', 'pwd', 'grp', 'traitlets', 'traitlets.traitlets', 'ast', '_ast', 'inspect', 'dis', 'opcode', '_opcode', 'traitlets.utils', 'traitlets.utils.getargspec', 'traitlets.utils.importstring', 'traitlets.utils.sentinel', 'traitlets.utils.bunch', 'traitlets.utils.descriptions', 'traitlets.utils.decorators', 'traitlets._version', 'traitlets.config', 'traitlets.config.application', 'pprint', 'traitlets.config.configurable', 'traitlets.config.loader', 'argparse', 'gettext', 'locale', 'traitlets.utils.text', 'textwrap', 'IPython.core.crashhandler', 'IPython.core.ultratb', 'pydoc', 'platform', 'sysconfig', 'urllib', 'urllib.parse', '_sysconfigdata_m_x86_64-linux-gnu', 'IPython.core.debugger', 'bdb', 'IPython.utils', 'IPython.utils.PyColorize', 'IPython.utils.coloransi', 'IPython.utils.ipstruct', 'IPython.utils.py3compat', 'IPython.utils.encoding', 'IPython.utils.colorable', 'pygments', 'IPython.utils.ulinecache', 'IPython.utils.openpy', 'IPython.core.excolors', 'IPython.testing', 'IPython.testing.skipdoctest', 'pdb', 'cmd', 'code', 'codeop', 'IPython.core.display_trap', 'IPython.utils.path', 'random', 'hashlib', '_hashlib', '_blake2', '_sha3', 'bisect', '_bisect', '_random', 'IPython.utils.process', 'IPython.utils._process_posix', 'pexpect', 'pexpect.exceptions', 'pexpect.utils', 'pexpect.expect', 'pexpect.pty_spawn', 'pty', 'tty', 'termios', 'ptyprocess', 'ptyprocess.ptyprocess', 'fcntl', 'resource', 'struct', '_struct', 'ptyprocess.util', 'pexpect.spawnbase', 'pexpect.run', 'IPython.utils._process_common', 'shlex', 'IPython.utils.decorators', 'IPython.utils.data', 'IPython.utils.terminal', 'IPython.utils.sysinfo', 'IPython.utils._sysinfo', 'IPython.core.profiledir', 'IPython.paths', 'tempfile', 'IPython.utils.importstring', 'IPython.terminal', 'IPython.terminal.embed', 'IPython.core.compilerop', 'IPython.core.magic_arguments', 'IPython.core.error', 'IPython.utils.text', 'pathlib', 'ntpath', 'IPython.core.magic', 'getopt', 'IPython.core.oinspect', 'IPython.core.page', 'IPython.core.display', 'base64', 'binascii', 'mimetypes', 'IPython.lib', 'IPython.lib.security', 'getpass', 'IPython.lib.pretty', 'datetime', '_datetime', 'IPython.utils.dir2', 'IPython.utils.wildcard', 'IPython.utils.signatures', 'pygments.lexers', 'pygments.lexers._mapping', 'pygments.modeline', 'pygments.plugin', 'pygments.util', 'pygments.lexers.python', 'pygments.lexer', 'pygments.filter', 'pygments.filters', 'pygments.token', 'pygments.regexopt', 'pygments.unistring', 'pygments.formatters', 'pygments.formatters._mapping', 'pygments.formatters.html', 'pygments.formatter', 'pygments.styles', 'IPython.core.inputsplitter', 'IPython.core.inputtransformer', 'IPython.core.splitinput', 'IPython.utils.tokenize2', 'IPython.utils._tokenize_py3', 'decorator', 'IPython.core.interactiveshell', 'pickleshare', 'pickle', '_compat_pickle', '_pickle', 'IPython.core.prefilter', 'IPython.core.autocall', 'IPython.core.macro', 'IPython.core.shadowns', 'IPython.core.alias', 'IPython.core.builtin_trap', 'IPython.core.events', 'IPython.core.displayhook', 'IPython.core.displaypub', 'IPython.core.extensions', 'IPython.core.formatters', 'IPython.utils.sentinel', 'IPython.core.history', 'sqlite3', 'sqlite3.dbapi2', '_sqlite3', 'IPython.core.logger', 'IPython.core.payload', 'IPython.core.usage', 'IPython.display', 'IPython.lib.display', 'IPython.utils.io', 'IPython.utils.capture', 'IPython.utils.strdispatch', 'IPython.core.hooks', 'IPython.utils.syspathcontext', 'IPython.utils.tempdir', 'IPython.utils.contexts', 'IPython.terminal.interactiveshell', 'prompt_toolkit', 'prompt_toolkit.interface', 'six', 'prompt_toolkit.application', 'prompt_toolkit.buffer', 'prompt_toolkit.auto_suggest', 'prompt_toolkit.filters', 'prompt_toolkit.filters.base', 'prompt_toolkit.utils', 'wcwidth', 'wcwidth.wcwidth', 'wcwidth.table_wide', 'wcwidth.table_zero', 'wcwidth.unicode_versions', 'six.moves', 'prompt_toolkit.filters.cli', 'prompt_toolkit.enums', 'prompt_toolkit.key_binding', 'prompt_toolkit.key_binding.vi_state', 'prompt_toolkit.cache', 'prompt_toolkit.filters.types', 'prompt_toolkit.filters.utils', 'prompt_toolkit.clipboard', 'prompt_toolkit.clipboard.base', 'prompt_toolkit.selection', 'prompt_toolkit.clipboard.in_memory', 'prompt_toolkit.completion', 'prompt_toolkit.document', 'prompt_toolkit.history', 'prompt_toolkit.search_state', 'prompt_toolkit.validation', 'prompt_toolkit.buffer_mapping', 'prompt_toolkit.key_binding.bindings', 'prompt_toolkit.key_binding.bindings.basic', 'prompt_toolkit.keys', 'prompt_toolkit.layout', 'prompt_toolkit.layout.containers', 'prompt_toolkit.layout.controls', 'prompt_toolkit.mouse_events', 'prompt_toolkit.token', 'prompt_toolkit.layout.lexers', 'prompt_toolkit.layout.utils', 'prompt_toolkit.layout.processors', 'prompt_toolkit.reactive', 'prompt_toolkit.layout.screen', 'prompt_toolkit.layout.dimension', 'prompt_toolkit.layout.margins', 'prompt_toolkit.renderer', 'prompt_toolkit.layout.mouse_handlers', 'prompt_toolkit.output', 'prompt_toolkit.styles', 'prompt_toolkit.styles.base', 'prompt_toolkit.styles.defaults', 'prompt_toolkit.styles.from_dict', 'prompt_toolkit.styles.utils', 'prompt_toolkit.styles.from_pygments', 'pygments.style', 'pygments.styles.default', 'prompt_toolkit.key_binding.bindings.named_commands', 'prompt_toolkit.key_binding.bindings.completion', 'prompt_toolkit.key_binding.registry', 'prompt_toolkit.key_binding.input_processor', 'prompt_toolkit.key_binding.bindings.emacs', 'prompt_toolkit.key_binding.bindings.scroll', 'prompt_toolkit.key_binding.bindings.vi', 'prompt_toolkit.key_binding.digraphs', 'prompt_toolkit.key_binding.defaults', 'prompt_toolkit.eventloop', 'prompt_toolkit.eventloop.base', 'prompt_toolkit.eventloop.callbacks', 'prompt_toolkit.input', 'prompt_toolkit.terminal', 'prompt_toolkit.terminal.vt100_input', 'prompt_toolkit.shortcuts', 'prompt_toolkit.layout.menus', 'prompt_toolkit.layout.prompt', 'prompt_toolkit.layout.toolbars', 'prompt_toolkit.terminal.vt100_output', 'array', 'prompt_toolkit.key_binding.manager', 'IPython.terminal.debugger', 'IPython.core.completer', 'unicodedata', 'IPython.core.latex_symbols', 'IPython.utils.generics', 'simplegeneric', 'IPython.terminal.ptutils', 'IPython.terminal.shortcuts', 'IPython.terminal.magics', 'IPython.lib.clipboard', 'IPython.terminal.pt_inputhooks', 'IPython.terminal.prompts', 'pkg_resources', 'zipfile', 'plistlib', 'xml', 'xml.parsers', 'xml.parsers.expat', 'pyexpat.errors', 'pyexpat.model', 'pyexpat', 'xml.parsers.expat.model', 'xml.parsers.expat.errors', 'email', 'email.parser', 'email.feedparser', 'email.errors', 'email._policybase', 'email.header', 'email.quoprimime', 'email.base64mime', 'email.charset', 'email.encoders', 'quopri', 'email.utils', 'socket', '_socket', 'email._parseaddr', 'calendar', 'pkg_resources.extern', 'pkg_resources._vendor', 'pkg_resources._vendor.appdirs', 'pkg_resources.extern.appdirs', 'pkg_resources._vendor.packaging', 'pkg_resources._vendor.packaging.__about__', 'pkg_resources.extern.packaging', 'pkg_resources.extern.packaging.version', 'pkg_resources.extern.packaging._structures', 'pkg_resources.extern.packaging._typing', 'pkg_resources.extern.packaging.specifiers', 'pkg_resources.extern.packaging._compat', 'pkg_resources.extern.packaging.utils', 'pkg_resources.extern.packaging.requirements', 'pkg_resources._vendor.pyparsing', 'pkg_resources.extern.pyparsing', 'pkg_resources.extern.packaging.markers', 'IPython.terminal.ipapp', 'IPython.core.magics', 'IPython.core.magics.auto', 'IPython.core.magics.basic', 'IPython.core.magics.code', 'IPython.core.magics.config', 'IPython.core.magics.display', 'IPython.core.magics.execution', 'gc', 'timeit', 'cProfile', '_lsprof', 'profile', 'pstats', 'IPython.utils.module_paths', 'imp', 'IPython.utils.timing', 'IPython.core.magics.extension', 'IPython.core.magics.history', 'IPython.core.magics.logging', 'IPython.core.magics.namespace', 'IPython.core.magics.osm', 'IPython.core.magics.pylab', 'IPython.core.pylabtools', 'IPython.core.magics.script', 'IPython.lib.backgroundjobs', 'IPython.core.shellapp', 'IPython.extensions', 'IPython.extensions.storemagic', 'IPython.utils.frame', 'ipython_genutils', 'ipython_genutils._version', 'ipython_genutils.path', 'ipython_genutils.py3compat', 'ipython_genutils.encoding', 'jupyter_client', 'jupyter_client._version', 'jupyter_client.connect', 'zmq', 'ctypes', '_ctypes', 'ctypes._endian', 'zmq.backend', 'zmq.backend.select', 'typing', 'typing.io', 'typing.re', 'zmq.backend.cython', 'zmq.backend.cython.constants', 'cython_runtime', 'zmq.backend.cython.error', '_cython_0_29_24', 'zmq.backend.cython.message', 'zmq.error', 'zmq.backend.cython.context', 'zmq.backend.cython.socket', 'zmq.backend.cython.utils', 'zmq.backend.cython._poll', 'zmq.backend.cython._version', 'zmq.backend.cython._device', 'zmq.backend.cython._proxy_steerable', 'zmq.sugar', 'zmq.sugar.constants', 'zmq.utils', 'zmq.utils.constant_names', 'zmq.sugar.context', 'zmq.sugar.attrsettr', 'zmq.sugar.socket', 'zmq.sugar.poll', 'zmq.utils.jsonapi', 'zmq.utils.strtypes', 'zmq.sugar.frame', 'zmq.sugar.tracker', 'zmq.sugar.version', 'zmq.sugar.stopwatch', 'jupyter_client.localinterfaces', 'jupyter_core', 'jupyter_core.version', 'jupyter_core.paths', 'jupyter_client.launcher', 'traitlets.log', 'jupyter_client.client', 'jupyter_client.channels', 'jupyter_client.channelsabc', 'jupyter_client.clientabc', 'jupyter_client.manager', 'ipython_genutils.importstring', 'jupyter_client.kernelspec', 'jupyter_client.managerabc', 'jupyter_client.blocking', 'jupyter_client.blocking.client', 'queue', '_queue', 'jupyter_client.blocking.channels', 'jupyter_client.multikernelmanager', 'uuid', 'ipykernel.kernelapp', 'tornado', 'tornado.ioloop', 'numbers', 'tornado.concurrent', 'tornado.log', 'logging.handlers', 'tornado.escape', 'tornado.util', 'tornado.speedups', 'html', 'html.entities', 'curses', '_curses', 'tornado.stack_context', 'concurrent', 'concurrent.futures', 'concurrent.futures._base', 'asyncio', 'asyncio.base_events', 'ssl', '_ssl', 'asyncio.constants', 'asyncio.coroutines', 'asyncio.base_futures', 'asyncio.format_helpers', 'asyncio.log', 'asyncio.events', 'contextvars', '_contextvars', 'asyncio.base_tasks', '_asyncio', 'asyncio.futures', 'asyncio.protocols', 'asyncio.sslproto', 'asyncio.transports', 'asyncio.tasks', 'asyncio.locks', 'asyncio.runners', 'asyncio.queues', 'asyncio.streams', 'asyncio.subprocess', 'asyncio.unix_events', 'asyncio.base_subprocess', 'asyncio.selector_events', 'tornado.platform', 'tornado.platform.auto', 'tornado.platform.posix', 'tornado.platform.common', 'tornado.platform.interface', 'concurrent.futures.thread', 'zmq.eventloop', 'zmq.eventloop.ioloop', 'tornado.platform.asyncio', 'tornado.gen', 'zmq.eventloop.zmqstream', 'ipykernel.iostream', 'jupyter_client.session', 'hmac', 'jupyter_client.jsonutil', 'dateutil', 'dateutil._version', 'dateutil.parser', 'dateutil.parser._parser', 'decimal', '_decimal', 'dateutil.relativedelta', 'dateutil._common', 'dateutil.tz', 'dateutil.tz.tz', 'dateutil.tz._common', 'dateutil.tz._factories', 'dateutil.parser.isoparser', '_strptime', 'jupyter_client.adapter', 'ipykernel.heartbeat', 'ipykernel.ipkernel', 'IPython.utils.tokenutil', 'ipykernel.comm', 'ipykernel.comm.manager', 'ipykernel.comm.comm', 'ipykernel.kernelbase', 'ipykernel.jsonutil', 'ipykernel.zmqshell', 'IPython.core.payloadpage', 'ipykernel.displayhook', 'ipykernel.parentpoller', 'google.colab', 'google.colab._import_hooks', 'google.colab._import_hooks._altair', 'google.colab._import_hooks._bokeh', 'google.colab._import_hooks._cv2', 'google.colab._import_hooks._pydrive', 'google.colab._import_magics', 'google.colab._installation_commands', 'google.colab._reprs', 'IPython.utils.traitlets', 'google.colab._shell_customizations', 'google.colab._ipython', 'google.colab._system_commands', 'google.colab._message', 'google.colab.errors', 'google.colab.output', 'google.colab.output._area', 'google.colab.output._js_builder', 'google.colab.output._js', 'google.colab.output._publish', 'google.colab.output._tags', 'google.colab.output._util', 'google.colab.output._widgets', 'google.colab._tensorflow_magics', 'google.colab.auth', 'google.colab.files', 'http', 'http.server', 'http.client', 'email.message', 'uu', 'email._encoded_words', 'email.iterators', 'socketserver', 'six.moves.urllib', 'google.colab.data_table', 'google.colab._interactive_table_helper', 'google.colab.drive', 'pexpect.popen_spawn', 'psutil', 'psutil._common', 'psutil._compat', 'psutil._exceptions', 'psutil._pslinux', 'psutil._psposix', 'psutil._psutil_linux', 'psutil._psutil_posix', 'google.colab.snippets', 'google.colab.widgets', 'google.colab.widgets._grid', 'google.colab.widgets._widget', 'google.colab.widgets._tabbar', 'google.colab._kernel', 'google.colab._shell', 'google.colab._event_manager', 'google.colab._history', 'google.colab._inspector', 'astor', 'astor.code_gen', 'astor.op_util', 'astor.node_util', 'astor.string_repr', 'astor.source_repr', 'astor.file_util', 'astor.tree_walk', 'google.colab._pip', 'encodings.idna', 'stringprep', 'faulthandler', 'ipykernel.datapub', 'ipykernel.serialize', 'ipykernel.pickleutil', 'ipykernel.codeutil', 'IPython.lib.deepreload', 'IPython.core.completerlib', 'matplotlib', 'distutils', 'distutils.version', 'matplotlib.cbook', 'gzip', 'numpy', 'numpy._globals', 'numpy.__config__', 'numpy._version', 'numpy._distributor_init', 'numpy.core', 'numpy.version', 'numpy.core.multiarray', 'numpy.core.overrides', 'numpy.core._multiarray_umath', 'numpy.compat', 'numpy.compat._inspect', 'numpy.compat.py3k', 'numpy.core.umath', 'numpy.core.numerictypes', 'numpy.core._string_helpers', 'numpy.core._type_aliases', 'numpy.core._dtype', 'numpy.core.numeric', 'numpy.core.shape_base', 'numpy.core.fromnumeric', 'numpy.core._methods', 'numpy.core._exceptions', 'numpy.core._ufunc_config', 'numpy.core.arrayprint', 'numpy.core._asarray', 'numpy.core.defchararray', 'numpy.core.records', 'numpy.core.memmap', 'numpy.core.function_base', 'numpy.core.machar', 'numpy.core.getlimits', 'numpy.core.einsumfunc', 'numpy.core._add_newdocs', 'numpy.core._multiarray_tests', 'numpy.core._add_newdocs_scalars', 'numpy.core._dtype_ctypes', 'numpy.core._internal', 'numpy._pytesttester', 'numpy.lib', 'numpy.lib.mixins', 'numpy.lib.scimath', 'numpy.lib.type_check', 'numpy.lib.ufunclike', 'numpy.lib.index_tricks', 'numpy.matrixlib', 'numpy.matrixlib.defmatrix', 'numpy.linalg', 'numpy.linalg.linalg', 'numpy.lib.twodim_base', 'numpy.lib.stride_tricks', 'numpy.linalg.lapack_lite', 'numpy.linalg._umath_linalg', 'numpy.lib.function_base', 'numpy.lib.histograms', 'numpy.lib.nanfunctions', 'numpy.lib.shape_base', 'numpy.lib.polynomial', 'numpy.lib.utils', 'numpy.lib.arraysetops', 'numpy.lib.npyio', 'numpy.lib.format', 'numpy.lib._datasource', 'numpy.lib._iotools', 'numpy.lib.arrayterator', 'numpy.lib.arraypad', 'numpy.lib._version', 'numpy.fft', 'numpy.fft._pocketfft', 'numpy.fft._pocketfft_internal', 'numpy.fft.helper', 'numpy.polynomial', 'numpy.polynomial.polynomial', 'numpy.polynomial.polyutils', 'numpy.polynomial._polybase', 'numpy.polynomial.chebyshev', 'numpy.polynomial.legendre', 'numpy.polynomial.hermite', 'numpy.polynomial.hermite_e', 'numpy.polynomial.laguerre', 'numpy.random', 'numpy.random._pickle', 'numpy.random.mtrand', 'numpy.random.bit_generator', 'numpy.random._common', 'secrets', 'numpy.random._bounded_integers', 'numpy.random._mt19937', 'numpy.random._philox', 'numpy.random._pcg64', 'numpy.random._sfc64', 'numpy.random._generator', 'numpy.ctypeslib', 'numpy.ma', 'numpy.ma.core', 'numpy.ma.extras', 'matplotlib.cbook.deprecation', 'matplotlib.rcsetup', 'matplotlib.fontconfig_pattern', 'pyparsing', 'pyparsing.util', 'pyparsing.exceptions', 'pyparsing.unicode', 'pyparsing.actions', 'pyparsing.core', 'pyparsing.results', 'pyparsing.helpers', 'pyparsing.testing', 'pyparsing.common', 'matplotlib.colors', 'matplotlib.docstring', 'matplotlib._color_data', 'cycler', 'matplotlib._version', 'matplotlib.ft2font', 'kiwisolver', 'kiwisolver._cext', 'matplotlib.pyplot', 'matplotlib.colorbar', 'matplotlib.artist', 'matplotlib.path', 'matplotlib._path', 'matplotlib.transforms', 'matplotlib.collections', 'matplotlib.cm', 'matplotlib._cm', 'matplotlib._cm_listed', 'matplotlib.lines', 'matplotlib.markers', 'matplotlib.contour', 'matplotlib.ticker', 'matplotlib.font_manager', 'matplotlib.afm', 'matplotlib._mathtext_data', 'matplotlib.text', 'matplotlib.patches', 'matplotlib.bezier', 'matplotlib.textpath', 'matplotlib._text_layout', 'matplotlib.dviread', 'matplotlib.mathtext', 'matplotlib.texmanager', 'matplotlib.blocking_input', 'matplotlib.gridspec', 'matplotlib._pylab_helpers', 'matplotlib.tight_layout', 'matplotlib._layoutbox', 'matplotlib._constrained_layout', 'matplotlib.image', 'matplotlib.backend_bases', 'matplotlib.backend_tools', 'matplotlib.tight_bbox', 'matplotlib.widgets', 'PIL', 'PIL._version', 'matplotlib._image', 'matplotlib.style', 'matplotlib.style.core', 'matplotlib.figure', 'matplotlib.backends', 'matplotlib.projections', 'matplotlib.axes', 'matplotlib.axes._subplots', 'matplotlib.axes._axes', 'matplotlib.category', 'matplotlib.units', 'matplotlib.dates', 'dateutil.rrule', 'matplotlib.legend', 'matplotlib.offsetbox', 'matplotlib.container', 'matplotlib.legend_handler', 'matplotlib.mlab', 'csv', '_csv', 'matplotlib.quiver', 'matplotlib.stackplot', 'matplotlib.streamplot', 'matplotlib.table', 'matplotlib.tri', 'matplotlib.tri.triangulation', 'matplotlib.tri.tricontour', 'matplotlib.tri.tritools', 'matplotlib.tri.trifinder', 'matplotlib.tri.triinterpolate', 'matplotlib.tri.trirefine', 'matplotlib.tri.tripcolor', 'matplotlib.tri.triplot', 'matplotlib.axes._base', 'matplotlib.axis', 'matplotlib.scale', 'matplotlib.spines', 'matplotlib.axes._secondary_axes', 'matplotlib.projections.geo', 'matplotlib.projections.polar', 'mpl_toolkits.mplot3d', 'mpl_toolkits.mplot3d.axes3d', 'mpl_toolkits.mplot3d.art3d', 'mpl_toolkits.mplot3d.proj3d', 'mpl_toolkits.mplot3d.axis3d', 'ipykernel.pylab', 'ipykernel.pylab.backend_inline', 'matplotlib.backends.backend_agg', 'matplotlib.backends._backend_agg', 'PIL.Image', 'PIL.ImageMode', 'PIL.TiffTags', 'PIL._binary', 'PIL._util', 'PIL._imaging', 'cffi', 'cffi.api', 'cffi.lock', 'cffi.error', 'cffi.model', 'ipykernel.pylab.config', 'ipykernel.eventloops', 'storemagic', 'ipywidgets', 'ipywidgets._version', 'ipywidgets.widgets', 'ipywidgets.widgets.widget', 'ipywidgets.widgets.domwidget', 'ipywidgets.widgets.trait_types', 'ipywidgets.widgets.util', 'ipywidgets.widgets.widget_layout', 'ipywidgets.widgets.widget_style', 'ipywidgets.widgets.valuewidget', 'ipywidgets.widgets.widget_core', 'ipywidgets.widgets.widget_bool', 'ipywidgets.widgets.widget_description', 'ipywidgets.widgets.widget_button', 'ipywidgets.widgets.widget_box', 'ipywidgets.widgets.docutils', 'ipywidgets.widgets.widget_float', 'ipywidgets.widgets.widget_int', 'ipywidgets.widgets.widget_color', 'ipywidgets.widgets.widget_date', 'ipywidgets.widgets.widget_output', 'ipywidgets.widgets.widget_selection', 'ipywidgets.widgets.widget_selectioncontainer', 'ipywidgets.widgets.widget_string', 'ipywidgets.widgets.widget_controller', 'ipywidgets.widgets.interaction', 'ipywidgets.widgets.widget_link', 'ipywidgets.widgets.widget_media', 'ipywidgets.widgets.widget_templates', 'ipywidgets.widgets.widget_upload', 'google.colab._debugpy', 'debugpy', 'debugpy._version', 'debugpy.common', 'debugpy.common.compat', 'debugpy.common.fmt', 'debugpy.common.json', 'google.colab._debugpy_repr', 'google.colab._variable_inspector', 'portpicker', 'debugpy.server', 'debugpy._vendored', 'debugpy._vendored._util', 'debugpy._vendored.force_pydevd', '_pydevd_bundle', '_pydevd_bundle.pydevd_constants', 'encodings.ascii', '_pydevd_bundle.pydevd_vm_type', '_pydev_imps', '_pydev_imps._pydev_saved_modules', 'xmlrpc', 'xmlrpc.client', 'xmlrpc.server', '_pydev_bundle', '_pydev_runfiles', '_pydevd_frame_eval', 'pydev_ipython', 'pydevd_concurrency_analyser', 'pydevd_plugins', 'pydevd', 'pydevd_file_utils', '_pydev_bundle.pydev_log', '_pydev_bundle._pydev_filesystem_encoding', '_pydevd_bundle.pydevd_comm_constants', '_pydev_bundle.pydev_imports', '_pydev_imps._pydev_execfile', '_pydevd_bundle.pydevd_exec2', '_pydev_bundle.pydev_is_thread_alive', '_pydev_bundle.pydev_override', '_pydevd_bundle.pydevd_extension_utils', 'pydevd_plugins.extensions', '_pydevd_bundle.pydevd_frame_utils', '_pydevd_bundle.pydevd_filtering', '_pydevd_bundle.pydevd_io', '_pydevd_bundle.pydevd_utils', '_pydev_bundle.pydev_console_utils', '_pydev_bundle._pydev_calltip_util', '_pydev_bundle._pydev_imports_tipper', '_pydev_bundle._pydev_tipper_common', '_pydevd_bundle.pydevd_vars', '_pydevd_bundle.pydevd_xml', '_pydevd_bundle.pydevd_resolver', '_pydevd_bundle.pydevd_safe_repr', '_pydevd_bundle.pydevd_extension_api', '_pydevd_bundle.pydevd_thread_lifecycle', '_pydevd_bundle.pydevd_additional_thread_info', '_pydevd_bundle.pydevd_cython_wrapper', '_pydevd_bundle.pydevd_cython', '_cython_0_29_21', '_pydevd_bundle.pydevd_dont_trace', '_pydevd_bundle.pydevd_save_locals', '_pydevd_bundle.pydevd_timeout', '_pydevd_bundle.pydevd_daemon_thread', 'pydevd_tracing', '_pydev_bundle.pydev_monkey', '_pydevd_bundle.pydevd_breakpoints', '_pydevd_bundle.pydevd_import_class', '_pydevd_bundle.pydevd_defaults', '_pydevd_bundle.pydevd_custom_frames', '_pydevd_bundle.pydevd_dont_trace_files', '_pydevd_bundle.pydevd_net_command_factory_xml', '_pydevd_bundle.pydevd_net_command', '_pydev_bundle._pydev_completer', 'pydevconsole', '_pydev_bundle.pydev_umd', '_pydevd_bundle.pydevd_trace_dispatch', '_pydevd_bundle.pydevd_additional_thread_info_regular', '_pydevd_bundle.pydevd_frame', '_pydevd_frame_eval.pydevd_frame_eval_main', '_pydevd_bundle.pydevd_source_mapping', 'pydevd_concurrency_analyser.pydevd_concurrency_logger', 'pydevd_concurrency_analyser.pydevd_thread_wrappers', '_pydevd_bundle.pydevd_comm', '_pydevd_bundle._debug_adapter', '_pydevd_bundle._debug_adapter.pydevd_schema', '_pydevd_bundle._debug_adapter.pydevd_base_schema', '_pydevd_bundle._debug_adapter.pydevd_schema_log', '_pydevd_bundle.pydevd_console', '_pydevd_bundle.pydevd_process_net_command_json', '_pydevd_bundle.pydevd_api', '_pydevd_bundle.pydevd_net_command_factory_json', '_pydevd_bundle.pydevd_collect_bytecode_info', '_pydevd_bundle.pydevd_json_debug_options', '_pydevd_bundle.pydevd_process_net_command', '_pydevd_bundle.pydevd_traceproperty', '_pydevd_bundle.pydevd_suspended_frames', '_pydevd_bundle.pydevd_plugin_utils', '_pydevd_bundle.pydevd_trace_api', 'pydevd_plugins.django_debug', 'pydevd_plugins.jinja2_debug', 'pydevd_plugins.extensions.types', 'pydevd_plugins.extensions.types.pydevd_plugin_numpy_types', 'pydevd_plugins.extensions.types.pydevd_helpers', 'pydevd_plugins.extensions.types.pydevd_plugins_django_form_str', 'debugpy.server.api', 'debugpy.adapter', 'debugpy.common.log', 'debugpy.common.timestamp', 'debugpy.common.util', 'debugpy.common.sockets', 'google.colab._interactive_table_hint_button', 'encodings.hex_codec', 'pandas', 'pytz', 'pytz.exceptions', 'pytz.lazy', 'pytz.tzinfo', 'pytz.tzfile', 'pandas.compat', 'pandas._typing', 'mmap', 'pandas.compat.numpy', 'pandas.util', 'pandas.util._decorators', 'pandas._libs', 'pandas._libs.interval', 'pandas._libs.hashtable', 'pandas._libs.missing', 'pandas._libs.tslibs', 'pandas._libs.tslibs.dtypes', 'pandas._libs.tslibs.conversion', 'pandas._libs.tslibs.base', 'pandas._libs.tslibs.nattype', 'pandas._libs.tslibs.np_datetime', 'pandas._libs.tslibs.timezones', 'pandas._libs.tslibs.tzconversion', 'pandas._libs.tslibs.ccalendar', 'pandas._libs.tslibs.parsing', 'pandas._libs.tslibs.offsets', 'pandas._libs.tslibs.timedeltas', 'pandas._libs.tslibs.fields', 'pandas._config', 'pandas._config.config', 'pandas._config.dates', 'pandas._config.display', 'pandas._config.localization', 'pandas._libs.tslibs.strptime', 'pandas._libs.tslibs.timestamps', 'dateutil.easter', 'pandas._libs.properties', 'pandas._libs.tslibs.period', 'pandas._libs.tslibs.vectorized', 'pandas._libs.ops_dispatch', 'pandas._libs.algos', 'pandas.core', 'pandas.core.util', 'pandas.core.util.hashing', 'pandas._libs.lib', 'pandas._libs.tslib', 'pandas._libs.hashing', 'pandas.core.dtypes', 'pandas.core.dtypes.common', 'pandas.core.dtypes.base', 'pandas.errors', 'pandas.core.dtypes.generic', 'pandas.core.dtypes.dtypes', 'pandas.core.dtypes.inference', 'pandas.util.version', 'pandas.compat.pyarrow', 'pyarrow', 'pyarrow._generated_version', 'pyarrow.lib', 'cloudpickle', 'cloudpickle.cloudpickle', 'pyarrow.util', 'pyarrow._hdfsio', 'pyarrow.hdfs', 'pyarrow.filesystem', 'pyarrow.ipc', 'pyarrow.serialization', 'pyarrow.types', 'pandas.core.config_init', 'pandas.core.api', 'pandas.core.dtypes.missing', 'pandas.core.algorithms', 'pandas.core.dtypes.cast', 'pandas.util._exceptions', 'pandas.util._validators', 'pandas.core.array_algos', 'pandas.core.array_algos.take', 'pandas.core.construction', 'pandas.core.common', 'pandas.core.indexers', 'pandas.core.arrays', 'pandas.core.arrays.base', 'pandas.compat.numpy.function', 'pandas.core.missing', 'pandas.compat._optional', 'pandas.core.ops', 'pandas.core.roperator', 'pandas.core.ops.array_ops', 'pandas._libs.ops', 'pandas.core.computation', 'pandas.core.computation.expressions', 'pandas.core.computation.check', 'numexpr', 'numexpr.interpreter', 'numexpr.expressions', 'packaging', 'packaging.__about__', 'packaging.version', 'packaging._structures', 'numexpr.necompiler', 'numexpr.utils', 'numexpr.version', 'pandas.core.ops.missing', 'pandas.core.ops.dispatch', 'pandas.core.ops.invalid', 'pandas.core.ops.common', 'pandas.core.ops.docstrings', 'pandas.core.ops.mask_ops', 'pandas.core.ops.methods', 'pandas.core.sorting', 'pandas.core.arrays.boolean', 'pandas.core.arrays.masked', 'pandas.core.nanops', 'bottleneck', 'bottleneck.benchmark', 'bottleneck.benchmark.bench', 'bottleneck.benchmark.autotimeit', 'bottleneck.benchmark.bench_detailed', 'bottleneck.tests', 'bottleneck.tests.util', 'bottleneck.slow', 'bottleneck.slow.reduce', 'bottleneck.slow.nonreduce', 'bottleneck.slow.nonreduce_axis', 'bottleneck.slow.move', 'bottleneck._pytesttester', 'bottleneck.move', 'bottleneck.nonreduce', 'bottleneck.nonreduce_axis', 'bottleneck.reduce', 'bottleneck._version', 'pandas.core.array_algos.masked_reductions', 'pandas.core.arraylike', 'pandas.core.arrays.categorical', 'pandas._libs.arrays', 'pandas.core.accessor', 'pandas.core.arrays._mixins', 'pandas.core.array_algos.transforms', 'pandas.core.base', 'pandas.core.strings', 'pandas.core.strings.accessor', 'pandas.core.strings.base', 'pandas.core.strings.object_array', 'pandas.io', 'pandas.io.formats', 'pandas.io.formats.console', 'pandas.core.arrays.datetimes', 'pandas.core.arrays.datetimelike', 'pandas.tseries', 'pandas.tseries.frequencies', 'pandas.core.arrays._ranges', 'pandas.core.arrays.integer', 'pandas.core.arrays.numeric', 'pandas.core.tools', 'pandas.core.tools.numeric', 'pandas.tseries.offsets', 'pandas.core.arrays.floating', 'pandas.core.arrays.interval', 'pandas.core.indexes', 'pandas.core.indexes.base', 'pandas._libs.index', 'pandas._libs.join', 'pandas.core.dtypes.concat', 'pandas.core.arrays.sparse', 'pandas.core.arrays.sparse.accessor', 'pandas.core.arrays.sparse.array', 'pandas._libs.sparse', 'pandas.core.arrays.sparse.dtype', 'pandas.io.formats.printing', 'pandas.core.array_algos.putmask', 'pandas.core.indexes.frozen', 'pandas.core.arrays.numpy_', 'pandas.core.arrays.period', 'pandas.core.arrays.string_', 'pandas.core.arrays.string_arrow', 'pyarrow.compute', 'pyarrow._compute', 'pandas.core.arrays.timedeltas', 'pandas.core.flags', 'pandas.core.groupby', 'pandas.core.groupby.generic', 'pandas._libs.reduction', 'pandas.core.aggregation', 'pandas.core.indexes.api', 'pandas.core.indexes.category', 'pandas.core.indexes.extension', 'pandas.core.indexes.datetimes', 'pandas.core.indexes.datetimelike', 'pandas.core.indexes.numeric', 'pandas.core.tools.timedeltas', 'pandas.core.tools.times', 'pandas.core.indexes.interval', 'pandas.core.indexes.multi', 'pandas.core.indexes.timedeltas', 'pandas.core.indexes.period', 'pandas.core.indexes.range', 'pandas.core.apply', 'pandas.core.frame', 'pandas.core.generic', 'pandas.core.indexing', 'pandas._libs.indexing', 'pandas.core.describe', 'pandas.core.reshape', 'pandas.core.reshape.concat', 'pandas.core.internals', 'pandas.core.internals.api', 'pandas._libs.internals', 'pandas.core.internals.blocks', 'pandas._libs.writers', 'pandas.core.array_algos.quantile', 'pandas.core.array_algos.replace', 'pandas.core.internals.array_manager', 'pandas.core.internals.base', 'pandas.core.internals.concat', 'pandas.core.internals.managers', 'pandas.core.internals.ops', 'pandas.io.formats.format', 'pandas.io.common', 'dataclasses', 'pandas.core.internals.construction', 'pandas.core.shared_docs', 'pandas.core.window', 'pandas.core.window.ewm', 'pandas._libs.window', 'pandas._libs.window.aggregations', 'pandas.core.util.numba_', 'pandas.core.window.common', 'pandas.core.window.doc', 'pandas.core.window.indexers', 'pandas._libs.window.indexers', 'pandas.core.window.numba_', 'pandas.core.window.online', 'pandas.core.window.rolling', 'pandas.core.window.expanding', 'pandas.core.reshape.melt', 'pandas.core.reshape.util', 'pandas.core.series', 'pandas._libs.reshape', 'pandas.core.indexes.accessors', 'pandas.core.tools.datetimes', 'pandas.arrays', 'pandas.plotting', 'pandas.plotting._core', 'pandas.plotting._misc', 'pandas.io.formats.info', 'pandas.core.groupby.base', 'pandas.core.groupby.groupby', 'pandas._libs.groupby', 'pandas.core.groupby.numba_', 'pandas.core.groupby.ops', 'pandas.core.groupby.grouper', 'pandas.core.groupby.categorical', 'pandas.tseries.api', 'pandas.core.computation.api', 'pandas.core.computation.eval', 'pandas.core.computation.engines', 'pandas.core.computation.align', 'pandas.core.computation.common', 'pandas.core.computation.expr', 'pandas.core.computation.ops', 'pandas.core.computation.scope', 'pandas.compat.chainmap', 'pandas.core.computation.parsing', 'pandas.core.reshape.api', 'pandas.core.reshape.merge', 'pandas.core.reshape.pivot', 'pandas.core.reshape.reshape', 'pandas.core.reshape.tile', 'pandas.api', 'pandas.api.extensions', 'pandas.api.indexers', 'pandas.api.types', 'pandas.core.dtypes.api', 'pandas.util._print_versions', 'pandas.io.api', 'pandas.io.clipboards', 'pandas.io.excel', 'pandas.io.excel._base', 'pandas._libs.parsers', 'pandas.io.excel._util', 'pandas.io.parsers', 'pandas.io.parsers.readers', 'pandas.io.parsers.base_parser', 'pandas.io.date_converters', 'pandas.io.parsers.c_parser_wrapper', 'pandas.io.parsers.python_parser', 'pandas.io.excel._odfreader', 'pandas.io.excel._openpyxl', 'pandas.io.excel._pyxlsb', 'pandas.io.excel._xlrd', 'pandas.io.excel._odswriter', 'pandas._libs.json', 'pandas.io.formats.excel', 'pandas.io.formats._color_data', 'pandas.io.formats.css', 'pandas.io.excel._xlsxwriter', 'pandas.io.excel._xlwt', 'pandas.io.feather_format', 'pandas.io.gbq', 'pandas.io.html', 'pandas.io.json', 'pandas.io.json._json', 'pandas.io.json._normalize', 'pandas.io.json._table_schema', 'pandas.io.orc', 'pandas.io.parquet', 'pandas.io.pickle', 'pandas.compat.pickle_compat', 'pandas.io.pytables', 'pandas.core.computation.pytables', 'pandas.io.sas', 'pandas.io.sas.sasreader', 'pandas.io.spss', 'pandas.io.sql', 'pandas.io.stata', 'pandas.io.xml', 'pandas.util._tester', 'pandas.testing', 'pandas._testing', 'pandas._testing._io', 'pandas._testing._random', 'pandas._testing.contexts', 'pandas._testing._warnings', 'pandas._testing.asserters', 'pandas._libs.testing', 'cmath', 'pandas._testing.compat', 'pandas._version', 'pandas_datareader', 'pandas_datareader._version', 'pandas_datareader.data', 'pandas_datareader.av', 'pandas_datareader._utils', 'requests', 'urllib3', 'urllib3.connectionpool', 'urllib3.exceptions', 'urllib3.packages', 'urllib3.packages.ssl_match_hostname', 'urllib3.packages.six', 'urllib3.packages.six.moves', 'urllib3.packages.six.moves.http_client', 'urllib3.connection', 'urllib3.util', 'urllib3.util.connection', 'urllib3.util.wait', 'urllib3.contrib', 'urllib3.contrib._appengine_environ', 'urllib3.util.request', 'urllib3.util.response', 'urllib3.util.ssl_', 'urllib3.util.timeout', 'urllib3.util.retry', 'urllib3.util.url', 'urllib3.packages.six.moves.urllib', 'urllib3.packages.six.moves.urllib.parse', 'urllib3._collections', 'urllib3.request', 'urllib3.filepost', 'urllib3.fields', 'urllib3.response', 'urllib3.util.queue', 'urllib3.poolmanager', 'chardet', 'chardet.compat', 'chardet.universaldetector', 'chardet.charsetgroupprober', 'chardet.enums', 'chardet.charsetprober', 'chardet.escprober', 'chardet.codingstatemachine', 'chardet.escsm', 'chardet.latin1prober', 'chardet.mbcsgroupprober', 'chardet.utf8prober', 'chardet.mbcssm', 'chardet.sjisprober', 'chardet.mbcharsetprober', 'chardet.chardistribution', 'chardet.euctwfreq', 'chardet.euckrfreq', 'chardet.gb2312freq', 'chardet.big5freq', 'chardet.jisfreq', 'chardet.jpcntx', 'chardet.eucjpprober', 'chardet.gb2312prober', 'chardet.euckrprober', 'chardet.cp949prober', 'chardet.big5prober', 'chardet.euctwprober', 'chardet.sbcsgroupprober', 'chardet.sbcharsetprober', 'chardet.langcyrillicmodel', 'chardet.langgreekmodel', 'chardet.langbulgarianmodel', 'chardet.langthaimodel', 'chardet.langhebrewmodel', 'chardet.hebrewprober', 'chardet.langturkishmodel', 'chardet.version', 'requests.exceptions', 'requests.__version__', 'requests.utils', 'requests.certs', 'certifi', 'certifi.core', 'importlib.resources', 'requests._internal_utils', 'requests.compat', 'urllib.request', 'urllib.error', 'urllib.response', 'http.cookiejar', 'http.cookies', 'requests.cookies', 'requests.structures', 'requests.packages', 'requests.packages.urllib3', 'requests.packages.urllib3.connectionpool', 'requests.packages.urllib3.exceptions', 'requests.packages.urllib3.packages', 'requests.packages.urllib3.packages.ssl_match_hostname', 'requests.packages.urllib3.packages.six', 'requests.packages.urllib3.packages.six.moves', 'requests.packages.urllib3.packages.six.moves.http_client', 'requests.packages.urllib3.connection', 'requests.packages.urllib3.util', 'requests.packages.urllib3.util.connection', 'requests.packages.urllib3.util.wait', 'requests.packages.urllib3.contrib', 'requests.packages.urllib3.contrib._appengine_environ', 'requests.packages.urllib3.util.request', 'requests.packages.urllib3.util.response', 'requests.packages.urllib3.util.ssl_', 'requests.packages.urllib3.util.timeout', 'requests.packages.urllib3.util.retry', 'requests.packages.urllib3.util.url', 'requests.packages.urllib3.packages.six.moves.urllib', 'requests.packages.urllib3.packages.six.moves.urllib.parse', 'requests.packages.urllib3._collections', 'requests.packages.urllib3.request', 'requests.packages.urllib3.filepost', 'requests.packages.urllib3.fields', 'requests.packages.urllib3.response', 'requests.packages.urllib3.util.queue', 'requests.packages.urllib3.poolmanager', 'idna', 'idna.package_data', 'idna.core', 'idna.idnadata', 'idna.intranges', 'requests.packages.idna', 'requests.packages.idna.package_data', 'requests.packages.idna.core', 'requests.packages.idna.idnadata', 'requests.packages.idna.intranges', 'requests.packages.chardet', 'requests.packages.chardet.compat', 'requests.packages.chardet.universaldetector', 'requests.packages.chardet.charsetgroupprober', 'requests.packages.chardet.enums', 'requests.packages.chardet.charsetprober', 'requests.packages.chardet.escprober', 'requests.packages.chardet.codingstatemachine', 'requests.packages.chardet.escsm', 'requests.packages.chardet.latin1prober', 'requests.packages.chardet.mbcsgroupprober', 'requests.packages.chardet.utf8prober', 'requests.packages.chardet.mbcssm', 'requests.packages.chardet.sjisprober', 'requests.packages.chardet.mbcharsetprober', 'requests.packages.chardet.chardistribution', 'requests.packages.chardet.euctwfreq', 'requests.packages.chardet.euckrfreq', 'requests.packages.chardet.gb2312freq', 'requests.packages.chardet.big5freq', 'requests.packages.chardet.jisfreq', 'requests.packages.chardet.jpcntx', 'requests.packages.chardet.eucjpprober', 'requests.packages.chardet.gb2312prober', 'requests.packages.chardet.euckrprober', 'requests.packages.chardet.cp949prober', 'requests.packages.chardet.big5prober', 'requests.packages.chardet.euctwprober', 'requests.packages.chardet.sbcsgroupprober', 'requests.packages.chardet.sbcharsetprober', 'requests.packages.chardet.langcyrillicmodel', 'requests.packages.chardet.langgreekmodel', 'requests.packages.chardet.langbulgarianmodel', 'requests.packages.chardet.langthaimodel', 'requests.packages.chardet.langhebrewmodel', 'requests.packages.chardet.hebrewprober', 'requests.packages.chardet.langturkishmodel', 'requests.packages.chardet.version', 'requests.models', 'requests.hooks', 'requests.auth', 'requests.status_codes', 'requests.api', 'requests.sessions', 'requests.adapters', 'urllib3.contrib.socks', 'socks', 'pandas_datareader.compat', 'pandas_datareader.base', 'pandas_datareader.av.forex', 'pandas_datareader.av.quotes', 'pandas_datareader.exceptions', 'pandas_datareader.av.sector', 'pandas_datareader.av.time_series', 'pandas_datareader.bankofcanada', 'pandas_datareader.econdb', 'pandas_datareader.enigma', 'pandas_datareader.eurostat', 'pandas_datareader.io', 'pandas_datareader.io.jsdmx', 'pandas_datareader.io.util', 'pandas_datareader.io.sdmx', 'pandas_datareader.famafrench', 'pandas_datareader.fred', 'pandas_datareader.iex', 'pandas_datareader.iex.daily', 'pandas_datareader.iex.deep', 'pandas_datareader.iex.tops', 'pandas_datareader.moex', 'pandas_datareader.nasdaq_trader', 'ftplib', 'pandas_datareader.naver', 'xml.etree', 'xml.etree.ElementTree', 'xml.etree.ElementPath', '_elementtree', 'pandas_datareader.oecd', 'pandas_datareader.quandl', 'pandas_datareader.stooq', 'pandas_datareader.tiingo', 'pandas_datareader.yahoo', 'pandas_datareader.yahoo.actions', 'pandas_datareader.yahoo.daily', 'pandas_datareader.yahoo.components', 'pandas_datareader.yahoo.options', 'pandas_datareader.yahoo.quotes', 'plotly', '_plotly_utils', '_plotly_utils.importers', 'plotly.io', 'plotly.io._templates', 'scipy', 'scipy._lib', 'scipy._lib._testutils', 'scipy._lib.deprecation', 'scipy._distributor_init', 'scipy.__config__', 'scipy.version', 'scipy._lib._version', 'scipy._lib.six', 'scipy._lib._ccallback', 'scipy._lib._ccallback_c', 'scipy.fft', 'scipy.fft._basic', 'scipy._lib.uarray', 'scipy._lib._uarray', 'scipy._lib._uarray._backend', 'scipy._lib._uarray._uarray', 'scipy.fft._realtransforms', 'scipy.fft._helper', 'scipy.fft._pocketfft', 'scipy.fft._pocketfft.basic', 'scipy.fft._pocketfft.pypocketfft', 'scipy.fft._pocketfft.helper', 'scipy.fft._pocketfft.realtransforms', 'scipy.fft._backend', 'numpy.dual', 'scipy.stats', 'scipy.stats.stats', 'scipy.spatial', 'scipy.spatial.kdtree', 'scipy.sparse', 'scipy.sparse.base', 'scipy._lib._numpy_compat', 'numpy.testing', 'unittest', 'unittest.result', 'unittest.util', 'unittest.case', 'difflib', 'unittest.suite', 'unittest.loader', 'unittest.main', 'unittest.runner', 'unittest.signals', 'numpy.testing._private', 'numpy.testing._private.utils', 'numpy.testing._private.decorators', 'numpy.testing._private.nosetester', 'scipy.sparse.sputils', 'scipy.sparse.csr', 'scipy.sparse._sparsetools', 'scipy.sparse.compressed', 'scipy._lib._util', 'multiprocessing', 'multiprocessing.context', 'multiprocessing.process', 'multiprocessing.reduction', '__mp_main__', 'scipy.sparse.data', 'scipy.sparse.dia', 'scipy.sparse._index', 'scipy.sparse.csc', 'scipy.sparse.lil', 'scipy.sparse._csparsetools', 'scipy.sparse.dok', 'scipy.sparse.coo', 'scipy.sparse.bsr', 'scipy.sparse.construct', 'scipy.sparse.extract', 'scipy.sparse._matrix_io', 'scipy.sparse.csgraph', 'scipy.sparse.csgraph._laplacian', 'scipy.sparse.csgraph._shortest_path', '_cython_0_29_14', 'scipy.sparse.csgraph._validation', 'scipy.sparse.csgraph._tools', 'scipy.sparse.csgraph._traversal', 'scipy.sparse.csgraph._min_spanning_tree', 'scipy.sparse.csgraph._flow', 'scipy.sparse.csgraph._matching', 'scipy.sparse.csgraph._reordering', 'scipy.spatial.ckdtree', 'scipy.spatial.qhull', 'scipy._lib.messagestream', 'scipy.spatial._spherical_voronoi', 'scipy.spatial._voronoi', 'scipy.spatial._plotutils', 'scipy._lib.decorator', 'scipy.spatial._procrustes', 'scipy.linalg', 'scipy.linalg.linalg_version', 'scipy.linalg.misc', 'scipy.linalg.blas', 'scipy.linalg._fblas', 'scipy.linalg.lapack', 'scipy.linalg._flapack', 'scipy.linalg.basic', 'scipy.linalg.flinalg', 'scipy.linalg._flinalg', 'scipy.linalg.decomp', 'scipy.linalg.decomp_svd', 'scipy.linalg._solve_toeplitz', 'scipy.linalg.decomp_lu', 'scipy.linalg._decomp_ldl', 'scipy.linalg.decomp_cholesky', 'scipy.linalg.decomp_qr', 'scipy.linalg._decomp_qz', 'scipy.linalg.decomp_schur', 'scipy.linalg._decomp_polar', 'scipy.linalg.matfuncs', 'scipy.linalg.special_matrices', 'scipy.linalg._expm_frechet', 'scipy.linalg._matfuncs_sqrtm', 'scipy.linalg._solvers', 'scipy.linalg._procrustes', 'scipy.linalg._decomp_update', 'scipy.linalg.cython_blas', 'scipy.linalg.cython_lapack', 'scipy.linalg._sketches', 'scipy.spatial.distance', 'scipy.spatial._distance_wrap', 'scipy.spatial._hausdorff', 'scipy.special', 'scipy.special.sf_error', 'scipy.special._ufuncs', 'scipy.special._ufuncs_cxx', 'scipy.special._basic', 'scipy.special.specfun', 'scipy.special.orthogonal', 'scipy.special._comb', 'scipy.special._logsumexp', 'scipy.special.spfun_stats', 'scipy.special._ellip_harm', 'scipy.special._ellip_harm_2', 'scipy.special.lambertw', 'scipy.special._spherical_bessel', 'scipy.spatial.transform', 'scipy.spatial.transform.rotation', 'scipy.spatial.transform._rotation_groups', 'scipy.constants', 'scipy.constants.codata', 'scipy.constants.constants', 'scipy.spatial.transform._rotation_spline', 'scipy.ndimage', 'scipy.ndimage.filters', 'scipy.ndimage._ni_support', 'scipy.ndimage._nd_image', 'scipy.ndimage._ni_docstrings', 'scipy._lib.doccer', 'scipy.ndimage.fourier', 'scipy.ndimage.interpolation', 'scipy.ndimage.measurements', 'scipy.ndimage._ni_label', '_ni_label', 'scipy.ndimage.morphology', 'scipy.stats.distributions', 'scipy.stats._distn_infrastructure', 'scipy.stats._distr_params', 'scipy.optimize', 'scipy.optimize.optimize', 'scipy.optimize.linesearch', 'scipy.optimize.minpack2', 'scipy.optimize._minimize', 'scipy.optimize._trustregion_dogleg', 'scipy.optimize._trustregion', 'scipy.optimize._trustregion_ncg', 'scipy.optimize._trustregion_krylov', 'scipy.optimize._trlib', 'scipy.optimize._trlib._trlib', 'scipy.optimize._trustregion_exact', 'scipy.optimize._trustregion_constr', 'scipy.optimize._trustregion_constr.minimize_trustregion_constr', 'scipy.sparse.linalg', 'scipy.sparse.linalg.isolve', 'scipy.sparse.linalg.isolve.iterative', 'scipy.sparse.linalg.isolve._iterative', 'scipy.sparse.linalg.interface', 'scipy.sparse.linalg.isolve.utils', 'scipy._lib._threadsafety', 'scipy.sparse.linalg.isolve.minres', 'scipy.sparse.linalg.isolve.lgmres', 'scipy.sparse.linalg.isolve._gcrotmk', 'scipy.sparse.linalg.isolve.lsqr', 'scipy.sparse.linalg.isolve.lsmr', 'scipy.sparse.linalg.dsolve', 'scipy.sparse.linalg.dsolve.linsolve', 'scipy.sparse.linalg.dsolve._superlu', 'scipy.sparse.linalg.dsolve._add_newdocs', 'scipy.sparse.linalg.eigen', 'scipy.sparse.linalg.eigen.arpack', 'scipy.sparse.linalg.eigen.arpack.arpack', 'scipy.sparse.linalg.eigen.arpack._arpack', 'scipy.sparse.linalg.eigen.lobpcg', 'scipy.sparse.linalg.eigen.lobpcg.lobpcg', 'scipy.sparse.linalg.matfuncs', 'scipy.sparse.linalg._expm_multiply', 'scipy.sparse.linalg._onenormest', 'scipy.sparse.linalg._norm', 'scipy.optimize._differentiable_functions', 'scipy.optimize._numdiff', 'scipy.optimize._group_columns', 'scipy.optimize._hessian_update_strategy', 'scipy.optimize._constraints', 'scipy.optimize._trustregion_constr.equality_constrained_sqp', 'scipy.optimize._trustregion_constr.projections', 'scipy.optimize._trustregion_constr.qp_subproblem', 'scipy.optimize._trustregion_constr.canonical_constraint', 'scipy.optimize._trustregion_constr.tr_interior_point', 'scipy.optimize._trustregion_constr.report', 'scipy.optimize.lbfgsb', 'scipy.optimize._lbfgsb', 'scipy.optimize.tnc', 'scipy.optimize.moduleTNC', 'scipy.optimize.cobyla', 'scipy.optimize._cobyla', 'scipy.optimize.slsqp', 'scipy.optimize._slsqp', 'scipy.optimize._root', 'scipy.optimize.minpack', 'scipy.optimize._minpack', 'scipy.optimize._lsq', 'scipy.optimize._lsq.least_squares', 'scipy.optimize._lsq.trf', 'scipy.optimize._lsq.common', 'scipy.optimize._lsq.dogbox', 'scipy.optimize._lsq.lsq_linear', 'scipy.optimize._lsq.trf_linear', 'scipy.optimize._lsq.givens_elimination', 'scipy.optimize._lsq.bvls', 'scipy.optimize._spectral', 'scipy.optimize.nonlin', 'scipy.optimize._root_scalar', 'scipy.optimize.zeros', 'scipy.optimize._zeros', 'scipy.optimize.nnls', 'scipy.optimize._nnls', 'scipy.optimize._basinhopping', 'scipy.optimize._linprog', 'scipy.optimize._linprog_ip', 'scipy.optimize._linprog_util', 'scipy.optimize._remove_redundancy', 'scipy.optimize._linprog_simplex', 'scipy.optimize._linprog_rs', 'scipy.optimize._bglu_dense', 'scipy.optimize._lsap', 'scipy.optimize._lsap_module', 'scipy.optimize._differentialevolution', 'scipy.optimize._shgo', 'scipy.optimize._shgo_lib', 'scipy.optimize._shgo_lib.sobol_seq', 'scipy.optimize._shgo_lib.triangulation', 'scipy.optimize._dual_annealing', 'scipy.integrate', 'scipy.integrate.quadrature', 'scipy.integrate.odepack', 'scipy.integrate._odepack', 'scipy.integrate.quadpack', 'scipy.integrate._quadpack', 'scipy.integrate._ode', 'scipy.integrate.vode', 'scipy.integrate._dop', 'scipy.integrate.lsoda', 'scipy.integrate._bvp', 'scipy.integrate._ivp', 'scipy.integrate._ivp.ivp', 'scipy.integrate._ivp.bdf', 'scipy.integrate._ivp.common', 'scipy.integrate._ivp.base', 'scipy.integrate._ivp.radau', 'scipy.integrate._ivp.rk', 'scipy.integrate._ivp.dop853_coefficients', 'scipy.integrate._ivp.lsoda', 'scipy.integrate._quad_vec', 'scipy.misc', 'scipy.misc.doccer', 'scipy.misc.common', 'scipy.stats._constants', 'scipy.stats._continuous_distns', 'scipy.interpolate', 'scipy.interpolate.interpolate', 'scipy.interpolate.fitpack', 'scipy.interpolate._fitpack_impl', 'scipy.interpolate._fitpack', 'scipy.interpolate.dfitpack', 'scipy.interpolate._bsplines', 'scipy.interpolate._bspl', 'scipy.interpolate.polyint', 'scipy.interpolate._ppoly', 'scipy.interpolate.fitpack2', 'scipy.interpolate.interpnd', 'scipy.interpolate.rbf', 'scipy.interpolate._cubic', 'scipy.interpolate.ndgriddata', 'scipy.interpolate._pade', 'scipy.stats._stats', 'scipy.stats._tukeylambda_stats', 'scipy.stats._discrete_distns', 'scipy.stats.mstats_basic', 'scipy.stats._stats_mstats_common', 'scipy.stats._rvs_sampling', 'scipy.stats._hypotests', 'scipy.stats.morestats', 'scipy.stats.statlib', 'scipy.stats.contingency', 'scipy.stats._binned_statistic', 'scipy.stats.kde', 'scipy.stats.mvn', 'scipy.stats.mstats', 'scipy.stats.mstats_extras', 'scipy.stats._multivariate', 'seaborn', 'seaborn.rcmod', 'seaborn.palettes', 'colorsys', 'seaborn.external', 'seaborn.external.husl', 'seaborn.utils', 'seaborn.colors', 'seaborn.colors.xkcd_rgb', 'seaborn.colors.crayons', 'seaborn.relational', 'seaborn._core', 'seaborn._decorators', 'seaborn.algorithms', 'seaborn.axisgrid', 'seaborn._docstrings', 'seaborn.external.docscrape', 'seaborn.regression', 'statsmodels', 'statsmodels._version', 'seaborn.categorical', 'seaborn.distributions', 'seaborn._statistics', 'seaborn.matrix', 'scipy.cluster', 'scipy.cluster.vq', 'scipy.cluster._vq', 'scipy.cluster.hierarchy', 'scipy.cluster._hierarchy', 'scipy.cluster._optimal_leaf_ordering', 'seaborn.cm', 'seaborn.miscplot', 'seaborn.widgets', 'investpy', 'investpy.bonds', 'lxml', 'lxml.html', 'lxml.etree', '_cython_0_29_28', 'lxml._elementpath', 'lxml.html.defs', 'lxml.html._setmixin', 'unidecode', 'investpy.data', 'investpy.data.bonds_data', 'investpy.utils', 'investpy.utils.constant', 'investpy.utils.data', 'investpy.utils.extra', 'investpy.certificates', 'investpy.data.certificates_data', 'investpy.commodities', 'investpy.data.commodities_data', 'investpy.crypto', 'investpy.data.crypto_data', 'investpy.currency_crosses', 'investpy.data.currency_crosses_data', 'investpy.etfs', 'investpy.data.etfs_data', 'investpy.funds', 'investpy.data.funds_data', 'investpy.indices', 'investpy.data.indices_data', 'investpy.news', 'investpy.search', 'investpy.utils.search_obj', 'investpy.stocks', 'investpy.data.stocks_data', 'investpy.technical', 'plotly.graph_objects', 'yfinance', 'yfinance.version', 'yfinance.ticker', 'yfinance.utils', 'yfinance.base', 'yfinance.shared', 'yfinance.tickers', 'yfinance.multi', 'multitasking', 'unidecode.x000', 'netrc', 'kats', 'kats.compat', 'kats.compat.compat', 'importlib_metadata', 'zipp', 'importlib_metadata._adapters', 'importlib_metadata._text', 'importlib_metadata._functools', 'importlib_metadata._meta', 'importlib_metadata._compat', 'typing_extensions', 'importlib_metadata._collections', 'importlib_metadata._itertools', 'kats.compat.pandas', 'kats.compat.statsmodels', 'statsmodels.tsa', 'statsmodels.tools', 'statsmodels.tools.tools', 'numpy.lib.recfunctions', 'numpy.ma.mrecords', 'statsmodels.compat', 'statsmodels.tools._testing', 'statsmodels.compat.pandas', 'statsmodels.compat.python', 'statsmodels.tools.data', 'statsmodels.tools.validation', 'statsmodels.tools.validation.validation', 'statsmodels.tsa.holtwinters', 'statsmodels.tsa.holtwinters.model', 'statsmodels.tsa.base', 'statsmodels.tsa.base.tsa_model', 'statsmodels.base', 'statsmodels.base.data', 'statsmodels.tools.decorators', 'statsmodels.tools.sm_exceptions', 'statsmodels.base.model', 'statsmodels.stats', 'statsmodels.stats.contrast', 'statsmodels.stats.multitest', 'statsmodels.stats._knockoff', 'statsmodels.iolib', 'statsmodels.iolib.foreign', 'statsmodels.iolib.openfile', 'statsmodels.iolib.table', 'statsmodels.iolib.smpickle', 'statsmodels.iolib.summary2', 'statsmodels.iolib.tableformatting', 'statsmodels.base.wrapper', 'statsmodels.tools.numdiff', 'statsmodels.formula', 'statsmodels.formula.formulatools', 'patsy', 'patsy.version', 'patsy.origin', 'patsy.highlevel', 'patsy.design_info', 'patsy.util', 'patsy.compat', 'patsy.constraint', 'patsy.infix_parser', 'patsy.parse_formula', 'patsy.tokens', 'patsy.contrasts', 'patsy.desc', 'patsy.eval', 'patsy.builtins', 'patsy.categorical', 'patsy.state', 'patsy.splines', 'patsy.mgcv_cubic_splines', 'patsy.build', 'patsy.redundancy', 'patsy.missing', 'patsy.user_util', 'statsmodels.base.optimizer', 'statsmodels.tsa.exponential_smoothing', 'statsmodels.tsa.exponential_smoothing.ets', 'statsmodels.base.covtype', 'statsmodels.iolib.summary', 'statsmodels.tsa.exponential_smoothing.base', 'statsmodels.tools.eval_measures', 'statsmodels.tsa.exponential_smoothing._ets_smooth', 'statsmodels.tsa.exponential_smoothing.initialization', 'statsmodels.tsa.tsatools', 'statsmodels.compat.numpy', 'statsmodels.tsa.holtwinters._exponential_smoothers', 'statsmodels.tsa.holtwinters._smoothers', 'statsmodels.tsa.holtwinters.results', 'kats.consts', 'kats.data', 'kats.data.utils', 'kats.detectors', 'kats.detectors.bocpd', 'kats.detectors.detector', 'plotly.graph_objs', 'plotly.graph_objs._figure', 'plotly.basedatatypes', '_plotly_utils.utils', '_plotly_utils.optional_imports', '_plotly_utils.basevalidators', '_plotly_utils.exceptions', 'plotly.optional_imports', 'plotly.shapeannotation', 'plotly.subplots', 'kats.detectors.detector_consts', 'attr', 'attr.converters', 'attr._compat', 'attr._make', 'attr._config', 'attr.setters', 'attr.exceptions', 'attr.filters', 'attr.validators', 'attr._cmp', 'attr._funcs', 'attr._version_info', 'attr._next_gen', 'kats.utils', 'kats.utils.backtesters', 'kats.utils.cupik', 'kats.utils.decomposition', 'statsmodels.tsa.seasonal', 'statsmodels.tsa._stl', 'statsmodels.tsa.filters', 'statsmodels.tsa.filters.filtertools', 'scipy.fftpack', 'scipy.fftpack.basic', 'scipy.fftpack.helper', 'scipy.fftpack.pseudo_diffs', 'scipy.fftpack.convolve', 'scipy.fftpack.realtransforms', 'scipy.signal', 'scipy.signal.sigtools', 'scipy.signal.windows', 'scipy.signal.windows.windows', 'scipy.signal.waveforms', 'scipy.signal._max_len_seq', 'scipy.signal._max_len_seq_inner', 'scipy.signal._upfirdn', 'scipy.signal._upfirdn_apply', 'scipy.signal.spline', 'scipy.signal.bsplines', 'scipy.signal.filter_design', 'scipy.signal.fir_filter_design', 'scipy.signal.ltisys', 'scipy.signal.lti_conversion', 'scipy.signal.signaltools', 'scipy.signal._arraytools', 'scipy.signal._sosfilt', 'scipy.signal._savitzky_golay', 'scipy.signal.spectral', 'scipy.signal._spectral', 'scipy.signal.wavelets', 'scipy.signal._peak_finding', 'scipy.signal._peak_finding_utils', 'kats.utils.emp_confidence_int', 'kats.utils.parameter_tuning_utils', 'kats.utils.simulator', 'kats.utils.testing', 'kats.utils.time_series_parameter_tuning', 'multiprocessing.pool', 'multiprocessing.util', 'ax', 'ax.core', 'ax.core.arm', 'ax.core.types', 'ax.utils', 'ax.utils.common', 'ax.utils.common.base', 'ax.utils.common.equality', 'ax.utils.common.typeutils', 'torch', 'torch._utils', 'torch._utils_internal', 'torch.torch_version', 'torch.version', 'torch._six', 'torch._C._onnx', 'torch._C._jit', 'torch._C._jit_tree_views', 'torch._C._te', 'torch._C._monitor', 'torch._C.cpp', 'torch._C.cpp.nn', 'torch._C._cudart', 'torch._C._nvtx', 'torch._C._cudnn', 'torch._C', 'torch._C._fft', 'torch._C._linalg', 'torch._C._nn', 'torch._C._return_types', 'torch._C._sparse', 'torch._C._special', 'torch._tensor', 'torch._namedtensor_internals', 'torch.overrides', 'torch.utils', 'torch.utils.throughput_benchmark', 'torch.utils._crash_handler', 'torch.utils.hooks', 'torch.storage', 'torch.types', 'torch.random', 'torch.serialization', 'tarfile', 'torch._sources', 'torch._tensor_str', 'torch.autocast_mode', 'torch.cuda', 'torch.cuda._utils', 'torch.cuda.graphs', 'torch.cuda.streams', 'torch.cuda.memory', 'torch.cuda.random', 'torch.cuda.sparse', 'torch.cuda.profiler', 'torch.cuda.nvtx', 'torch.cuda.amp', 'torch.cuda.amp.autocast_mode', 'torch.cuda.amp.grad_scaler', 'torch.cuda.amp.common', 'torch.sparse', 'torch.functional', 'torch.nn', 'torch.nn.modules', 'torch.nn.modules.module', 'torch.nn.parameter', 'torch.nn.modules.linear', 'torch.nn.functional', 'torch._VF', 'torch._torch_docs', 'torch._jit_internal', 'torch.distributed', 'torch._C._distributed_c10d', 'torch.distributed.distributed_c10d', 'torch.distributed.constants', 'torch.distributed.rendezvous', 'torch.distributed.remote_device', 'torch.distributed.rpc', 'torch._C._distributed_rpc', 'torch.distributed.rpc.api', 'torch.futures', 'torch.distributed.rpc.internal', 'torch.distributed.rpc.constants', 'torch.distributed.rpc.backend_registry', 'torch.distributed.rpc.functions', 'torch.distributed.autograd', 'torch._C._distributed_autograd', 'torch.distributed.rpc.options', 'torch.distributed.rpc.server_process_global_profiler', 'torch.autograd', 'torch.autograd.variable', 'torch.autograd.function', 'torch.autograd.gradcheck', 'torch.testing', 'torch.testing._comparison', 'torch.testing._core', 'torch.testing._creation', 'torch.testing._deprecated', 'torch.testing._legacy', 'torch._vmap_internals', 'torch.utils._pytree', 'torch.autograd.grad_mode', 'torch.autograd.anomaly_mode', 'torch.autograd.functional', 'torch.autograd.forward_ad', 'torch.autograd.graph', 'torch._C._autograd', 'torch.autograd.profiler', 'torch.autograd.profiler_util', 'torch.autograd.profiler_legacy', 'torch.package', 'torch.package.analyze', 'torch.package.analyze.trace_dependencies', 'torch.package.analyze.is_from_package', 'torch.package._mangling', 'torch.package.file_structure_representation', 'torch.package.glob_group', 'torch.package.importer', 'torch.package.package_exporter', 'pickletools', 'torch.package._digraph', 'torch.package._importlib', 'torch.package._package_pickler', 'torch.package._stdlib', 'torch.package.find_file_dependencies', 'torch.package.package_importer', 'torch.package._directory_reader', 'torch.package._package_unpickler', 'torch.nn._reduction', 'torch.nn.grad', 'torch.nn.modules.utils', 'torch.nn.init', 'torch.nn.modules.lazy', 'torch.nn.modules.conv', 'torch.nn.common_types', 'torch.nn.modules.activation', 'torch.nn.modules.loss', 'torch.nn.modules.distance', 'torch.nn.modules.container', 'torch.nn.modules.pooling', 'torch.nn.modules.batchnorm', 'torch.nn.modules._functions', 'torch.nn.modules.instancenorm', 'torch.nn.modules.normalization', 'torch.nn.modules.dropout', 'torch.nn.modules.padding', 'torch.nn.modules.sparse', 'torch.nn.modules.rnn', 'torch.nn.utils', 'torch.nn.utils.rnn', 'torch.nn.utils.clip_grad', 'torch.nn.utils.weight_norm', 'torch.nn.utils.convert_parameters', 'torch.nn.utils.spectral_norm', 'torch.nn.utils.fusion', 'torch.nn.utils.memory_format', 'torch.nn.utils.parametrizations', 'torch.nn.utils.parametrize', 'torch.nn.utils.init', 'torch.nn.modules.pixelshuffle', 'torch.nn.modules.upsampling', 'torch.nn.modules.fold', 'torch.nn.modules.adaptive', 'torch.nn.modules.transformer', 'torch.nn.modules.flatten', 'torch.nn.modules.channelshuffle', 'torch.nn.parallel', 'torch.nn.parallel.parallel_apply', 'torch.nn.parallel.replicate', 'torch.nn.parallel.comm', 'torch.cuda.nccl', 'torch.nn.parallel.data_parallel', 'torch.nn.parallel.scatter_gather', 'torch.nn.parallel._functions', 'torch.nn.parallel.distributed', 'torch.distributed.algorithms', 'torch.distributed.algorithms.join', 'torch._lowrank', 'torch._linalg_utils', 'torch.cpu', 'torch.cpu.amp', 'torch.cpu.amp.autocast_mode', 'torch.fft', 'torch.nn.intrinsic', 'torch.nn.intrinsic.modules', 'torch.nn.intrinsic.modules.fused', 'torch.nn.quantizable', 'torch.nn.quantizable.modules', 'torch.nn.quantizable.modules.activation', 'torch.nn.quantized', 'torch.nn.quantized.modules', 'torch.nn.quantized.modules.activation', 'torch.nn.quantized.functional', 'torch.nn.quantized.modules.utils', 'torch.jit', 'torch.jit._script', 'torch.jit._recursive', 'torch.jit.frontend', 'torch.jit._monkeytype_config', 'torch.jit.annotations', 'torch.jit._state', 'torch._ops', 'astunparse', 'astunparse.unparser', 'astunparse.printer', 'torch.jit._builtins', 'torch.backends', 'torch.backends.cudnn', 'torch.jit._check', 'torch.jit._fuser', 'torch.jit._serialization', 'torch._classes', 'torch.jit._trace', 'torch.jit._async', 'torch.jit._freeze', 'torch.nn.quantized.modules.dropout', 'torch.nn.quantized.modules.batchnorm', 'torch.nn.quantized.modules.normalization', 'torch.nn.quantized.modules.conv', 'torch.nn.intrinsic.qat', 'torch.nn.intrinsic.qat.modules', 'torch.nn.intrinsic.qat.modules.linear_relu', 'torch.nn.qat', 'torch.nn.qat.modules', 'torch.nn.qat.modules.linear', 'torch.nn.qat.modules.conv', 'torch.nn.qat.modules.embedding_ops', 'torch.nn.intrinsic.qat.modules.conv_fused', 'torch.nn.quantized.modules.linear', 'torch.nn.quantized.modules.embedding_ops', 'torch.nn.quantized.modules.functional_modules', 'torch.nn.quantizable.modules.rnn', 'torch.ao', 'torch.optim', 'torch.optim.adadelta', 'torch.optim._functional', 'torch.optim.optimizer', 'torch.optim.adagrad', 'torch.optim.adam', 'torch.optim.adamw', 'torch.optim.sparse_adam', 'torch.optim.adamax', 'torch.optim.asgd', 'torch.optim.sgd', 'torch.optim.radam', 'torch.optim.rprop', 'torch.optim.rmsprop', 'torch.optim.nadam', 'torch.optim.lbfgs', 'torch.optim.lr_scheduler', 'torch.optim.swa_utils', 'torch.optim._multi_tensor', 'torch.optim._multi_tensor.adam', 'torch.optim._multi_tensor.adamw', 'torch.optim._multi_tensor.nadam', 'torch.optim._multi_tensor._functional', 'torch.optim._multi_tensor.sgd', 'torch.optim._multi_tensor.radam', 'torch.optim._multi_tensor.rmsprop', 'torch.optim._multi_tensor.rprop', 'torch.optim._multi_tensor.asgd', 'torch.optim._multi_tensor.adamax', 'torch.optim._multi_tensor.adadelta', 'torch.optim._multi_tensor.adagrad', 'torch.multiprocessing', 'torch.multiprocessing.reductions', 'multiprocessing.resource_sharer', 'torch.multiprocessing.spawn', 'multiprocessing.connection', '_multiprocessing', 'torch.special', 'torch.utils.backcompat', 'torch.onnx', 'torch.linalg', 'torch.hub', 'tqdm', 'tqdm._monitor', 'tqdm._tqdm_pandas', 'tqdm.cli', 'tqdm.std', 'tqdm.utils', 'tqdm.version', 'tqdm._dist_ver', 'tqdm.gui', 'tqdm.auto', 'tqdm.autonotebook', 'tqdm.notebook', 'tqdm.asyncio', 'torch.distributions', 'torch.distributions.bernoulli', 'torch.distributions.constraints', 'torch.distributions.exp_family', 'torch.distributions.distribution', 'torch.distributions.utils', 'torch.distributions.beta', 'torch.distributions.dirichlet', 'torch.distributions.binomial', 'torch.distributions.categorical', 'torch.distributions.cauchy', 'torch.distributions.chi2', 'torch.distributions.gamma', 'torch.distributions.constraint_registry', 'torch.distributions.transforms', 'torch.distributions.continuous_bernoulli', 'torch.distributions.exponential', 'torch.distributions.fishersnedecor', 'torch.distributions.geometric', 'torch.distributions.gumbel', 'torch.distributions.uniform', 'torch.distributions.transformed_distribution', 'torch.distributions.independent', 'torch.distributions.half_cauchy', 'torch.distributions.half_normal', 'torch.distributions.normal', 'torch.distributions.kl', 'torch.distributions.laplace', 'torch.distributions.lowrank_multivariate_normal', 'torch.distributions.multivariate_normal', 'torch.distributions.one_hot_categorical', 'torch.distributions.pareto', 'torch.distributions.poisson', 'torch.distributions.kumaraswamy', 'torch.distributions.lkj_cholesky', 'torch.distributions.log_normal', 'torch.distributions.logistic_normal', 'torch.distributions.mixture_same_family', 'torch.distributions.multinomial', 'torch.distributions.negative_binomial', 'torch.distributions.relaxed_bernoulli', 'torch.distributions.relaxed_categorical', 'torch.distributions.studentT', 'torch.distributions.von_mises', 'torch.distributions.weibull', 'torch.distributions.wishart', 'torch.backends.cuda', 'torch.backends.mkl', 'torch.backends.mkldnn', 'torch.backends.openmp', 'torch.backends.quantized', 'torch.utils.data', 'torch.utils.data.sampler', 'torch.utils.data.dataset', 'torch.utils.data._typing', 'torch.utils.data.dataloader', 'torch.utils.data._utils', 'torch.utils.data._utils.worker', 'torch.utils.data._utils.signal_handling', 'torch.utils.data._utils.pin_memory', 'torch.utils.data._utils.collate', 'torch.utils.data._utils.fetch', 'torch.utils.data.graph_settings', 'torch.utils.data.graph', 'torch.utils.data.distributed', 'torch.utils.data._decorator', 'torch.utils.data.dataloader_experimental', 'torch.utils.data.backward_compatibility', 'torch.utils.data.communication', 'torch.utils.data.communication.eventloop', 'torch.utils.data.communication.iter', 'torch.utils.data.communication.map', 'torch.utils.data.communication.messages', 'torch.utils.data.communication.protocol', 'torch.utils.data.communication.queue', 'torch.utils.data.datapipes', 'torch.utils.data.datapipes.iter', 'torch.utils.data.datapipes.iter.utils', 'torch.utils.data.datapipes.iter.callable', 'torch.utils.data.datapipes.utils', 'torch.utils.data.datapipes.utils.common', 'dill', 'dill.info', 'dill._dill', '_pyio', 'dill.settings', 'dill.source', 'dill.temp', 'dill.detect', 'dill.pointers', 'dill.objtypes', 'torch.utils.data.datapipes.iter.combinatorics', 'torch.utils.data.datapipes.iter.combining', 'torch.utils.data.datapipes.iter.filelister', 'torch.utils.data.datapipes.iter.fileopener', 'torch.utils.data.datapipes.iter.grouping', 'torch.utils.data.datapipes.iter.routeddecoder', 'torch.utils.data.datapipes.utils.decoder', 'torch.utils.data.datapipes.iter.selecting', 'torch.utils.data.datapipes.dataframe', 'torch.utils.data.datapipes.dataframe.dataframes', 'torch.utils.data.datapipes.dataframe.structures', 'torch.utils.data.datapipes.dataframe.datapipes', 'torch.utils.data.datapipes.dataframe.dataframe_wrapper', 'torch.utils.data.datapipes.iter.streamreader', 'torch.utils.data.datapipes.map', 'torch.utils.data.datapipes.map.callable', 'torch.utils.data.datapipes.map.combinatorics', 'torch.utils.data.datapipes.map.combining', 'torch.utils.data.datapipes.map.grouping', 'torch.utils.data.datapipes.map.utils', 'torch.__config__', 'torch.__future__', 'torch.profiler', 'torch.profiler.profiler', 'torch._tensor_docs', 'torch._storage_docs', 'torch.quantization', 'torch.quantization.quantize', 'torch.ao.quantization', 'torch.ao.quantization.fake_quantize', 'torch.ao.quantization.observer', 'torch.ao.quantization.utils', 'torch.ao.quantization.quant_type', 'torch.ao.quantization.fuse_modules', 'torch.ao.quantization.fuser_method_mappings', 'torch.ao.quantization.qconfig', 'torch.ao.quantization.quantization_mappings', 'torch.nn.intrinsic.quantized', 'torch.nn.intrinsic.quantized.modules', 'torch.nn.intrinsic.quantized.modules.linear_relu', 'torch.nn.intrinsic.quantized.modules.conv_relu', 'torch.nn.intrinsic.quantized.modules.bn_relu', 'torch.nn.intrinsic.quantized.dynamic', 'torch.nn.intrinsic.quantized.dynamic.modules', 'torch.nn.intrinsic.quantized.dynamic.modules.linear_relu', 'torch.nn.quantized.dynamic', 'torch.nn.quantized.dynamic.modules', 'torch.nn.quantized.dynamic.modules.linear', 'torch.nn.quantized.dynamic.modules.rnn', 'torch.nn.quantized.dynamic.modules.conv', 'torch.nn.quantized._reference', 'torch.nn.quantized._reference.modules', 'torch.nn.quantized._reference.modules.linear', 'torch.nn.quantized._reference.modules.utils', 'torch.nn.quantized._reference.modules.conv', 'torch.nn.qat.dynamic', 'torch.nn.qat.dynamic.modules', 'torch.nn.qat.dynamic.modules.linear', 'torch.ao.nn', 'torch.ao.nn.sparse', 'torch.ao.nn.sparse.quantized', 'torch.ao.nn.sparse.quantized.dynamic', 'torch.ao.nn.sparse.quantized.dynamic.linear', 'torch.ao.nn.sparse.quantized.linear', 'torch.ao.nn.sparse.quantized.utils', 'torch.ao.quantization.stubs', 'torch.ao.quantization.quantize', 'torch.ao.quantization.quantize_jit', 'torch.quantization.observer', 'torch.quantization.qconfig', 'torch.quantization.fake_quantize', 'torch.quantization.fuse_modules', 'torch.quantization.fuser_method_mappings', 'torch.quantization.stubs', 'torch.quantization.quant_type', 'torch.quantization.quantize_jit', 'torch.quantization.quantization_mappings', 'torch.quasirandom', 'torch.multiprocessing._atfork', 'torch._lobpcg', 'torch.utils.dlpack', 'torch._masked', 'torch.return_types', 'typeguard', 'ax.core.batch_trial', 'ax.core.base_trial', 'ax.core.data', 'ax.utils.common.serialization', 'ax.core.generator_run', 'ax.core.optimization_config', 'ax.core.metric', 'ax.core.objective', 'ax.utils.common.logger', 'ax.core.outcome_constraint', 'ax.exceptions', 'ax.exceptions.core', 'ax.core.search_space', 'ax.core.parameter', 'ax.core.parameter_constraint', 'ax.utils.common.constants', 'ax.core.runner', 'ax.core.trial', 'ax.utils.common.docutils', 'ax.core.experiment', 'ax.core.map_data', 'ax.core.map_metric', 'ax.utils.common.timeutils', 'ax.core.observation', 'ax.modelbridge', 'ax.modelbridge.transforms', 'ax.modelbridge.base', 'ax.modelbridge.transforms.base', 'ax.models', 'ax.models.random', 'ax.models.random.sobol', 'ax.models.base', 'ax.models.model_utils', 'ax.models.numpy_base', 'ax.models.types', 'botorch', 'botorch.acquisition', 'botorch.acquisition.acquisition', 'botorch.exceptions', 'botorch.exceptions.errors', 'botorch.exceptions.warnings', 'botorch.models', 'botorch.models.approximate_gp', 'botorch.models.gpytorch', 'botorch.acquisition.objective', 'botorch.posteriors', 'botorch.posteriors.deterministic', 'botorch.posteriors.posterior', 'botorch.posteriors.gpytorch', 'botorch.posteriors.base_samples', 'gpytorch', 'gpytorch.beta_features', 'gpytorch.settings', 'gpytorch.distributions', 'gpytorch.distributions.delta', 'gpytorch.distributions.distribution', 'gpytorch.distributions.multivariate_normal', 'gpytorch.lazy', 'gpytorch.lazy.added_diag_lazy_tensor', 'gpytorch.utils', 'gpytorch.utils.broadcasting', 'gpytorch.utils.cholesky', 'gpytorch.utils.errors', 'gpytorch.utils.warnings', 'gpytorch.utils.grid', 'gpytorch.utils.interpolation', 'gpytorch.utils.lanczos', 'gpytorch.utils.pivoted_cholesky', 'gpytorch.utils.quadrature', 'gpytorch.utils.sparse', 'gpytorch.utils.contour_integral_quad', 'gpytorch.utils.linear_cg', 'gpytorch.utils.deprecation', 'unittest.mock', 'gpytorch.utils.minres', 'gpytorch.utils.memoize', 'gpytorch.utils.pinverse', 'gpytorch.utils.qr', 'gpytorch.utils.stochastic_lq', 'gpytorch.lazy.diag_lazy_tensor', 'gpytorch.lazy.lazy_tensor', 'gpytorch.functions', 'gpytorch.functions._dsmm', 'gpytorch.functions._log_normal_cdf', 'gpytorch.functions.matern_covariance', 'gpytorch.functions.rbf_covariance', 'gpytorch.functions._diagonalization', 'gpytorch.functions._inv_matmul', 'gpytorch.functions._inv_quad', 'gpytorch.functions._inv_quad_log_det', 'gpytorch.functions._matmul', 'gpytorch.functions._root_decomposition', 'gpytorch.functions._sqrt_inv_matmul', 'gpytorch.utils.getitem', 'gpytorch.lazy.lazy_tensor_representation_tree', 'gpytorch.lazy.non_lazy_tensor', 'gpytorch.lazy.triangular_lazy_tensor', 'gpytorch.lazy.batch_repeat_lazy_tensor', 'gpytorch.lazy.psd_sum_lazy_tensor', 'gpytorch.lazy.sum_lazy_tensor', 'gpytorch.lazy.zero_lazy_tensor', 'gpytorch.lazy.root_lazy_tensor', 'gpytorch.lazy.matmul_lazy_tensor', 'gpytorch.lazy.block_diag_lazy_tensor', 'gpytorch.lazy.block_lazy_tensor', 'gpytorch.lazy.block_interleaved_lazy_tensor', 'gpytorch.lazy.cat_lazy_tensor', 'gpytorch.lazy.chol_lazy_tensor', 'gpytorch.lazy.constant_mul_lazy_tensor', 'gpytorch.lazy.interpolated_lazy_tensor', 'gpytorch.lazy.keops_lazy_tensor', 'gpytorch.lazy.kronecker_product_added_diag_lazy_tensor', 'gpytorch.lazy.kronecker_product_lazy_tensor', 'gpytorch.lazy.lazy_evaluated_kernel_tensor', 'gpytorch.lazy.low_rank_root_added_diag_lazy_tensor', 'gpytorch.lazy.low_rank_root_lazy_tensor', 'gpytorch.lazy.sum_batch_lazy_tensor', 'gpytorch.lazy.mul_lazy_tensor', 'gpytorch.lazy.sum_kronecker_lazy_tensor', 'gpytorch.lazy.toeplitz_lazy_tensor', 'gpytorch.utils.toeplitz', 'gpytorch.distributions.multitask_multivariate_normal', 'gpytorch.kernels', 'gpytorch.kernels.keops', 'gpytorch.kernels.keops.matern_kernel', 'gpytorch.kernels.keops.keops_kernel', 'gpytorch.kernels.kernel', 'gpytorch.constraints', 'gpytorch.constraints.constraints', 'gpytorch.utils.transforms', 'gpytorch.models', 'gpytorch.models.deep_gps', 'gpytorch.models.deep_gps.deep_gp', 'gpytorch.likelihoods', 'gpytorch.likelihoods.bernoulli_likelihood', 'gpytorch.likelihoods.likelihood', 'gpytorch.module', 'gpytorch.likelihoods.beta_likelihood', 'gpytorch.likelihoods.gaussian_likelihood', 'gpytorch.likelihoods.noise_models', 'gpytorch.likelihoods.laplace_likelihood', 'gpytorch.likelihoods.likelihood_list', 'gpytorch.likelihoods.multitask_gaussian_likelihood', 'gpytorch.likelihoods.softmax_likelihood', 'gpytorch.likelihoods.student_t_likelihood', 'gpytorch.models.approximate_gp', 'gpytorch.models.gp', 'gpytorch.models.pyro', 'gpytorch.models.exact_prediction_strategies', 'gpytorch.models.gplvm', 'gpytorch.models.gplvm.bayesian_gplvm', 'gpytorch.models.gplvm.latent_variable', 'gpytorch.models.exact_gp', 'gpytorch.models.model_list', 'gpytorch.priors', 'gpytorch.priors.horseshoe_prior', 'gpytorch.priors.prior', 'gpytorch.priors.lkj_prior', 'gpytorch.priors.smoothed_box_prior', 'gpytorch.priors.torch_priors', 'gpytorch.priors.utils', 'gpytorch.kernels.keops.rbf_kernel', 'gpytorch.kernels.rbf_kernel', 'gpytorch.kernels.additive_structure_kernel', 'gpytorch.kernels.arc_kernel', 'gpytorch.kernels.cosine_kernel', 'gpytorch.kernels.cylindrical_kernel', 'gpytorch.kernels.distributional_input_kernel', 'gpytorch.kernels.gaussian_symmetrized_kl_kernel', 'gpytorch.kernels.grid_interpolation_kernel', 'gpytorch.kernels.grid_kernel', 'gpytorch.kernels.index_kernel', 'gpytorch.kernels.inducing_point_kernel', 'gpytorch.mlls', 'gpytorch.mlls.added_loss_term', 'gpytorch.mlls.deep_approximate_mll', 'gpytorch.mlls._approximate_mll', 'gpytorch.mlls.marginal_log_likelihood', 'gpytorch.mlls.deep_predictive_log_likelihood', 'gpytorch.models.deep_gps.dspp', 'gpytorch.mlls.exact_marginal_log_likelihood', 'gpytorch.mlls.gamma_robust_variational_elbo', 'gpytorch.mlls.inducing_point_kernel_added_loss_term', 'gpytorch.mlls.kl_gaussian_added_loss_term', 'gpytorch.mlls.leave_one_out_pseudo_likelihood', 'gpytorch.mlls.noise_model_added_loss_term', 'gpytorch.mlls.predictive_log_likelihood', 'gpytorch.mlls.sum_marginal_log_likelihood', 'gpytorch.mlls.variational_elbo', 'gpytorch.kernels.lcm_kernel', 'gpytorch.kernels.multitask_kernel', 'gpytorch.kernels.linear_kernel', 'gpytorch.kernels.matern_kernel', 'gpytorch.kernels.multi_device_kernel', 'gpytorch.kernels.newton_girard_additive_kernel', 'gpytorch.kernels.periodic_kernel', 'gpytorch.kernels.piecewise_polynomial_kernel', 'gpytorch.kernels.polynomial_kernel', 'gpytorch.kernels.polynomial_kernel_grad', 'gpytorch.kernels.product_structure_kernel', 'gpytorch.kernels.rbf_kernel_grad', 'gpytorch.kernels.rff_kernel', 'gpytorch.kernels.rq_kernel', 'gpytorch.kernels.scale_kernel', 'gpytorch.kernels.spectral_delta_kernel', 'gpytorch.kernels.spectral_mixture_kernel', 'gpytorch.means', 'gpytorch.means.constant_mean', 'gpytorch.means.mean', 'gpytorch.means.constant_mean_grad', 'gpytorch.means.linear_mean', 'gpytorch.means.multitask_mean', 'gpytorch.means.zero_mean', 'gpytorch.optim', 'gpytorch.optim.ngd', 'gpytorch.variational', 'gpytorch.variational._variational_distribution', 'gpytorch.variational._variational_strategy', 'gpytorch.variational.additive_grid_interpolation_variational_strategy', 'gpytorch.variational.grid_interpolation_variational_strategy', 'gpytorch.variational.batch_decoupled_variational_strategy', 'gpytorch.variational.delta_variational_distribution', 'gpytorch.variational.variational_strategy', 'gpytorch.variational.cholesky_variational_distribution', 'gpytorch.variational.ciq_variational_strategy', 'gpytorch.variational.natural_variational_distribution', 'gpytorch.variational.independent_multitask_variational_strategy', 'gpytorch.variational.lmc_variational_strategy', 'gpytorch.variational.mean_field_variational_distribution', 'gpytorch.variational.orthogonally_decoupled_variational_strategy', 'gpytorch.variational.tril_natural_variational_distribution', 'gpytorch.variational.unwhitened_variational_strategy', 'botorch.posteriors.higher_order', 'botorch.posteriors.multitask', 'botorch.posteriors.transformed', 'botorch.utils', 'botorch.utils.constraints', 'botorch.utils.feasible_volume', 'botorch.models.model', 'botorch.settings', 'botorch.logging', 'botorch.models.utils', 'botorch.sampling', 'botorch.sampling.pairwise_samplers', 'botorch.sampling.samplers', 'botorch.utils.sampling', 'botorch.sampling.qmc', 'botorch.utils.containers', 'botorch.utils.objective', 'botorch.utils.rounding', 'botorch.utils.transforms', 'botorch.models.transforms', 'botorch.models.transforms.input', 'botorch.models.transforms.utils', 'botorch.models.transforms.outcome', 'botorch.models.cost', 'botorch.models.deterministic', 'botorch.models.gp_regression', 'botorch.models.gp_regression_fidelity', 'botorch.models.kernels', 'botorch.models.kernels.categorical', 'botorch.models.kernels.downsampling', 'botorch.models.kernels.exponential_decay', 'botorch.models.kernels.linear_truncated_fidelity', 'botorch.models.gp_regression_mixed', 'botorch.models.higher_order_gp', 'botorch.models.model_list_gp_regression', 'botorch.models.multitask', 'botorch.models.pairwise_gp', 'botorch.acquisition.active_learning', 'botorch.acquisition.analytic', 'botorch.acquisition.cost_aware', 'botorch.acquisition.fixed_feature', 'botorch.acquisition.input_constructors', 'botorch.acquisition.knowledge_gradient', 'botorch.acquisition.monte_carlo', 'botorch.acquisition.cached_cholesky', 'botorch.utils.low_rank', 'botorch.acquisition.utils', 'botorch.acquisition.multi_objective', 'botorch.acquisition.multi_objective.analytic', 'botorch.acquisition.multi_objective.objective', 'botorch.utils.multi_objective', 'botorch.utils.multi_objective.hypervolume', 'botorch.utils.multi_objective.pareto', 'botorch.utils.multi_objective.scalarization', 'botorch.utils.multi_objective.box_decompositions', 'botorch.utils.multi_objective.box_decompositions.box_decomposition_list', 'botorch.utils.multi_objective.box_decompositions.box_decomposition', 'botorch.utils.multi_objective.box_decompositions.utils', 'botorch.utils.multi_objective.box_decompositions.dominated', 'botorch.utils.multi_objective.box_decompositions.non_dominated', 'botorch.acquisition.multi_objective.max_value_entropy_search', 'botorch.acquisition.max_value_entropy_search', 'botorch.acquisition.multi_objective.monte_carlo', 'botorch.acquisition.multi_objective.utils', 'botorch.utils.torch', 'botorch.models.converter', 'botorch.optim', 'botorch.optim.initializers', 'botorch.optim.utils', 'botorch.optim.numpy_converter', 'botorch.optim.optimize', 'botorch.generation', 'botorch.generation.gen', 'botorch.generation.utils', 'botorch.optim.parameter_constraints', 'botorch.optim.stopping', 'botorch.generation.sampling', 'botorch.acquisition.multi_step_lookahead', 'botorch.acquisition.proximal', 'botorch.test_functions', 'botorch.test_functions.multi_fidelity', 'botorch.test_functions.synthetic', 'botorch.test_functions.base', 'botorch.test_functions.multi_objective', 'botorch.cross_validation', 'botorch.fit', 'botorch.optim.fit', 'botorch.version', 'ax.models.torch_base', 'ax.models.random.base', 'ax.models.torch', 'ax.models.torch.botorch', 'ax.models.torch.botorch_defaults', 'ax.models.torch.utils', 'ax.exceptions.model', 'botorch.acquisition.penalized', 'ax.modelbridge.transforms.cast', 'ax.modelbridge.factory', 'ax.core.multi_type_experiment', 'ax.modelbridge.discrete', 'ax.modelbridge.array', 'ax.modelbridge.modelbridge_utils', 'ax.modelbridge.transforms.derelativize', 'ax.modelbridge.transforms.ivw', 'ax.models.torch.frontier_utils', 'ax.models.torch.botorch_moo_defaults', 'ax.models.discrete_base', 'ax.modelbridge.random', 'ax.modelbridge.registry', 'ax.modelbridge.torch', 'ax.models.torch.botorch_modular', 'ax.models.torch.botorch_modular.model', 'ax.models.torch.botorch_modular.acquisition', 'ax.models.torch.botorch_modular.optimizer_argparse', 'botorch.utils.dispatcher', 'multipledispatch', 'multipledispatch.core', 'multipledispatch.dispatcher', 'multipledispatch.conflict', 'multipledispatch.utils', 'multipledispatch.variadic', 'ax.models.torch.botorch_modular.surrogate', 'ax.models.torch.botorch_modular.list_surrogate', 'ax.models.torch.botorch_modular.utils', 'ax.models.torch.botorch_moo', 'ax.modelbridge.transforms.centered_unit_x', 'ax.modelbridge.transforms.choice_encode', 'ax.modelbridge.transforms.utils', 'ax.modelbridge.transforms.convert_metric_names', 'ax.modelbridge.transforms.int_range_to_choice', 'ax.modelbridge.transforms.int_to_float', 'ax.modelbridge.transforms.rounding', 'ax.modelbridge.transforms.log', 'ax.modelbridge.transforms.logit', 'ax.modelbridge.transforms.one_hot', 'sklearn', 'sklearn._config', 'sklearn._distributor_init', 'sklearn.__check_build', 'sklearn.__check_build._check_build', 'sklearn.base', 'sklearn.utils', 'sklearn.utils.murmurhash', 'sklearn.utils.class_weight', 'sklearn.utils._joblib', 'joblib', 'joblib.memory', 'joblib.hashing', 'joblib.func_inspect', 'joblib.logger', 'joblib.disk', 'joblib._store_backends', 'joblib.backports', 'joblib.numpy_pickle', 'joblib.compressor', 'joblib.numpy_pickle_utils', 'joblib.numpy_pickle_compat', 'joblib.parallel', 'joblib._multiprocessing_helpers', 'joblib._parallel_backends', 'joblib.my_exceptions', 'joblib._deprecated_my_exceptions', 'joblib.pool', 'joblib._memmapping_reducer', 'joblib.externals', 'joblib.externals.loky', 'joblib.externals.loky._base', 'joblib.externals.loky.backend', 'joblib.externals.loky.backend.context', 'joblib.externals.loky.backend.process', 'joblib.externals.loky.backend.compat', 'joblib.externals.loky.backend.compat_posix', 'multiprocessing.synchronize', 'joblib.externals.loky.backend.reduction', 'joblib.externals.loky.backend._posix_reduction', 'joblib.externals.cloudpickle', 'joblib.externals.cloudpickle.cloudpickle', 'joblib.externals.cloudpickle.compat', 'joblib.externals.cloudpickle.cloudpickle_fast', 'joblib.externals.loky.reusable_executor', 'joblib.externals.loky.process_executor', 'joblib.externals.loky.backend.queues', 'multiprocessing.queues', 'joblib.externals.loky.backend.utils', 'joblib.externals.loky.initializers', 'concurrent.futures.process', 'joblib.externals.loky.cloudpickle_wrapper', 'joblib.externals.loky.backend.resource_tracker', 'joblib.externals.loky.backend.spawn', 'joblib.executor', 'sklearn.exceptions', 'sklearn.utils.deprecation', 'sklearn.utils.fixes', 'threadpoolctl', 'ctypes.util', 'sklearn.externals', 'sklearn.externals._packaging', 'sklearn.externals._packaging.version', 'sklearn.externals._packaging._structures', 'sklearn.utils._estimator_html_repr', 'sklearn.utils.validation', 'sklearn.utils._tags', 'sklearn.utils._show_versions', 'sklearn.utils._openmp_helpers', 'sklearn.preprocessing', 'sklearn.preprocessing._function_transformer', 'sklearn.preprocessing._data', 'sklearn.utils.extmath', 'sklearn.utils._logistic_sigmoid', 'sklearn.utils.sparsefuncs_fast', '_cython_0_29_26', 'sklearn.utils.sparsefuncs', 'sklearn.preprocessing._encoders', 'sklearn.utils._mask', 'sklearn.utils._encode', 'sklearn.preprocessing._label', 'sklearn.utils.multiclass', 'sklearn.preprocessing._discretization', 'sklearn.preprocessing._polynomial', 'sklearn.utils.stats', 'sklearn.preprocessing._csr_polynomial_expansion', 'ax.modelbridge.transforms.relativize', 'ax.utils.stats', 'ax.utils.stats.statstools', 'ax.modelbridge.transforms.remove_fixed', 'ax.modelbridge.transforms.search_space_to_choice', 'ax.modelbridge.transforms.standardize_y', 'ax.modelbridge.transforms.stratified_standardize_y', 'ax.modelbridge.transforms.task_encode', 'ax.modelbridge.transforms.trial_as_task', 'ax.modelbridge.transforms.unit_x', 'ax.models.discrete', 'ax.models.discrete.eb_thompson', 'ax.models.discrete.thompson', 'ax.exceptions.constants', 'ax.models.discrete.full_factorial', 'ax.models.random.alebo_initializer', 'ax.models.random.uniform', 'ax.models.torch.alebo', 'ax.models.torch.botorch_kg', 'ax.models.torch.botorch_mes', 'ax.models.torch.fully_bayesian', 'ax.models.torch.fully_bayesian_model_utils', 'ax.utils.common.kwargs', 'ax.modelbridge.numpy', 'ax.service', 'ax.service.managed_loop', 'ax.modelbridge.dispatch_utils', 'ax.modelbridge.generation_strategy', 'ax.exceptions.generation_strategy', 'ax.modelbridge.generation_node', 'ax.modelbridge.cross_validation', 'ax.modelbridge.model_spec', 'ax.modelbridge.transforms.winsorize', 'ax.service.utils', 'ax.service.utils.best_point', 'ax.service.utils.instantiation', 'ax.utils.common.executils', 'ax.storage', 'ax.storage.json_store', 'ax.storage.json_store.load', 'ax.storage.json_store.decoder', 'ax.benchmark', 'ax.benchmark.benchmark_problem', 'ax.utils.measurement', 'ax.utils.measurement.synthetic_functions', 'ax.exceptions.storage', 'ax.storage.json_store.decoders', 'ax.storage.botorch_modular_registry', 'ax.storage.transform_registry', 'ax.modelbridge.transforms.cap_parameter', 'ax.modelbridge.transforms.power_transform_y', 'ax.storage.json_store.registry', 'ax.benchmark.benchmark_result', 'ax.core.utils', 'ax.plot', 'ax.plot.base', 'plotly.utils', '_plotly_utils.data_utils', '_plotly_utils.png', 'ax.plot.pareto_frontier', 'ax.plot.color', 'ax.plot.helper', 'ax.plot.pareto_utils', 'ax.models.torch.posterior_mean', 'plotly.graph_objs._scatter', 'ax.plot.render', 'plotly.offline', 'plotly.offline.offline', 'plotly.tools', 'plotly.exceptions', 'plotly.files', '_plotly_utils.files', 'plotly.offline._plotlyjs_version', 'jinja2', 'markupsafe', 'markupsafe._speedups', 'jinja2.bccache', 'jinja2._compat', 'jinja2.utils', 'jinja2.environment', 'jinja2.nodes', 'jinja2.compiler', 'jinja2.exceptions', 'jinja2.idtracking', 'jinja2.visitor', 'jinja2.optimizer', 'jinja2.defaults', 'jinja2.filters', 'jinja2.runtime', 'jinja2.tests', 'jinja2.lexer', 'jinja2._identifier', 'jinja2.parser', 'jinja2.loaders', 'ax.plot.trace', 'ax.utils.report', 'ax.utils.report.render', 'ax.early_stopping', 'ax.early_stopping.strategies', 'ax.early_stopping.strategies.base', 'ax.early_stopping.strategies.percentile', 'ax.early_stopping.utils', 'ax.early_stopping.strategies.threshold', 'ax.metrics', 'ax.metrics.branin', 'ax.metrics.noisy_function', 'ax.metrics.chemistry', 'ax.metrics.factorial', 'ax.metrics.sklearn', 'sklearn.datasets', 'sklearn.datasets._base', 'sklearn.datasets._covtype', 'sklearn.datasets._kddcup99', 'sklearn.datasets._lfw', 'sklearn.datasets._twenty_newsgroups', 'sklearn.feature_extraction', 'sklearn.feature_extraction._dict_vectorizer', 'sklearn.feature_extraction._hash', 'sklearn.feature_extraction._hashing_fast', 'sklearn.feature_extraction.image', 'sklearn.feature_extraction.text', 'sklearn.feature_extraction._stop_words', 'sklearn.datasets._openml', 'sklearn.externals._arff', 'sklearn.datasets._samples_generator', 'sklearn.utils.random', 'sklearn.utils._random', 'sklearn.datasets._svmlight_format_io', 'sklearn.datasets._svmlight_format_fast', 'sklearn.datasets._olivetti_faces', 'scipy.io', 'scipy.io.matlab', 'scipy.io.matlab.mio', 'scipy.io.matlab.miobase', 'scipy.io.matlab.byteordercodes', 'scipy.io.matlab.mio4', 'scipy.io.matlab.mio_utils', 'scipy.io.matlab.mio5', 'scipy.io.matlab.mio5_utils', 'scipy.io.matlab.streams', 'scipy.io.matlab.mio5_params', 'scipy.io.netcdf', 'scipy.io._fortran', 'scipy.io.mmio', 'scipy.io.idl', 'scipy.io.harwell_boeing', 'scipy.io.harwell_boeing.hb', 'scipy.io.harwell_boeing._fortran_format_parser', 'sklearn.datasets._species_distributions', 'sklearn.datasets._california_housing', 'sklearn.datasets._rcv1', 'sklearn.ensemble', 'sklearn.ensemble._base', 'sklearn.tree', 'sklearn.tree._classes', 'sklearn.tree._criterion', 'sklearn.tree._splitter', 'sklearn.tree._tree', 'sklearn.neighbors', 'sklearn.neighbors._ball_tree', 'sklearn.metrics', 'sklearn.metrics._ranking', 'sklearn.metrics._base', 'sklearn.metrics._classification', 'sklearn.metrics._dist_metrics', 'sklearn.utils._typedefs', 'sklearn.utils._readonly_array_wrapper', 'sklearn.metrics.cluster', 'sklearn.metrics.cluster._supervised', 'sklearn.metrics.cluster._expected_mutual_info_fast', 'sklearn.metrics.cluster._unsupervised', 'sklearn.metrics.pairwise', 'sklearn.metrics._pairwise_fast', 'sklearn.metrics.cluster._bicluster', 'sklearn.metrics._regression', 'sklearn._loss', 'sklearn._loss.glm_distribution', 'sklearn.metrics._scorer', 'sklearn.metrics._plot', 'sklearn.metrics._plot.det_curve', 'sklearn.metrics._plot.base', 'sklearn.metrics._plot.roc_curve', 'sklearn.metrics._plot.precision_recall_curve', 'sklearn.metrics._plot.confusion_matrix', 'sklearn.neighbors._partition_nodes', 'sklearn.neighbors._kd_tree', 'sklearn.neighbors._distance_metric', 'sklearn.neighbors._graph', 'sklearn.neighbors._base', 'sklearn.neighbors._unsupervised', 'sklearn.neighbors._classification', 'sklearn.neighbors._regression', 'sklearn.neighbors._nearest_centroid', 'sklearn.neighbors._kde', 'sklearn.neighbors._lof', 'sklearn.utils.metaestimators', 'sklearn.neighbors._nca', 'sklearn.decomposition', 'sklearn.decomposition._nmf', 'sklearn.decomposition._cdnmf_fast', 'sklearn.decomposition._pca', 'sklearn.decomposition._base', 'sklearn.utils._arpack', 'sklearn.decomposition._incremental_pca', 'sklearn.decomposition._kernel_pca', 'sklearn.decomposition._sparse_pca', 'sklearn.linear_model', 'sklearn.linear_model._base', 'sklearn.utils._seq_dataset', 'sklearn.linear_model._bayes', 'sklearn.linear_model._least_angle', 'sklearn.utils.arrayfuncs', 'sklearn.utils._cython_blas', 'sklearn.model_selection', 'sklearn.model_selection._split', 'sklearn.model_selection._validation', 'sklearn.model_selection._search', 'sklearn.linear_model._coordinate_descent', 'sklearn.linear_model._cd_fast', 'sklearn.linear_model._glm', 'sklearn.linear_model._glm.glm', 'sklearn.utils.optimize', 'sklearn.linear_model._glm.link', 'sklearn.linear_model._huber', 'sklearn.linear_model._sgd_fast', 'sklearn.utils._weight_vector', 'sklearn.linear_model._stochastic_gradient', 'sklearn.linear_model._ridge', 'sklearn.linear_model._sag', 'sklearn.linear_model._sag_fast', 'sklearn.linear_model._logistic', 'sklearn.svm', 'sklearn.svm._classes', 'sklearn.svm._base', 'sklearn.svm._libsvm', 'sklearn.svm._liblinear', 'sklearn.svm._libsvm_sparse', 'sklearn.svm._bounds', 'sklearn.linear_model._omp', 'sklearn.linear_model._passive_aggressive', 'sklearn.linear_model._perceptron', 'sklearn.linear_model._quantile', 'sklearn.linear_model._ransac', 'sklearn.linear_model._theil_sen', 'sklearn.decomposition._dict_learning', 'sklearn.decomposition._truncated_svd', 'sklearn.decomposition._fastica', 'sklearn.decomposition._factor_analysis', 'sklearn.decomposition._lda', 'sklearn.decomposition._online_lda_fast', 'sklearn.neighbors._quad_tree', 'sklearn.tree._utils', 'scipy.special.cython_special', 'sklearn.tree._export', 'sklearn.tree._reingold_tilford', 'sklearn.ensemble._forest', 'sklearn.ensemble._bagging', 'sklearn.ensemble._iforest', 'sklearn.ensemble._weight_boosting', 'sklearn.ensemble._gb', 'sklearn.ensemble._gradient_boosting', 'sklearn.ensemble._gb_losses', 'sklearn.dummy', 'sklearn.ensemble._voting', 'sklearn.ensemble._stacking', 'sklearn.ensemble._hist_gradient_boosting', 'sklearn.ensemble._hist_gradient_boosting.gradient_boosting', 'sklearn.ensemble._hist_gradient_boosting._gradient_boosting', 'sklearn.ensemble._hist_gradient_boosting.common', 'sklearn.ensemble._hist_gradient_boosting.binning', 'sklearn.ensemble._hist_gradient_boosting._binning', 'sklearn.ensemble._hist_gradient_boosting._bitset', 'sklearn.ensemble._hist_gradient_boosting.grower', 'sklearn.ensemble._hist_gradient_boosting.splitting', 'sklearn.ensemble._hist_gradient_boosting.histogram', 'sklearn.ensemble._hist_gradient_boosting.predictor', 'sklearn.ensemble._hist_gradient_boosting._predictor', 'sklearn.ensemble._hist_gradient_boosting.utils', 'sklearn.ensemble._hist_gradient_boosting.loss', 'sklearn.ensemble._hist_gradient_boosting._loss', 'sklearn.neural_network', 'sklearn.neural_network._rbm', 'sklearn.neural_network._multilayer_perceptron', 'sklearn.neural_network._base', 'sklearn.neural_network._stochastic_optimizers', 'ax.metrics.branin_map', 'ax.metrics.noisy_function_map', 'ax.metrics.hartmann6', 'ax.metrics.l2norm', 'ax.runners', 'ax.runners.simulated_backend', 'ax.utils.testing', 'ax.utils.testing.backend_simulator', 'ax.runners.synthetic', 'ax.storage.json_store.encoders', 'ax.storage.utils', 'ax.storage.json_store.save', 'ax.storage.json_store.encoder', 'ax.version', 'kats.detectors.bocpd_model', 'kats.detectors.changepoint_evaluator', 'kats.detectors.cusum_detection', 'pandas.plotting._matplotlib', 'pandas.plotting._matplotlib.boxplot', 'pandas.plotting._matplotlib.core', 'pandas.plotting._matplotlib.compat', 'pandas.plotting._matplotlib.converter', 'pandas.plotting._matplotlib.style', 'pandas.plotting._matplotlib.timeseries', 'pandas.plotting._matplotlib.tools', 'pandas.plotting._matplotlib.hist', 'pandas.plotting._matplotlib.misc', 'kats.detectors.cusum_model', 'kats.detectors.hourly_ratio_detection', 'sklearn.covariance', 'sklearn.covariance._empirical_covariance', 'sklearn.covariance._shrunk_covariance', 'sklearn.covariance._robust_covariance', 'sklearn.covariance._graph_lasso', 'sklearn.covariance._elliptic_envelope', 'kats.detectors.outlier', 'kats.models', 'kats.models.arima', 'kats.models.model', 'statsmodels.tsa.arima_model', 'statsmodels.regression', 'statsmodels.regression.linear_model', 'statsmodels.emplike', 'statsmodels.emplike.elregress', 'statsmodels.emplike.descriptive', 'statsmodels.graphics', 'statsmodels.graphics.utils', 'statsmodels.regression._prediction', 'statsmodels.tsa.ar_model', 'statsmodels.tsa.base.prediction', 'statsmodels.tools.docstring', 'statsmodels.tsa.arima_process', 'statsmodels.tsa.deterministic', 'statsmodels.tsa.kalmanf', 'statsmodels.tsa.kalmanf.kalmanfilter', 'statsmodels.tsa.kalmanf.kalman_loglike', 'statsmodels.tsa.vector_ar', 'statsmodels.tsa.vector_ar.util', 'kats.models.bayesian_var', 'kats.models.ensemble', 'kats.models.ensemble.ensemble', 'kats.models.holtwinters', 'kats.models.linear_model', 'statsmodels.api', 'statsmodels.datasets', 'statsmodels.datasets.anes96', 'statsmodels.datasets.anes96.data', 'statsmodels.datasets.utils', 'statsmodels.datasets.cancer', 'statsmodels.datasets.cancer.data', 'statsmodels.datasets.committee', 'statsmodels.datasets.committee.data', 'statsmodels.datasets.ccard', 'statsmodels.datasets.ccard.data', 'statsmodels.datasets.copper', 'statsmodels.datasets.copper.data', 'statsmodels.datasets.cpunish', 'statsmodels.datasets.cpunish.data', 'statsmodels.datasets.elnino', 'statsmodels.datasets.elnino.data', 'statsmodels.datasets.engel', 'statsmodels.datasets.engel.data', 'statsmodels.datasets.grunfeld', 'statsmodels.datasets.grunfeld.data', 'statsmodels.datasets.interest_inflation', 'statsmodels.datasets.interest_inflation.data', 'statsmodels.datasets.longley', 'statsmodels.datasets.longley.data', 'statsmodels.datasets.macrodata', 'statsmodels.datasets.macrodata.data', 'statsmodels.datasets.modechoice', 'statsmodels.datasets.modechoice.data', 'statsmodels.datasets.nile', 'statsmodels.datasets.nile.data', 'statsmodels.datasets.randhie', 'statsmodels.datasets.randhie.data', 'statsmodels.datasets.scotland', 'statsmodels.datasets.scotland.data', 'statsmodels.datasets.spector', 'statsmodels.datasets.spector.data', 'statsmodels.datasets.stackloss', 'statsmodels.datasets.stackloss.data', 'statsmodels.datasets.star98', 'statsmodels.datasets.star98.data', 'statsmodels.datasets.strikes', 'statsmodels.datasets.strikes.data', 'statsmodels.datasets.sunspots', 'statsmodels.datasets.sunspots.data', 'statsmodels.datasets.fair', 'statsmodels.datasets.fair.data', 'statsmodels.datasets.heart', 'statsmodels.datasets.heart.data', 'statsmodels.datasets.statecrime', 'statsmodels.datasets.statecrime.data', 'statsmodels.datasets.co2', 'statsmodels.datasets.co2.data', 'statsmodels.datasets.fertility', 'statsmodels.datasets.fertility.data', 'statsmodels.datasets.china_smoking', 'statsmodels.datasets.china_smoking.data', 'statsmodels.regression.recursive_ls', 'statsmodels.tsa.statespace', 'statsmodels.tsa.statespace.mlemodel', 'statsmodels.tsa.statespace.news', 'statsmodels.tsa.statespace.simulation_smoother', 'statsmodels.tsa.statespace.kalman_smoother', 'statsmodels.tsa.statespace.representation', 'statsmodels.tsa.statespace.tools', 'statsmodels.tsa.statespace._initialization', 'statsmodels.tsa.statespace._representation', 'statsmodels.tsa.statespace._tools', 'statsmodels.tsa.statespace._kalman_filter', 'statsmodels.tsa.statespace._filters', 'statsmodels.tsa.statespace._filters._conventional', 'statsmodels.tsa.statespace._filters._univariate', 'statsmodels.tsa.statespace._filters._univariate_diffuse', 'statsmodels.tsa.statespace._filters._inversions', 'statsmodels.tsa.statespace._kalman_smoother', 'statsmodels.tsa.statespace._smoothers', 'statsmodels.tsa.statespace._smoothers._conventional', 'statsmodels.tsa.statespace._smoothers._univariate', 'statsmodels.tsa.statespace._smoothers._univariate_diffuse', 'statsmodels.tsa.statespace._smoothers._classical', 'statsmodels.tsa.statespace._smoothers._alternative', 'statsmodels.tsa.statespace._simulation_smoother', 'statsmodels.tsa.statespace._cfa_simulation_smoother', 'statsmodels.tsa.statespace.initialization', 'statsmodels.tsa.statespace.kalman_filter', 'statsmodels.tsa.statespace.cfa_simulation_smoother', 'statsmodels.regression.quantile_regression', 'statsmodels.regression.mixed_linear_model', 'statsmodels.base._penalties', 'statsmodels.genmod', 'statsmodels.genmod.api', 'statsmodels.genmod.generalized_linear_model', 'statsmodels.genmod.families', 'statsmodels.genmod.families.links', 'statsmodels.genmod.families.family', 'statsmodels.genmod.families.varfuncs', 'statsmodels.regression._tools', 'statsmodels.graphics._regressionplots_doc', 'statsmodels.genmod._prediction', 'statsmodels.genmod.generalized_estimating_equations', 'statsmodels.genmod.cov_struct', 'statsmodels.stats.correlation_tools', 'statsmodels.discrete', 'statsmodels.discrete.discrete_margins', 'statsmodels.genmod.bayes_mixed_glm', 'statsmodels.robust', 'statsmodels.robust.norms', 'statsmodels.robust.scale', 'statsmodels.robust._qn', 'statsmodels.robust.robust_linear_model', 'statsmodels.discrete.discrete_model', 'statsmodels.base.l1_slsqp', 'statsmodels.base.l1_solvers_common', 'statsmodels.distributions', 'statsmodels.distributions.empirical_distribution', 'statsmodels.distributions.edgeworth', 'statsmodels.distributions.discrete', 'statsmodels.compat.scipy', 'cvxopt', 'cvxopt.base', 'cvxopt.printing', 'cvxopt.solvers', 'cvxopt.cvxprog', 'cvxopt.coneprog', 'cvxopt.blas', 'cvxopt.lapack', 'cvxopt._version', 'statsmodels.discrete.count_model', 'statsmodels.tsa.api', 'statsmodels.tsa.arima', 'statsmodels.tsa.arima.api', 'statsmodels.tsa.arima.model', 'statsmodels.tsa.statespace.sarimax', 'statsmodels.tsa.arima.specification', 'statsmodels.tsa.arima.tools', 'statsmodels.tsa.arima.params', 'statsmodels.tsa.arima.estimators', 'statsmodels.tsa.arima.estimators.yule_walker', 'statsmodels.tsa.arima.estimators.burg', 'statsmodels.tsa.arima.estimators.hannan_rissanen', 'statsmodels.tsa.arima.estimators.innovations', 'statsmodels.tsa.innovations', 'statsmodels.tsa.innovations.arma_innovations', 'statsmodels.tsa.innovations._arma_innovations', 'statsmodels.tsa.stattools', 'statsmodels.tsa._bds', 'statsmodels.tsa._innovations', 'statsmodels.tsa.adfvalues', 'statsmodels.tsa.arima.estimators.gls', 'statsmodels.tsa.arima.estimators.statespace', 'statsmodels.tsa.vector_ar.var_model', 'statsmodels.tools.linalg', 'statsmodels.tsa.vector_ar.output', 'statsmodels.tsa.vector_ar.plotting', 'statsmodels.tsa.vector_ar.hypothesis_test_results', 'statsmodels.tsa.vector_ar.irf', 'statsmodels.tsa.vector_ar.vecm', 'statsmodels.tsa.coint_tables', 'statsmodels.tsa.vector_ar.svar_model', 'statsmodels.tsa.filters.api', 'statsmodels.tsa.filters.bk_filter', 'statsmodels.tsa.filters.hp_filter', 'statsmodels.tsa.filters.cf_filter', 'statsmodels.tsa.interp', 'statsmodels.tsa.interp.denton', 'statsmodels.tsa.base.datetools', 'statsmodels.graphics.tsaplots', 'statsmodels.tsa.x13', 'statsmodels.tsa.statespace.api', 'statsmodels.tsa.statespace.exponential_smoothing', 'statsmodels.tsa.statespace.structural', 'statsmodels.tsa.statespace.varmax', 'statsmodels.tsa.statespace.dynamic_factor', 'statsmodels.multivariate', 'statsmodels.multivariate.pca', 'statsmodels.tsa.statespace.dynamic_factor_mq', 'statsmodels.tsa.statespace._quarterly_ar1', 'statsmodels.tsa.regime_switching', 'statsmodels.tsa.regime_switching.markov_regression', 'statsmodels.tsa.regime_switching.markov_switching', 'statsmodels.tsa.regime_switching._hamilton_filter', 'statsmodels.tsa.regime_switching._kim_smoother', 'statsmodels.tsa.regime_switching.markov_autoregression', 'statsmodels.tsa.innovations.api', 'statsmodels.tsa.forecasting', 'statsmodels.tsa.forecasting.stl', 'statsmodels.duration', 'statsmodels.duration.survfunc', 'statsmodels.duration.hazard_regression', 'statsmodels.imputation', 'statsmodels.imputation.mice', 'statsmodels.imputation.bayes_mi', 'statsmodels.nonparametric', 'statsmodels.nonparametric.api', 'statsmodels.nonparametric.kde', 'statsmodels.sandbox', 'statsmodels.sandbox.nonparametric', 'statsmodels.sandbox.nonparametric.kernels', 'statsmodels.nonparametric.bandwidths', 'statsmodels.nonparametric.kdetools', 'statsmodels.nonparametric.linbin', 'statsmodels.nonparametric.smoothers_lowess', 'statsmodels.nonparametric._smoothers_lowess', 'statsmodels.nonparametric.kernel_density', 'statsmodels.nonparametric.kernels', 'statsmodels.nonparametric._kernel_base', 'statsmodels.nonparametric.kernel_regression', 'statsmodels.__init__', 'statsmodels.gam', 'statsmodels.gam.generalized_additive_model', 'statsmodels.base._penalized', 'statsmodels.gam.gam_penalties', 'statsmodels.gam.gam_cross_validation', 'statsmodels.gam.gam_cross_validation.gam_cross_validation', 'statsmodels.gam.smooth_basis', 'statsmodels.gam.gam_cross_validation.cross_validators', 'statsmodels.gam.api', 'statsmodels.graphics.gofplots', 'statsmodels.graphics.api', 'statsmodels.graphics.functional', 'statsmodels.graphics.correlation', 'statsmodels.graphics.boxplots', 'statsmodels.graphics.regressionplots', 'statsmodels.sandbox.regression', 'statsmodels.sandbox.regression.predstd', 'statsmodels.graphics.factorplots', 'statsmodels.graphics.plottools', 'statsmodels.graphics.agreement', 'statsmodels.stats.api', 'statsmodels.stats.diagnostic', 'statsmodels.stats._lilliefors', 'statsmodels.stats._lilliefors_critical_values', 'statsmodels.stats.tabledist', 'statsmodels.stats._adnorm', 'statsmodels.stats.multicomp', 'statsmodels.sandbox.stats', 'statsmodels.sandbox.stats.multicomp', 'statsmodels.stats.gof', 'statsmodels.stats.stattools', 'statsmodels.stats.sandwich_covariance', 'statsmodels.tools.grouputils', 'statsmodels.stats.moment_helpers', 'statsmodels.stats.weightstats', 'statsmodels.stats.proportion', 'statsmodels.stats.base', 'statsmodels.tools.testing', 'statsmodels.stats.power', 'statsmodels.tools.rootfinding', 'statsmodels.stats.descriptivestats', 'statsmodels.stats.anova', 'statsmodels.stats.oaxaca', 'statsmodels.sandbox.stats.runs', 'statsmodels.stats.contingency_tables', 'statsmodels.stats.mediation', 'statsmodels.emplike.api', 'statsmodels.emplike.originregress', 'statsmodels.emplike.elanova', 'statsmodels.emplike.aft_el', 'statsmodels.duration.api', 'statsmodels.multivariate.manova', 'statsmodels.multivariate.multivariate_ols', 'statsmodels.multivariate.factor', 'statsmodels.multivariate.factor_rotation', 'statsmodels.multivariate.factor_rotation._wrappers', 'statsmodels.multivariate.factor_rotation._analytic_rotation', 'statsmodels.multivariate.factor_rotation._gpa_rotation', 'statsmodels.multivariate.api', 'statsmodels.multivariate.cancorr', 'statsmodels.formula.api', 'statsmodels.tools.print_version', 'statsmodels.tools.web', 'webbrowser', 'kats.models.prophet', 'fbprophet', 'fbprophet.forecaster', 'fbprophet.make_holidays', 'fbprophet.hdays', 'convertdate', 'convertdate.armenian', 'convertdate.gregorian', 'convertdate.utils', 'convertdate.julian', 'convertdate.bahai', 'pymeeus', 'pymeeus.Angle', 'pymeeus.base', 'pymeeus.Epoch', 'pymeeus.Sun', 'pymeeus.Coordinates', 'pymeeus.Interpolation', 'pymeeus.Earth', 'convertdate.coptic', 'convertdate.daycount', 'convertdate.julianday', 'convertdate.dublin', 'convertdate.french_republican', 'convertdate.data', 'convertdate.data.french_republican_days', 'convertdate.hebrew', 'convertdate.holidays', 'convertdate.islamic', 'convertdate.indian_civil', 'convertdate.iso', 'convertdate.mayan', 'convertdate.persian', 'convertdate.positivist', 'convertdate.data.positivist', 'convertdate.ordinal', 'lunarcalendar', 'lunarcalendar.converter', 'lunarcalendar._compact', 'lunarcalendar.festival', 'lunarcalendar.basefestival', 'lunarcalendar.solarterm', 'lunarcalendar._calc', 'ephem', 'ephem._libastro', 'holidays', 'holidays.countries', 'holidays.countries.angola', 'holidays.constants', 'holidays.holiday_base', 'holidays.countries.argentina', 'holidays.countries.aruba', 'holidays.countries.australia', 'holidays.countries.austria', 'holidays.countries.bangladesh', 'holidays.countries.belarus', 'holidays.countries.belgium', 'holidays.countries.brazil', 'holidays.countries.bulgaria', 'holidays.countries.burundi', 'holidays.utils', 'hijri_converter', 'hijri_converter.convert', 'hijri_converter.helpers', 'hijri_converter.locales', 'hijri_converter.ummalqura', 'holidays.countries.canada', 'holidays.countries.chile', 'holidays.countries.colombia', 'holidays.countries.croatia', 'holidays.countries.czechia', 'holidays.countries.denmark', 'holidays.countries.djibouti', 'holidays.countries.dominican_republic', 'holidays.countries.egypt', 'holidays.countries.estonia', 'holidays.countries.european_central_bank', 'holidays.countries.finland', 'holidays.countries.france', 'holidays.countries.germany', 'holidays.countries.greece', 'holidays.countries.honduras', 'holidays.countries.hongkong', 'holidays.countries.hungary', 'holidays.countries.iceland', 'holidays.countries.india', 'holidays.countries.ireland', 'holidays.countries.united_kingdom', 'holidays.countries.italy', 'holidays.countries.israel', 'holidays.countries.japan', 'holidays.countries.kenya', 'holidays.countries.korea', 'korean_lunar_calendar', 'korean_lunar_calendar.korean_lunar_calendar', 'holidays.countries.latvia', 'holidays.countries.lithuania', 'holidays.countries.luxembourg', 'holidays.countries.malawi', 'holidays.countries.mexico', 'holidays.countries.morocco', 'holidays.countries.mozambique', 'holidays.countries.netherlands', 'holidays.countries.new_zealand', 'holidays.countries.nicaragua', 'holidays.countries.nigeria', 'holidays.countries.norway', 'holidays.countries.paraguay', 'holidays.countries.peru', 'holidays.countries.poland', 'holidays.countries.portugal', 'holidays.countries.romania', 'holidays.countries.russia', 'holidays.countries.serbia', 'holidays.countries.singapore', 'holidays.countries.slovakia', 'holidays.countries.slovenia', 'holidays.countries.south_africa', 'holidays.countries.spain', 'holidays.countries.sweden', 'holidays.countries.switzerland', 'holidays.countries.turkey', 'holidays.countries.ukraine', 'holidays.countries.united_arab_emirates', 'holidays.countries.united_states', 'holidays.countries.vietnam', 'fbprophet.models', 'fbprophet.plot', 'fbprophet.diagnostics', 'kats.models.quadratic_model', 'kats.models.sarima', 'kats.models.ensemble.kats_ensemble', 'kats.detectors.seasonality', 'kats.graphics', 'kats.graphics.plots', 'kats.models.theta', 'kats.models.ensemble.median_ensemble', 'kats.models.ensemble.weighted_avg_ensemble', 'kats.models.harmonic_regression', 'kats.models.lstm', 'kats.models.globalmodel', 'kats.models.globalmodel.backtester', 'multiprocessing.dummy', 'multiprocessing.dummy.connection', 'kats.models.globalmodel.ensemble', 'kats.models.globalmodel.model', 'kats.models.globalmodel.data_processor', 'kats.models.globalmodel.utils', 'kats.tsfeatures', 'kats.tsfeatures.tsfeatures', 'deprecated', 'deprecated.classic', 'wrapt', 'wrapt.wrappers', 'wrapt._wrappers', 'wrapt.decorators', 'wrapt.arguments', 'wrapt.importer', 'numba', 'numba._version', 'numba.misc', 'numba.misc.init_utils', 'numba.core', 'numba.core.config', 'yaml', 'yaml.error', 'yaml.tokens', 'yaml.events', 'yaml.nodes', 'yaml.loader', 'yaml.reader', 'yaml.scanner', 'yaml.parser', 'yaml.composer', 'yaml.constructor', 'yaml.resolver', 'yaml.dumper', 'yaml.emitter', 'yaml.serializer', 'yaml.representer', 'yaml.cyaml', 'yaml._yaml', 'llvmlite', 'llvmlite._version', 'llvmlite.binding', 'llvmlite.binding.dylib', 'llvmlite.binding.ffi', 'llvmlite.binding.common', 'llvmlite.utils', 'llvmlite.binding.executionengine', 'llvmlite.binding.targets', 'llvmlite.binding.object_file', 'llvmlite.binding.initfini', 'llvmlite.binding.linker', 'llvmlite.binding.module', 'llvmlite.binding.value', 'llvmlite.binding.context', 'llvmlite.binding.options', 'llvmlite.binding.passmanagers', 'llvmlite.binding.transforms', 'llvmlite.binding.analysis', 'llvmlite.ir', 'llvmlite.ir.types', 'llvmlite.ir._utils', 'llvmlite.ir.values', 'llvmlite.ir.module', 'llvmlite.ir.context', 'llvmlite.ir.builder', 'llvmlite.ir.instructions', 'llvmlite.ir.transforms', 'numba.core.types', 'numba.core.utils', 'numba.core.types.abstract', 'numba.core.types.containers', 'numba.core.types.common', 'numba.core.errors', 'numba.core.types.misc', 'numba.core.typeconv', 'numba.core.typeconv.castgraph', 'numba.core.ir', 'numba.core.consts', 'numba.core.types.functions', 'numba.core.types.iterators', 'numba.core.types.npytypes', 'numba.core.types.scalars', 'numba.np', 'numba.np.npdatetime_helpers', 'numba.core.types.function_type', 'numba.misc.special', 'numba.core.typing', 'numba.core.typing.context', 'numba.core.typeconv.rules', 'numba.core.typeconv.typeconv', 'numba.core.typeconv._typeconv', 'numba.core.typing.templates', 'numba.core.targetconfig', 'numba.core.cpu_options', 'numba.core.typing.typeof', 'numba.np.numpy_support', 'numba.core.cgutils', 'numba.core.debuginfo', 'numba.core.datamodel', 'numba.core.datamodel.manager', 'numba.core.datamodel.packer', 'numba.core.datamodel.registry', 'numba.core.datamodel.models', 'numba.core.typing.asnumbatype', 'numba.core.decorators', 'numba.stencils', 'numba.stencils.stencil', 'numba.core.ir_utils', 'numba.core.extending', 'numba.core.imputils', 'numba.core.pythonapi', 'llvmlite.llvmpy', 'llvmlite.llvmpy.core', 'numba._helperlib', 'numba.core.lowering', 'numba.core.funcdesc', 'numba.core.itanium_mangler', 'numba.core.generators', 'numba.core.removerefctpass', 'numba.core.environment', 'numba._dynfunc', 'numba.core.analysis', 'numba.core.controlflow', 'numba.core.serialize', 'numba.cloudpickle', 'numba.cloudpickle.cloudpickle', 'numba.cloudpickle.compat', 'numba.cloudpickle.cloudpickle_fast', 'numba.core.postproc', 'numba.core.transforms', 'numba.core.rewrites', 'numba.core.rewrites.registry', 'numba.core.rewrites.static_getitem', 'numba.core.rewrites.static_raise', 'numba.core.rewrites.static_binop', 'numba.core.rewrites.ir_print', 'numba.core.registry', 'numba.core.descriptors', 'numba.core.dispatcher', 'numba._devicearray', 'numba._dispatcher', 'numba.core.compiler', 'numba.core.tracing', 'numba.core.interpreter', 'numba.core.dataflow', 'numba.core.byteflow', 'numba.core.unsafe', 'numba.core.unsafe.eh', 'numba.cpython', 'numba.cpython.unsafe', 'numba.cpython.unsafe.tuple', 'numba.core.bytecode', 'numba.core.callconv', 'numba.core.base', 'numba.core.event', 'numba.core.compiler_lock', 'numba.cpython.builtins', 'numba.core.typing.builtins', 'numba.parfors', 'numba.parfors.parfor_lowering', 'numba.parfors.parfor', 'numba.core.typeinfer', 'numba.stencils.stencilparfor', 'numba.core.typing.npydecl', 'numba.core.overload_glue', 'numba.parfors.array_analysis', 'numba.np.unsafe', 'numba.np.unsafe.ndarray', 'numba.core.sigutils', 'numba.parfors.parfor_lowering_utils', 'numba.extending', 'numba.core.cpu', 'numba.core.callwrapper', 'numba.core.codegen', 'llvmlite.llvmpy.passes', 'numba.core.runtime', 'numba.core.runtime.nrt', 'numba.core.runtime.nrtdynmod', 'numba.core.runtime._nrt_python', 'numba.core.runtime.nrtopt', 'numba.misc.inspection', 'numba.misc.llvm_pass_timings', 'numba.core.externals', 'numba.core.intrinsics', 'numba.core.fastmathpass', 'numba.core.options', 'numba.core.entrypoints', 'numba.np.ufunc_db', 'numba.core.compiler_machinery', 'numba.core.untyped_passes', 'numba.core.ssa', 'numba.core.typed_passes', 'numba.core.annotations', 'numba.core.annotations.type_annotations', 'numba.core.object_mode_passes', 'numba.core.pylowering', 'numba.core.caching', 'numba.misc.appdirs', 'numba.core.retarget', 'numba.np.ufunc', 'numba.np.ufunc.decorators', 'numba.np.ufunc._internal', 'numba.np.ufunc.parallel', 'numba.np.ufunc.wrappers', 'numba.np.ufunc.ufuncbuilder', 'numba.core.target_extension', 'numba.np.ufunc.sigparse', 'numba.np.ufunc.dufunc', 'numba.np.ufunc.gufunc', 'numba.np.ufunc.array_exprs', 'numba.experimental', 'numba.experimental.jitclass', 'numba.experimental.jitclass.decorators', 'numba.experimental.jitclass.boxing', 'numba.core.withcontexts', 'numba.typed', 'kats.detectors.robust_stat_detection', 'kats.detectors.trend_mk', 'pymannkendall', 'pymannkendall.pymannkendall', 'pymannkendall._version', 'kats.models.metalearner', 'kats.models.metalearner.get_metadata', 'kats.models.stlf', 'kats.models.metalearner.metalearner_hpt', 'kats.models.metalearner.metalearner_modelselect', 'sklearn.naive_bayes', 'sklearn.pipeline', 'kats.models.metalearner.metalearner_predictability', 'kats.models.nowcasting', 'kats.models.nowcasting.feature_extraction', 'kats.models.nowcasting.model_io', 'kats.models.nowcasting.nowcasting', 'kats.models.reconciliation', 'kats.models.reconciliation.base_models', 'kats.models.reconciliation.thm', 'kats.models.var', 'kats.detectors.prophet_detector', 'fbprophet.serialize', 'kats.detectors.residual_translation', 'kats.detectors.stat_sig_detector', 'kats.detectors.meta_learning', 'kats.detectors.meta_learning.metalearning_detection_model', 'dask', 'dask.config', 'dask.datasets', 'dask.utils', 'tlz', 'tlz._build_tlz', 'toolz', 'toolz.itertoolz', 'toolz.utils', 'toolz.functoolz', 'toolz._signatures', 'toolz.dicttoolz', 'toolz.recipes', 'toolz.curried', 'toolz.curried.operator', 'toolz.curried.exceptions', 'toolz.sandbox', 'toolz.sandbox.core', 'toolz.sandbox.parallel', 'toolz._version', 'tlz.utils', 'tlz.itertoolz', 'tlz._signatures', 'tlz.functoolz', 'tlz.dicttoolz', 'tlz.recipes', 'tlz._version', 'dask.core', 'dask.utils_test', 'dask._version', 'dask.base', 'dask.local', 'dask.callbacks', 'dask.order', 'dask.threaded', 'dask.system', 'dask.context', 'dask.hashing', 'dask.multiprocessing', 'dask.optimization', 'tblib', 'tblib.cpython', 'tblib.pickling_support', 'dask.delayed', 'dask.highlevelgraph', 'dask.widgets', 'dask.widgets.widgets', 'encodings.raw_unicode_escape', 'dask.dataframe', 'dask.dataframe.backends', 'dask.array', 'dask.array.backends', 'dask.array.dispatch', 'dask.array.numpy_compat', 'dask.array.percentile', 'dask.array.core', 'fsspec', 'fsspec._version', 'fsspec.caching', 'fsspec.callbacks', 'fsspec.compression', 'fsspec.utils', 'fsspec.spec', 'fsspec.config', 'configparser', 'fsspec.dircache', 'fsspec.transaction', 'fsspec.core', 'fsspec.registry', 'fsspec.exceptions', 'fsspec.mapping', 'tlz.curried', 'tlz.curried.operator', 'dask.blockwise', 'dask.compatibility', 'dask.layers', 'dask.sizeof', 'dask.array.chunk', 'dask.array.chunk_types', 'dask.array.slicing', 'dask.array.optimization', 'dask.array.blockwise', 'dask.array.utils', 'dask.array.fft', 'dask.array.creation', 'dask.array.ufunc', 'dask.array.wrap', 'dask.array.lib', 'dask.array.lib.stride_tricks', 'dask.array.overlap', 'dask.array.linalg', 'dask.array.random', 'dask.array.ma', 'dask.array.routines', 'dask.array.einsumfuncs', 'dask.array.reductions', 'dask.array.gufunc', 'dask.array.rechunk', 'dask.array.reshape', 'dask.array.tiledb_io', 'dask.dataframe.core', 'dask.dataframe.methods', 'dask.dataframe._compat', 'dask.dataframe.dispatch', 'dask.dataframe.utils', 'dask.dataframe._dtypes', 'dask.dataframe.extensions', 'dask.dataframe._accessor', 'dask.dataframe.accessor', 'dask.dataframe.categorical', 'dask.dataframe.optimize', 'dask.dataframe.rolling', 'dask.dataframe.groupby', 'dask.dataframe.shuffle', 'dask.dataframe.io', 'dask.dataframe.io.demo', 'dask.dataframe.io.csv', 'fsspec.implementations', 'fsspec.implementations.local', 'dask.bytes', 'dask.bytes.core', 'dask.dataframe.io.hdf', 'dask.dataframe.io.io', 'dask.dataframe.io.json', 'dask.dataframe.io.sql', 'dask.dataframe.io.parquet', 'dask.dataframe.io.parquet.core', 'dask.dataframe.io.utils', 'fsspec.parquet', 'dask.dataframe.io.parquet.utils', 'dask.dataframe.io.orc', 'dask.dataframe.io.orc.core', 'dask.dataframe.io.orc.utils', 'dask.dataframe.multi', 'dask.dataframe.numeric', 'dask.dataframe.reshape', 'auto_ts.models.build_base', 'auto_ts.models.ar_based', 'auto_ts.models.ar_based.build_arima', 'auto_ts.utils', 'auto_ts.utils.colors', 'auto_ts.utils.etl', 'auto_ts.utils.eda', 'auto_ts.utils.val', 'auto_ts.utils.metrics', 'auto_ts.utils.my_encoders', 'sklearn.impute', 'sklearn.impute._base', 'sklearn.impute._knn', 'sklearn.compose', 'sklearn.compose._column_transformer', 'sklearn.compose._target', 'auto_ts.models.ar_based.param_finder', 'auto_ts.models.ar_based.build_sarimax', 'auto_ts.models.ar_based.build_arima_base', 'auto_ts.models.ar_based.build_autoarimax', 'pmdarima', 'pmdarima.__check_build', 'pmdarima.__check_build._check_build', 'pmdarima.arima', 'pmdarima.arima.approx', 'pmdarima.utils', 'pmdarima.utils.array', 'pmdarima.compat', 'pmdarima.compat.matplotlib', 'pmdarima.compat.pandas', 'pmdarima.compat.pmdarima', 'pmdarima.compat.numpy', 'pmdarima.compat.sklearn', 'pmdarima.compat.statsmodels', 'pmdarima.utils._array', 'pmdarima.utils.metaestimators', 'pmdarima.utils.visualization', 'pmdarima.utils.wrapped', 'pmdarima.arima._arima', 'pmdarima.arima.arima', 'pmdarima.arima._validation', 'pmdarima.warnings', 'pmdarima.base', 'pmdarima.arima.auto', 'pmdarima.arima._doc', 'pmdarima.arima.utils', 'pmdarima.context_managers', 'pmdarima.arima.stationarity', 'pmdarima.decorators', 'pmdarima.arima.seasonality', 'pmdarima.arima._context', 'pmdarima.arima._auto_solvers', 'pmdarima.utils._show_versions', 'pmdarima.datasets', 'pmdarima.datasets.airpassengers', 'pmdarima.datasets.ausbeer', 'pmdarima.datasets.austres', 'pmdarima.datasets.gasoline', 'pmdarima.datasets._base', 'pmdarima.datasets.heartrate', 'pmdarima.datasets.lynx', 'pmdarima.datasets.stocks', 'pmdarima.datasets.sunspots', 'pmdarima.datasets.taylor', 'pmdarima.datasets.wineind', 'pmdarima.datasets.woolyrnq', 'pmdarima.model_selection', 'pmdarima.model_selection._split', 'pmdarima.model_selection._validation', 'pmdarima.metrics', 'pmdarima.preprocessing', 'pmdarima.preprocessing.base', 'pmdarima.preprocessing.endog', 'pmdarima.preprocessing.endog.boxcox', 'pmdarima.preprocessing.endog.base', 'pmdarima.preprocessing.endog.log', 'pmdarima.preprocessing.exog', 'pmdarima.preprocessing.exog.dates', 'pmdarima.preprocessing.exog.base', 'pmdarima.preprocessing.exog.fourier', 'pmdarima.preprocessing.exog._fourier', 'auto_ts.models.ar_based.build_var', 'sklearn.discriminant_analysis', 'xgboost', 'xgboost.core', 'xgboost.compat', 'xgboost.libpath', 'xgboost._typing', 'xgboost.training', 'xgboost.callback', 'xgboost.rabit', 'xgboost.tracker', 'xgboost.dask', 'xgboost.config', 'xgboost.data', 'xgboost.sklearn', 'xgboost.plotting', 'logging.config', 'distributed.compatibility'])"
            ]
          },
          "metadata": {},
          "execution_count": 9
        }
      ]
    },
    {
      "cell_type": "code",
      "metadata": {
        "id": "YX9b8mXobz9w"
      },
      "source": [
        "warnings.simplefilter(action='ignore')\n",
        "sys.path.append(\"../\")"
      ],
      "execution_count": null,
      "outputs": []
    },
    {
      "cell_type": "code",
      "metadata": {
        "id": "AtBGKvSabz9w"
      },
      "source": [
        "#import data file\n",
        "header = [\"date\",\"time\",\"value\"]\n",
        "df = pd.read_csv(\"EURUSD1440.csv\", usecols=range(0,3), names=header)"
      ],
      "execution_count": null,
      "outputs": []
    },
    {
      "cell_type": "code",
      "metadata": {
        "colab": {
          "base_uri": "https://localhost:8080/"
        },
        "outputId": "00e5a11a-a257-4329-b3dd-b8319f0811ac",
        "id": "bcD0Lvuabz9w"
      },
      "source": [
        "#check data file\n",
        "df.info()"
      ],
      "execution_count": null,
      "outputs": [
        {
          "output_type": "stream",
          "text": [
            "<class 'pandas.core.frame.DataFrame'>\n",
            "RangeIndex: 12702 entries, 0 to 12701\n",
            "Data columns (total 3 columns):\n",
            " #   Column  Non-Null Count  Dtype  \n",
            "---  ------  --------------  -----  \n",
            " 0   date    12702 non-null  object \n",
            " 1   time    12702 non-null  object \n",
            " 2   value   12702 non-null  float64\n",
            "dtypes: float64(1), object(2)\n",
            "memory usage: 297.8+ KB\n"
          ],
          "name": "stdout"
        }
      ]
    },
    {
      "cell_type": "code",
      "metadata": {
        "colab": {
          "base_uri": "https://localhost:8080/",
          "height": 206
        },
        "outputId": "2deff25e-1b5e-4a4e-8e81-e54cc5a144e3",
        "id": "bUaTZ7TVbz9w"
      },
      "source": [
        "df.head()"
      ],
      "execution_count": null,
      "outputs": [
        {
          "output_type": "execute_result",
          "data": {
            "text/html": [
              "<div>\n",
              "<style scoped>\n",
              "    .dataframe tbody tr th:only-of-type {\n",
              "        vertical-align: middle;\n",
              "    }\n",
              "\n",
              "    .dataframe tbody tr th {\n",
              "        vertical-align: top;\n",
              "    }\n",
              "\n",
              "    .dataframe thead th {\n",
              "        text-align: right;\n",
              "    }\n",
              "</style>\n",
              "<table border=\"1\" class=\"dataframe\">\n",
              "  <thead>\n",
              "    <tr style=\"text-align: right;\">\n",
              "      <th></th>\n",
              "      <th>date</th>\n",
              "      <th>time</th>\n",
              "      <th>value</th>\n",
              "    </tr>\n",
              "  </thead>\n",
              "  <tbody>\n",
              "    <tr>\n",
              "      <th>0</th>\n",
              "      <td>1971.01.04</td>\n",
              "      <td>00:00</td>\n",
              "      <td>0.5369</td>\n",
              "    </tr>\n",
              "    <tr>\n",
              "      <th>1</th>\n",
              "      <td>1971.01.05</td>\n",
              "      <td>00:00</td>\n",
              "      <td>0.5366</td>\n",
              "    </tr>\n",
              "    <tr>\n",
              "      <th>2</th>\n",
              "      <td>1971.01.06</td>\n",
              "      <td>00:00</td>\n",
              "      <td>0.5365</td>\n",
              "    </tr>\n",
              "    <tr>\n",
              "      <th>3</th>\n",
              "      <td>1971.01.07</td>\n",
              "      <td>00:00</td>\n",
              "      <td>0.5368</td>\n",
              "    </tr>\n",
              "    <tr>\n",
              "      <th>4</th>\n",
              "      <td>1971.01.08</td>\n",
              "      <td>00:00</td>\n",
              "      <td>0.5371</td>\n",
              "    </tr>\n",
              "  </tbody>\n",
              "</table>\n",
              "</div>"
            ],
            "text/plain": [
              "         date   time   value\n",
              "0  1971.01.04  00:00  0.5369\n",
              "1  1971.01.05  00:00  0.5366\n",
              "2  1971.01.06  00:00  0.5365\n",
              "3  1971.01.07  00:00  0.5368\n",
              "4  1971.01.08  00:00  0.5371"
            ]
          },
          "metadata": {
            "tags": []
          },
          "execution_count": 8
        }
      ]
    },
    {
      "cell_type": "code",
      "metadata": {
        "id": "nX1af2qubz9x"
      },
      "source": [
        "#pd.to_datetime\n",
        "df[\"time\"] = pd.to_datetime(df['date']+' '+df['time'])\n",
        "df_df = df[[\"time\",\"value\"]]\n",
        "df_df = df_df.tail(100)"
      ],
      "execution_count": null,
      "outputs": []
    },
    {
      "cell_type": "code",
      "metadata": {
        "colab": {
          "base_uri": "https://localhost:8080/"
        },
        "outputId": "80dfc6df-1f0e-4c32-d31f-a476458872d1",
        "id": "2-C-ChCgbz9x"
      },
      "source": [
        "#show pd.datetime applied\n",
        "df_df.info()"
      ],
      "execution_count": null,
      "outputs": [
        {
          "output_type": "stream",
          "text": [
            "<class 'pandas.core.frame.DataFrame'>\n",
            "RangeIndex: 100 entries, 12602 to 12701\n",
            "Data columns (total 2 columns):\n",
            " #   Column  Non-Null Count  Dtype         \n",
            "---  ------  --------------  -----         \n",
            " 0   time    100 non-null    datetime64[ns]\n",
            " 1   value   100 non-null    float64       \n",
            "dtypes: datetime64[ns](1), float64(1)\n",
            "memory usage: 1.7 KB\n"
          ],
          "name": "stdout"
        }
      ]
    },
    {
      "cell_type": "code",
      "metadata": {
        "colab": {
          "base_uri": "https://localhost:8080/",
          "height": 206
        },
        "outputId": "ca8876b5-66d0-4f5d-88c9-a0f2e4b3fbe8",
        "id": "NVeChtKSbz9x"
      },
      "source": [
        "df.tail()"
      ],
      "execution_count": null,
      "outputs": [
        {
          "output_type": "execute_result",
          "data": {
            "text/html": [
              "<div>\n",
              "<style scoped>\n",
              "    .dataframe tbody tr th:only-of-type {\n",
              "        vertical-align: middle;\n",
              "    }\n",
              "\n",
              "    .dataframe tbody tr th {\n",
              "        vertical-align: top;\n",
              "    }\n",
              "\n",
              "    .dataframe thead th {\n",
              "        text-align: right;\n",
              "    }\n",
              "</style>\n",
              "<table border=\"1\" class=\"dataframe\">\n",
              "  <thead>\n",
              "    <tr style=\"text-align: right;\">\n",
              "      <th></th>\n",
              "      <th>date</th>\n",
              "      <th>time</th>\n",
              "      <th>value</th>\n",
              "    </tr>\n",
              "  </thead>\n",
              "  <tbody>\n",
              "    <tr>\n",
              "      <th>12697</th>\n",
              "      <td>2021.06.30</td>\n",
              "      <td>2021-06-30</td>\n",
              "      <td>1.18968</td>\n",
              "    </tr>\n",
              "    <tr>\n",
              "      <th>12698</th>\n",
              "      <td>2021.07.01</td>\n",
              "      <td>2021-07-01</td>\n",
              "      <td>1.18547</td>\n",
              "    </tr>\n",
              "    <tr>\n",
              "      <th>12699</th>\n",
              "      <td>2021.07.02</td>\n",
              "      <td>2021-07-02</td>\n",
              "      <td>1.18488</td>\n",
              "    </tr>\n",
              "    <tr>\n",
              "      <th>12700</th>\n",
              "      <td>2021.07.05</td>\n",
              "      <td>2021-07-05</td>\n",
              "      <td>1.18590</td>\n",
              "    </tr>\n",
              "    <tr>\n",
              "      <th>12701</th>\n",
              "      <td>2021.07.06</td>\n",
              "      <td>2021-07-06</td>\n",
              "      <td>1.18597</td>\n",
              "    </tr>\n",
              "  </tbody>\n",
              "</table>\n",
              "</div>"
            ],
            "text/plain": [
              "             date       time    value\n",
              "12697  2021.06.30 2021-06-30  1.18968\n",
              "12698  2021.07.01 2021-07-01  1.18547\n",
              "12699  2021.07.02 2021-07-02  1.18488\n",
              "12700  2021.07.05 2021-07-05  1.18590\n",
              "12701  2021.07.06 2021-07-06  1.18597"
            ]
          },
          "metadata": {
            "tags": []
          },
          "execution_count": 11
        }
      ]
    },
    {
      "cell_type": "code",
      "metadata": {
        "outputId": "4fd1e567-5415-4a4d-8009-47de3b144e1e",
        "colab": {
          "base_uri": "https://localhost:8080/"
        },
        "id": "dR8C7Mdrbz9x"
      },
      "source": [
        "#construct TimeSeriesData object for each time series\n",
        "df_ts = TimeSeriesData(df_df)\n",
        "print(type(df_ts.time))\n",
        "print(type(df_ts.value))"
      ],
      "execution_count": null,
      "outputs": [
        {
          "output_type": "stream",
          "text": [
            "<class 'pandas.core.series.Series'>\n",
            "<class 'pandas.core.series.Series'>\n"
          ],
          "name": "stdout"
        }
      ]
    },
    {
      "cell_type": "code",
      "metadata": {
        "outputId": "0e8d1adb-f630-4659-a493-6057d9569f00",
        "colab": {
          "base_uri": "https://localhost:8080/",
          "height": 424
        },
        "id": "Ldvr1JOtbz9y"
      },
      "source": [
        "#plot current data\n",
        "%matplotlib inline\n",
        "#Must pass the name of the value columns to plot\n",
        "df_ts.plot(cols=['value'])\n",
        "plt.show()"
      ],
      "execution_count": null,
      "outputs": [
        {
          "output_type": "display_data",
          "data": {
            "image/png": "[encoded data removed]",
            "text/plain": [
              "<Figure size 720x432 with 1 Axes>"
            ]
          },
          "metadata": {
            "tags": []
          }
        }
      ]
    },
    {
      "cell_type": "code",
      "metadata": {
        "id": "-CFPRwtmbz9y"
      },
      "source": [
        "#examples below in case needed in the future"
      ],
      "execution_count": null,
      "outputs": []
    },
    {
      "cell_type": "code",
      "metadata": {
        "outputId": "f6641ab7-a1c8-4cf5-85c7-0062c520f5a1",
        "colab": {
          "base_uri": "https://localhost:8080/",
          "height": 206
        },
        "id": "hhD7jM48bz9y"
      },
      "source": [
        "#convert to pandas.DataFrame \n",
        "df_ts.to_dataframe().tail()"
      ],
      "execution_count": null,
      "outputs": [
        {
          "output_type": "execute_result",
          "data": {
            "text/html": [
              "<div>\n",
              "<style scoped>\n",
              "    .dataframe tbody tr th:only-of-type {\n",
              "        vertical-align: middle;\n",
              "    }\n",
              "\n",
              "    .dataframe tbody tr th {\n",
              "        vertical-align: top;\n",
              "    }\n",
              "\n",
              "    .dataframe thead th {\n",
              "        text-align: right;\n",
              "    }\n",
              "</style>\n",
              "<table border=\"1\" class=\"dataframe\">\n",
              "  <thead>\n",
              "    <tr style=\"text-align: right;\">\n",
              "      <th></th>\n",
              "      <th>time</th>\n",
              "      <th>value</th>\n",
              "    </tr>\n",
              "  </thead>\n",
              "  <tbody>\n",
              "    <tr>\n",
              "      <th>95</th>\n",
              "      <td>2021-06-30</td>\n",
              "      <td>1.18968</td>\n",
              "    </tr>\n",
              "    <tr>\n",
              "      <th>96</th>\n",
              "      <td>2021-07-01</td>\n",
              "      <td>1.18547</td>\n",
              "    </tr>\n",
              "    <tr>\n",
              "      <th>97</th>\n",
              "      <td>2021-07-02</td>\n",
              "      <td>1.18488</td>\n",
              "    </tr>\n",
              "    <tr>\n",
              "      <th>98</th>\n",
              "      <td>2021-07-05</td>\n",
              "      <td>1.18590</td>\n",
              "    </tr>\n",
              "    <tr>\n",
              "      <th>99</th>\n",
              "      <td>2021-07-06</td>\n",
              "      <td>1.18597</td>\n",
              "    </tr>\n",
              "  </tbody>\n",
              "</table>\n",
              "</div>"
            ],
            "text/plain": [
              "         time    value\n",
              "95 2021-06-30  1.18968\n",
              "96 2021-07-01  1.18547\n",
              "97 2021-07-02  1.18488\n",
              "98 2021-07-05  1.18590\n",
              "99 2021-07-06  1.18597"
            ]
          },
          "metadata": {
            "tags": []
          },
          "execution_count": 15
        }
      ]
    },
    {
      "cell_type": "code",
      "metadata": {
        "outputId": "69afe718-c5b2-4b1d-e587-2ba242b50c0f",
        "colab": {
          "base_uri": "https://localhost:8080/"
        },
        "id": "YIUNiGJMbz9y"
      },
      "source": [
        "#convert to numpy.ndarray\n",
        "df_ts.to_array()[0:5]"
      ],
      "execution_count": null,
      "outputs": [
        {
          "output_type": "execute_result",
          "data": {
            "text/plain": [
              "array([[Timestamp('2021-02-17 00:00:00'), 1.21071],\n",
              "       [Timestamp('2021-02-18 00:00:00'), 1.20394],\n",
              "       [Timestamp('2021-02-19 00:00:00'), 1.20908],\n",
              "       [Timestamp('2021-02-22 00:00:00'), 1.2114200000000002],\n",
              "       [Timestamp('2021-02-23 00:00:00'), 1.21563]], dtype=object)"
            ]
          },
          "metadata": {
            "tags": []
          },
          "execution_count": 16
        }
      ]
    },
    {
      "cell_type": "code",
      "metadata": {
        "outputId": "6298f8fe-b0d6-4d0a-b3cf-d22f35fd4217",
        "colab": {
          "base_uri": "https://localhost:8080/"
        },
        "id": "EraGi1Ubbz9z"
      },
      "source": [
        "df_ts.is_empty()"
      ],
      "execution_count": null,
      "outputs": [
        {
          "output_type": "execute_result",
          "data": {
            "text/plain": [
              "False"
            ]
          },
          "metadata": {
            "tags": []
          },
          "execution_count": 17
        }
      ]
    },
    {
      "cell_type": "code",
      "metadata": {
        "outputId": "0dfa4c7b-5164-4302-841c-d9fa106cc383",
        "colab": {
          "base_uri": "https://localhost:8080/"
        },
        "id": "3UoUzrgAbz9z"
      },
      "source": [
        "df_ts.is_univariate()"
      ],
      "execution_count": null,
      "outputs": [
        {
          "output_type": "execute_result",
          "data": {
            "text/plain": [
              "True"
            ]
          },
          "metadata": {
            "tags": []
          },
          "execution_count": 18
        }
      ]
    },
    {
      "cell_type": "code",
      "metadata": {
        "id": "iwe1lUsEcA5f"
      },
      "source": [
        "#import the param and model classes for Prophet, then LSTM model.\n",
        "from kats.models.prophet import ProphetModel, ProphetParams\n",
        "from kats.models.lstm import LSTMForecast, LSTMParams, LSTMModel\n",
        "\n",
        "# params = ProphetParams(seasonality_mode='multiplicative')\n",
        "# m = ProphetModel(eurusd15_ts, params)\n",
        "# m.fit()\n",
        "# fcst = m.predict(steps=24)\n",
        "#create a model param instance\n",
        "params = LSTMParams(hidden_size=125,time_window=25,num_epochs=250) #hidden,time_window,epoch\n",
        "#create a prophet model instance\n",
        "m=LSTMModel(df_ts, params) \n",
        "#fit model simply by calling m.fit()\n",
        "m.fit() \n",
        "#make prediction for next 0-24GMT (96 M15 periods)\n",
        "fcst = m.predict(steps=24)"
      ],
      "execution_count": null,
      "outputs": []
    },
    {
      "cell_type": "code",
      "metadata": {
        "outputId": "ab1ef17f-d84a-40d7-fdf6-c1ec68871f44",
        "colab": {
          "base_uri": "https://localhost:8080/",
          "height": 801
        },
        "id": "2IYFYiSQcA5g"
      },
      "source": [
        "\n",
        "fcst.head(100)"
      ],
      "execution_count": null,
      "outputs": [
        {
          "output_type": "execute_result",
          "data": {
            "text/html": [
              "<div>\n",
              "<style scoped>\n",
              "    .dataframe tbody tr th:only-of-type {\n",
              "        vertical-align: middle;\n",
              "    }\n",
              "\n",
              "    .dataframe tbody tr th {\n",
              "        vertical-align: top;\n",
              "    }\n",
              "\n",
              "    .dataframe thead th {\n",
              "        text-align: right;\n",
              "    }\n",
              "</style>\n",
              "<table border=\"1\" class=\"dataframe\">\n",
              "  <thead>\n",
              "    <tr style=\"text-align: right;\">\n",
              "      <th></th>\n",
              "      <th>time</th>\n",
              "      <th>fcst</th>\n",
              "      <th>fcst_lower</th>\n",
              "      <th>fcst_upper</th>\n",
              "    </tr>\n",
              "  </thead>\n",
              "  <tbody>\n",
              "    <tr>\n",
              "      <th>0</th>\n",
              "      <td>2021-07-07</td>\n",
              "      <td>1.184067</td>\n",
              "      <td>1.124864</td>\n",
              "      <td>1.243271</td>\n",
              "    </tr>\n",
              "    <tr>\n",
              "      <th>1</th>\n",
              "      <td>2021-07-08</td>\n",
              "      <td>1.185195</td>\n",
              "      <td>1.125936</td>\n",
              "      <td>1.244455</td>\n",
              "    </tr>\n",
              "    <tr>\n",
              "      <th>2</th>\n",
              "      <td>2021-07-09</td>\n",
              "      <td>1.187904</td>\n",
              "      <td>1.128509</td>\n",
              "      <td>1.247299</td>\n",
              "    </tr>\n",
              "    <tr>\n",
              "      <th>3</th>\n",
              "      <td>2021-07-12</td>\n",
              "      <td>1.189508</td>\n",
              "      <td>1.130033</td>\n",
              "      <td>1.248984</td>\n",
              "    </tr>\n",
              "    <tr>\n",
              "      <th>4</th>\n",
              "      <td>2021-07-13</td>\n",
              "      <td>1.191079</td>\n",
              "      <td>1.131525</td>\n",
              "      <td>1.250633</td>\n",
              "    </tr>\n",
              "    <tr>\n",
              "      <th>5</th>\n",
              "      <td>2021-07-14</td>\n",
              "      <td>1.192925</td>\n",
              "      <td>1.133279</td>\n",
              "      <td>1.252572</td>\n",
              "    </tr>\n",
              "    <tr>\n",
              "      <th>6</th>\n",
              "      <td>2021-07-15</td>\n",
              "      <td>1.194686</td>\n",
              "      <td>1.134952</td>\n",
              "      <td>1.254420</td>\n",
              "    </tr>\n",
              "    <tr>\n",
              "      <th>7</th>\n",
              "      <td>2021-07-16</td>\n",
              "      <td>1.196675</td>\n",
              "      <td>1.136841</td>\n",
              "      <td>1.256508</td>\n",
              "    </tr>\n",
              "    <tr>\n",
              "      <th>8</th>\n",
              "      <td>2021-07-19</td>\n",
              "      <td>1.198686</td>\n",
              "      <td>1.138752</td>\n",
              "      <td>1.258621</td>\n",
              "    </tr>\n",
              "    <tr>\n",
              "      <th>9</th>\n",
              "      <td>2021-07-20</td>\n",
              "      <td>1.201065</td>\n",
              "      <td>1.141012</td>\n",
              "      <td>1.261119</td>\n",
              "    </tr>\n",
              "    <tr>\n",
              "      <th>10</th>\n",
              "      <td>2021-07-21</td>\n",
              "      <td>1.202564</td>\n",
              "      <td>1.142436</td>\n",
              "      <td>1.262693</td>\n",
              "    </tr>\n",
              "    <tr>\n",
              "      <th>11</th>\n",
              "      <td>2021-07-22</td>\n",
              "      <td>1.203032</td>\n",
              "      <td>1.142880</td>\n",
              "      <td>1.263183</td>\n",
              "    </tr>\n",
              "    <tr>\n",
              "      <th>12</th>\n",
              "      <td>2021-07-23</td>\n",
              "      <td>1.203704</td>\n",
              "      <td>1.143519</td>\n",
              "      <td>1.263890</td>\n",
              "    </tr>\n",
              "    <tr>\n",
              "      <th>13</th>\n",
              "      <td>2021-07-26</td>\n",
              "      <td>1.205551</td>\n",
              "      <td>1.145273</td>\n",
              "      <td>1.265828</td>\n",
              "    </tr>\n",
              "    <tr>\n",
              "      <th>14</th>\n",
              "      <td>2021-07-27</td>\n",
              "      <td>1.207454</td>\n",
              "      <td>1.147081</td>\n",
              "      <td>1.267827</td>\n",
              "    </tr>\n",
              "    <tr>\n",
              "      <th>15</th>\n",
              "      <td>2021-07-28</td>\n",
              "      <td>1.209300</td>\n",
              "      <td>1.148835</td>\n",
              "      <td>1.269765</td>\n",
              "    </tr>\n",
              "    <tr>\n",
              "      <th>16</th>\n",
              "      <td>2021-07-29</td>\n",
              "      <td>1.211219</td>\n",
              "      <td>1.150658</td>\n",
              "      <td>1.271780</td>\n",
              "    </tr>\n",
              "    <tr>\n",
              "      <th>17</th>\n",
              "      <td>2021-07-30</td>\n",
              "      <td>1.211250</td>\n",
              "      <td>1.150687</td>\n",
              "      <td>1.271812</td>\n",
              "    </tr>\n",
              "    <tr>\n",
              "      <th>18</th>\n",
              "      <td>2021-08-02</td>\n",
              "      <td>1.207802</td>\n",
              "      <td>1.147412</td>\n",
              "      <td>1.268192</td>\n",
              "    </tr>\n",
              "    <tr>\n",
              "      <th>19</th>\n",
              "      <td>2021-08-03</td>\n",
              "      <td>1.205385</td>\n",
              "      <td>1.145116</td>\n",
              "      <td>1.265654</td>\n",
              "    </tr>\n",
              "    <tr>\n",
              "      <th>20</th>\n",
              "      <td>2021-08-04</td>\n",
              "      <td>1.202597</td>\n",
              "      <td>1.142467</td>\n",
              "      <td>1.262727</td>\n",
              "    </tr>\n",
              "    <tr>\n",
              "      <th>21</th>\n",
              "      <td>2021-08-05</td>\n",
              "      <td>1.203566</td>\n",
              "      <td>1.143388</td>\n",
              "      <td>1.263744</td>\n",
              "    </tr>\n",
              "    <tr>\n",
              "      <th>22</th>\n",
              "      <td>2021-08-06</td>\n",
              "      <td>1.207156</td>\n",
              "      <td>1.146798</td>\n",
              "      <td>1.267514</td>\n",
              "    </tr>\n",
              "    <tr>\n",
              "      <th>23</th>\n",
              "      <td>2021-08-09</td>\n",
              "      <td>1.207969</td>\n",
              "      <td>1.147570</td>\n",
              "      <td>1.268367</td>\n",
              "    </tr>\n",
              "  </tbody>\n",
              "</table>\n",
              "</div>"
            ],
            "text/plain": [
              "         time      fcst  fcst_lower  fcst_upper\n",
              "0  2021-07-07  1.184067    1.124864    1.243271\n",
              "1  2021-07-08  1.185195    1.125936    1.244455\n",
              "2  2021-07-09  1.187904    1.128509    1.247299\n",
              "3  2021-07-12  1.189508    1.130033    1.248984\n",
              "4  2021-07-13  1.191079    1.131525    1.250633\n",
              "5  2021-07-14  1.192925    1.133279    1.252572\n",
              "6  2021-07-15  1.194686    1.134952    1.254420\n",
              "7  2021-07-16  1.196675    1.136841    1.256508\n",
              "8  2021-07-19  1.198686    1.138752    1.258621\n",
              "9  2021-07-20  1.201065    1.141012    1.261119\n",
              "10 2021-07-21  1.202564    1.142436    1.262693\n",
              "11 2021-07-22  1.203032    1.142880    1.263183\n",
              "12 2021-07-23  1.203704    1.143519    1.263890\n",
              "13 2021-07-26  1.205551    1.145273    1.265828\n",
              "14 2021-07-27  1.207454    1.147081    1.267827\n",
              "15 2021-07-28  1.209300    1.148835    1.269765\n",
              "16 2021-07-29  1.211219    1.150658    1.271780\n",
              "17 2021-07-30  1.211250    1.150687    1.271812\n",
              "18 2021-08-02  1.207802    1.147412    1.268192\n",
              "19 2021-08-03  1.205385    1.145116    1.265654\n",
              "20 2021-08-04  1.202597    1.142467    1.262727\n",
              "21 2021-08-05  1.203566    1.143388    1.263744\n",
              "22 2021-08-06  1.207156    1.146798    1.267514\n",
              "23 2021-08-09  1.207969    1.147570    1.268367"
            ]
          },
          "metadata": {
            "tags": []
          },
          "execution_count": 21
        }
      ]
    },
    {
      "cell_type": "code",
      "metadata": {
        "outputId": "387b1b39-86d1-4f52-8d73-6ccea2126f5a",
        "colab": {
          "base_uri": "https://localhost:8080/",
          "height": 441
        },
        "id": "Cc922JBrcA5g"
      },
      "source": [
        "m.plot()\n",
        "# pd.plotting.register_matplotlib_converters()\n",
        "# %matplotlib inline\n",
        "\n",
        "# fig = m.plot()\n",
        "# plt.xlim('2021-01-05 00:00:00','2021-12-06 12:00:00')\n",
        "# plt.ylim(1.16,1.23)"
      ],
      "execution_count": null,
      "outputs": [
        {
          "output_type": "display_data",
          "data": {
            "image/png": "[encoded data removed]",
            "text/plain": [
              "<Figure size 720x432 with 1 Axes>"
            ]
          },
          "metadata": {
            "tags": []
          }
        }
      ]
    },
    {
      "cell_type": "code",
      "metadata": {
        "id": "x4sQdPgEcA5h"
      },
      "source": [
        "# #try CUSUM\n",
        "# import numpy as np\n",
        "\n",
        "# from kats.consts import TimeSeriesData\n",
        "# from kats.detectors.cusum_detection import CUSUMDetector\n",
        "\n",
        "# #changepoints\n",
        "# change_points = CUSUMDetector(eurusd15_ts).detector()\n",
        "# change_points.plot()\n",
        " "
      ],
      "execution_count": null,
      "outputs": []
    },
    {
      "cell_type": "code",
      "metadata": {
        "id": "IOcJEiL7cA5h"
      },
      "source": [
        "#do the below after ensemble"
      ],
      "execution_count": null,
      "outputs": []
    },
    {
      "cell_type": "code",
      "metadata": {
        "id": "kdzvmpTTcA5h"
      },
      "source": [
        "# #preprocessing complete, start model\n",
        "# from kats.consts import TimeSeriesData\n",
        "# eurusd15_ts = TimeSeriesData(eurusd15_df)"
      ],
      "execution_count": null,
      "outputs": []
    },
    {
      "cell_type": "code",
      "metadata": {
        "id": "SEKWpDjXcA5h"
      },
      "source": [
        "# #GetMetaData\n",
        "# from kats.models.metalearner.get_metadata import GetMetaData\n",
        "# MD = GetMetaData(data = eurusd15_ts)"
      ],
      "execution_count": null,
      "outputs": []
    }
  ]
}